{
 "cells": [
  {
   "cell_type": "code",
   "id": "initial_id",
   "metadata": {
    "collapsed": true,
    "ExecuteTime": {
     "end_time": "2024-07-31T09:44:04.003166Z",
     "start_time": "2024-07-31T09:44:03.988408Z"
    }
   },
   "source": [
    "import pandas as pd\n",
    "import numpy as np\n",
    "import pymssql\n",
    "import mysql.connector"
   ],
   "outputs": [],
   "execution_count": 40
  },
  {
   "metadata": {
    "ExecuteTime": {
     "end_time": "2024-07-31T09:44:15.507478Z",
     "start_time": "2024-07-31T09:44:06.952714Z"
    }
   },
   "cell_type": "code",
   "source": [
    "# 从sqlserver中获取数据\n",
    "query = 'SELECT studentid, school, sex, age, famsize, medu AS mothereducation, fedu AS fathereducation, traveltime, studytime, failures, famrel, freetime, goout, g1 AS gradeperiod1, g2 AS gradeperiod2, g3 AS gradeperiod3 FROM studentmath'\n",
    "server = \"pdcc.c9sqqzd5fulv.us-west-2.rds.amazonaws.com\"\n",
    "user = \"pdccuser\"\n",
    "password = \"pdccpass\"\n",
    "database = \"pdcctest\"\n",
    "conn = pymssql.connect(server=server, user=user, password=password, database=database)\n",
    "studentmath = pd.read_sql(query, conn)\n",
    "conn.close()"
   ],
   "id": "89f1ffd7262a372f",
   "outputs": [],
   "execution_count": 41
  },
  {
   "metadata": {
    "ExecuteTime": {
     "end_time": "2024-07-31T09:44:16.756307Z",
     "start_time": "2024-07-31T09:44:16.740319Z"
    }
   },
   "cell_type": "code",
   "source": "studentmath.dtypes",
   "id": "a6739334311daada",
   "outputs": [
    {
     "data": {
      "text/plain": [
       "studentid          object\n",
       "school             object\n",
       "sex                object\n",
       "age                 int64\n",
       "famsize            object\n",
       "mothereducation     int64\n",
       "fathereducation     int64\n",
       "traveltime          int64\n",
       "studytime           int64\n",
       "failures            int64\n",
       "famrel              int64\n",
       "freetime            int64\n",
       "goout               int64\n",
       "gradeperiod1        int64\n",
       "gradeperiod2        int64\n",
       "gradeperiod3        int64\n",
       "dtype: object"
      ]
     },
     "execution_count": 42,
     "metadata": {},
     "output_type": "execute_result"
    }
   ],
   "execution_count": 42
  },
  {
   "metadata": {
    "ExecuteTime": {
     "end_time": "2024-07-31T09:44:20.340596Z",
     "start_time": "2024-07-31T09:44:20.320215Z"
    }
   },
   "cell_type": "code",
   "source": "studentmath.head()",
   "id": "990872beea393498",
   "outputs": [
    {
     "data": {
      "text/plain": [
       "  studentid school sex  age famsize  mothereducation  fathereducation  \\\n",
       "0       001     GP   F   18     GT3                4                4   \n",
       "1       002     GP   F   17     GT3                1                1   \n",
       "2       003     GP   F   15     LE3                1                1   \n",
       "3       004     GP   F   15     GT3                4                2   \n",
       "4       005     GP   F   16     GT3                3                3   \n",
       "\n",
       "   traveltime  studytime  failures  famrel  freetime  goout  gradeperiod1  \\\n",
       "0           2          2         0       4         3      4             5   \n",
       "1           1          2         0       5         3      3             5   \n",
       "2           1          2         3       4         3      2             7   \n",
       "3           1          3         0       3         2      2            15   \n",
       "4           1          2         0       4         3      2             6   \n",
       "\n",
       "   gradeperiod2  gradeperiod3  \n",
       "0             6             6  \n",
       "1             5             6  \n",
       "2             8            10  \n",
       "3            14            15  \n",
       "4            10            10  "
      ],
      "text/html": [
       "<div>\n",
       "<style scoped>\n",
       "    .dataframe tbody tr th:only-of-type {\n",
       "        vertical-align: middle;\n",
       "    }\n",
       "\n",
       "    .dataframe tbody tr th {\n",
       "        vertical-align: top;\n",
       "    }\n",
       "\n",
       "    .dataframe thead th {\n",
       "        text-align: right;\n",
       "    }\n",
       "</style>\n",
       "<table border=\"1\" class=\"dataframe\">\n",
       "  <thead>\n",
       "    <tr style=\"text-align: right;\">\n",
       "      <th></th>\n",
       "      <th>studentid</th>\n",
       "      <th>school</th>\n",
       "      <th>sex</th>\n",
       "      <th>age</th>\n",
       "      <th>famsize</th>\n",
       "      <th>mothereducation</th>\n",
       "      <th>fathereducation</th>\n",
       "      <th>traveltime</th>\n",
       "      <th>studytime</th>\n",
       "      <th>failures</th>\n",
       "      <th>famrel</th>\n",
       "      <th>freetime</th>\n",
       "      <th>goout</th>\n",
       "      <th>gradeperiod1</th>\n",
       "      <th>gradeperiod2</th>\n",
       "      <th>gradeperiod3</th>\n",
       "    </tr>\n",
       "  </thead>\n",
       "  <tbody>\n",
       "    <tr>\n",
       "      <th>0</th>\n",
       "      <td>001</td>\n",
       "      <td>GP</td>\n",
       "      <td>F</td>\n",
       "      <td>18</td>\n",
       "      <td>GT3</td>\n",
       "      <td>4</td>\n",
       "      <td>4</td>\n",
       "      <td>2</td>\n",
       "      <td>2</td>\n",
       "      <td>0</td>\n",
       "      <td>4</td>\n",
       "      <td>3</td>\n",
       "      <td>4</td>\n",
       "      <td>5</td>\n",
       "      <td>6</td>\n",
       "      <td>6</td>\n",
       "    </tr>\n",
       "    <tr>\n",
       "      <th>1</th>\n",
       "      <td>002</td>\n",
       "      <td>GP</td>\n",
       "      <td>F</td>\n",
       "      <td>17</td>\n",
       "      <td>GT3</td>\n",
       "      <td>1</td>\n",
       "      <td>1</td>\n",
       "      <td>1</td>\n",
       "      <td>2</td>\n",
       "      <td>0</td>\n",
       "      <td>5</td>\n",
       "      <td>3</td>\n",
       "      <td>3</td>\n",
       "      <td>5</td>\n",
       "      <td>5</td>\n",
       "      <td>6</td>\n",
       "    </tr>\n",
       "    <tr>\n",
       "      <th>2</th>\n",
       "      <td>003</td>\n",
       "      <td>GP</td>\n",
       "      <td>F</td>\n",
       "      <td>15</td>\n",
       "      <td>LE3</td>\n",
       "      <td>1</td>\n",
       "      <td>1</td>\n",
       "      <td>1</td>\n",
       "      <td>2</td>\n",
       "      <td>3</td>\n",
       "      <td>4</td>\n",
       "      <td>3</td>\n",
       "      <td>2</td>\n",
       "      <td>7</td>\n",
       "      <td>8</td>\n",
       "      <td>10</td>\n",
       "    </tr>\n",
       "    <tr>\n",
       "      <th>3</th>\n",
       "      <td>004</td>\n",
       "      <td>GP</td>\n",
       "      <td>F</td>\n",
       "      <td>15</td>\n",
       "      <td>GT3</td>\n",
       "      <td>4</td>\n",
       "      <td>2</td>\n",
       "      <td>1</td>\n",
       "      <td>3</td>\n",
       "      <td>0</td>\n",
       "      <td>3</td>\n",
       "      <td>2</td>\n",
       "      <td>2</td>\n",
       "      <td>15</td>\n",
       "      <td>14</td>\n",
       "      <td>15</td>\n",
       "    </tr>\n",
       "    <tr>\n",
       "      <th>4</th>\n",
       "      <td>005</td>\n",
       "      <td>GP</td>\n",
       "      <td>F</td>\n",
       "      <td>16</td>\n",
       "      <td>GT3</td>\n",
       "      <td>3</td>\n",
       "      <td>3</td>\n",
       "      <td>1</td>\n",
       "      <td>2</td>\n",
       "      <td>0</td>\n",
       "      <td>4</td>\n",
       "      <td>3</td>\n",
       "      <td>2</td>\n",
       "      <td>6</td>\n",
       "      <td>10</td>\n",
       "      <td>10</td>\n",
       "    </tr>\n",
       "  </tbody>\n",
       "</table>\n",
       "</div>"
      ]
     },
     "execution_count": 43,
     "metadata": {},
     "output_type": "execute_result"
    }
   ],
   "execution_count": 43
  },
  {
   "metadata": {},
   "cell_type": "markdown",
   "source": "默认打印5行",
   "id": "6f3dd5f02bdf3b80"
  },
  {
   "metadata": {
    "ExecuteTime": {
     "end_time": "2024-07-31T09:44:31.425096Z",
     "start_time": "2024-07-31T09:44:26.291875Z"
    }
   },
   "cell_type": "code",
   "source": [
    "# 从mysql中获取数据\n",
    "host = \"pdccmysql.c9sqqzd5fulv.us-west-2.rds.amazonaws.com\"\n",
    "user = user\n",
    "password = password\n",
    "database = \"pdccschema\"\n",
    "conn_mysql = mysql.connector.connect(host=host, user=user, password=password, database=database)\n",
    "studentmath = pd.read_sql(query, conn_mysql)\n",
    "conn_mysql.close()\n",
    "studentmath.head()"
   ],
   "id": "9255734c92b71d7",
   "outputs": [
    {
     "data": {
      "text/plain": [
       "  studentid school sex  age famsize  mothereducation  fathereducation  \\\n",
       "0       001     GP   F   18     GT3                4                4   \n",
       "1       002     GP   F   17     GT3                1                1   \n",
       "2       003     GP   F   15     LE3                1                1   \n",
       "3       004     GP   F   15     GT3                4                2   \n",
       "4       005     GP   F   16     GT3                3                3   \n",
       "\n",
       "   traveltime  studytime  failures  famrel  freetime  goout  gradeperiod1  \\\n",
       "0           2          2         0       4         3      4             5   \n",
       "1           1          2         0       5         3      3             5   \n",
       "2           1          2         3       4         3      2             7   \n",
       "3           1          3         0       3         2      2            15   \n",
       "4           1          2         0       4         3      2             6   \n",
       "\n",
       "   gradeperiod2  gradeperiod3  \n",
       "0             6             6  \n",
       "1             5             6  \n",
       "2             8            10  \n",
       "3            14            15  \n",
       "4            10            10  "
      ],
      "text/html": [
       "<div>\n",
       "<style scoped>\n",
       "    .dataframe tbody tr th:only-of-type {\n",
       "        vertical-align: middle;\n",
       "    }\n",
       "\n",
       "    .dataframe tbody tr th {\n",
       "        vertical-align: top;\n",
       "    }\n",
       "\n",
       "    .dataframe thead th {\n",
       "        text-align: right;\n",
       "    }\n",
       "</style>\n",
       "<table border=\"1\" class=\"dataframe\">\n",
       "  <thead>\n",
       "    <tr style=\"text-align: right;\">\n",
       "      <th></th>\n",
       "      <th>studentid</th>\n",
       "      <th>school</th>\n",
       "      <th>sex</th>\n",
       "      <th>age</th>\n",
       "      <th>famsize</th>\n",
       "      <th>mothereducation</th>\n",
       "      <th>fathereducation</th>\n",
       "      <th>traveltime</th>\n",
       "      <th>studytime</th>\n",
       "      <th>failures</th>\n",
       "      <th>famrel</th>\n",
       "      <th>freetime</th>\n",
       "      <th>goout</th>\n",
       "      <th>gradeperiod1</th>\n",
       "      <th>gradeperiod2</th>\n",
       "      <th>gradeperiod3</th>\n",
       "    </tr>\n",
       "  </thead>\n",
       "  <tbody>\n",
       "    <tr>\n",
       "      <th>0</th>\n",
       "      <td>001</td>\n",
       "      <td>GP</td>\n",
       "      <td>F</td>\n",
       "      <td>18</td>\n",
       "      <td>GT3</td>\n",
       "      <td>4</td>\n",
       "      <td>4</td>\n",
       "      <td>2</td>\n",
       "      <td>2</td>\n",
       "      <td>0</td>\n",
       "      <td>4</td>\n",
       "      <td>3</td>\n",
       "      <td>4</td>\n",
       "      <td>5</td>\n",
       "      <td>6</td>\n",
       "      <td>6</td>\n",
       "    </tr>\n",
       "    <tr>\n",
       "      <th>1</th>\n",
       "      <td>002</td>\n",
       "      <td>GP</td>\n",
       "      <td>F</td>\n",
       "      <td>17</td>\n",
       "      <td>GT3</td>\n",
       "      <td>1</td>\n",
       "      <td>1</td>\n",
       "      <td>1</td>\n",
       "      <td>2</td>\n",
       "      <td>0</td>\n",
       "      <td>5</td>\n",
       "      <td>3</td>\n",
       "      <td>3</td>\n",
       "      <td>5</td>\n",
       "      <td>5</td>\n",
       "      <td>6</td>\n",
       "    </tr>\n",
       "    <tr>\n",
       "      <th>2</th>\n",
       "      <td>003</td>\n",
       "      <td>GP</td>\n",
       "      <td>F</td>\n",
       "      <td>15</td>\n",
       "      <td>LE3</td>\n",
       "      <td>1</td>\n",
       "      <td>1</td>\n",
       "      <td>1</td>\n",
       "      <td>2</td>\n",
       "      <td>3</td>\n",
       "      <td>4</td>\n",
       "      <td>3</td>\n",
       "      <td>2</td>\n",
       "      <td>7</td>\n",
       "      <td>8</td>\n",
       "      <td>10</td>\n",
       "    </tr>\n",
       "    <tr>\n",
       "      <th>3</th>\n",
       "      <td>004</td>\n",
       "      <td>GP</td>\n",
       "      <td>F</td>\n",
       "      <td>15</td>\n",
       "      <td>GT3</td>\n",
       "      <td>4</td>\n",
       "      <td>2</td>\n",
       "      <td>1</td>\n",
       "      <td>3</td>\n",
       "      <td>0</td>\n",
       "      <td>3</td>\n",
       "      <td>2</td>\n",
       "      <td>2</td>\n",
       "      <td>15</td>\n",
       "      <td>14</td>\n",
       "      <td>15</td>\n",
       "    </tr>\n",
       "    <tr>\n",
       "      <th>4</th>\n",
       "      <td>005</td>\n",
       "      <td>GP</td>\n",
       "      <td>F</td>\n",
       "      <td>16</td>\n",
       "      <td>GT3</td>\n",
       "      <td>3</td>\n",
       "      <td>3</td>\n",
       "      <td>1</td>\n",
       "      <td>2</td>\n",
       "      <td>0</td>\n",
       "      <td>4</td>\n",
       "      <td>3</td>\n",
       "      <td>2</td>\n",
       "      <td>6</td>\n",
       "      <td>10</td>\n",
       "      <td>10</td>\n",
       "    </tr>\n",
       "  </tbody>\n",
       "</table>\n",
       "</div>"
      ]
     },
     "execution_count": 44,
     "metadata": {},
     "output_type": "execute_result"
    }
   ],
   "execution_count": 44
  },
  {
   "metadata": {
    "ExecuteTime": {
     "end_time": "2024-07-31T09:44:57.439773Z",
     "start_time": "2024-07-31T09:44:57.425369Z"
    }
   },
   "cell_type": "code",
   "source": [
    "# 只能运行一次，第二次时studentid已经被删除，再转化为index, studentmath[newColOrder]会引发keyError\n",
    "newColOrder = ['studentid', 'gradeperiod1', 'gradeperiod2', 'gradeperiod3', 'school', 'sex', 'age', 'famsize', 'mothereducation', 'fathereducation', 'traveltime', 'studytime', 'freetime', 'failures', 'famrel', 'goout']\n",
    "studentmath = studentmath[newColOrder]\n",
    "# 确认studentid值唯一\n",
    "studentmath.studentid.count()"
   ],
   "id": "e7e8cc40f9971244",
   "outputs": [
    {
     "data": {
      "text/plain": [
       "395"
      ]
     },
     "execution_count": 46,
     "metadata": {},
     "output_type": "execute_result"
    }
   ],
   "execution_count": 46
  },
  {
   "metadata": {
    "ExecuteTime": {
     "end_time": "2024-07-31T09:45:12.532893Z",
     "start_time": "2024-07-31T09:45:12.520279Z"
    }
   },
   "cell_type": "code",
   "source": "studentmath.studentid.nunique()",
   "id": "b7650749b32600fd",
   "outputs": [
    {
     "data": {
      "text/plain": [
       "395"
      ]
     },
     "execution_count": 47,
     "metadata": {},
     "output_type": "execute_result"
    }
   ],
   "execution_count": 47
  },
  {
   "metadata": {
    "ExecuteTime": {
     "end_time": "2024-07-31T09:45:15.147979Z",
     "start_time": "2024-07-31T09:45:15.129068Z"
    }
   },
   "cell_type": "code",
   "source": [
    "# 设置Index, 只能运行一次\n",
    "studentmath.set_index('studentid', inplace=True)"
   ],
   "id": "e144180780e31233",
   "outputs": [],
   "execution_count": 48
  },
  {
   "metadata": {
    "ExecuteTime": {
     "end_time": "2024-07-31T09:14:16.275652Z",
     "start_time": "2024-07-31T09:14:16.263862Z"
    }
   },
   "cell_type": "code",
   "source": "studentmath.columns",
   "id": "1219f147dda81e4",
   "outputs": [
    {
     "data": {
      "text/plain": [
       "Index(['gradeperiod1', 'gradeperiod2', 'gradeperiod3', 'school', 'sex', 'age',\n",
       "       'famsize', 'mothereducation', 'fathereducation', 'traveltime',\n",
       "       'studytime', 'freetime', 'failures', 'famrel', 'goout'],\n",
       "      dtype='object')"
      ]
     },
     "execution_count": 26,
     "metadata": {},
     "output_type": "execute_result"
    }
   ],
   "execution_count": 26
  },
  {
   "metadata": {
    "ExecuteTime": {
     "end_time": "2024-07-31T09:45:29.138977Z",
     "start_time": "2024-07-31T09:45:29.119262Z"
    }
   },
   "cell_type": "code",
   "source": "studentmath.count()",
   "id": "ca78f99464d44359",
   "outputs": [
    {
     "data": {
      "text/plain": [
       "gradeperiod1       395\n",
       "gradeperiod2       395\n",
       "gradeperiod3       395\n",
       "school             395\n",
       "sex                395\n",
       "age                395\n",
       "famsize            395\n",
       "mothereducation    395\n",
       "fathereducation    395\n",
       "traveltime         395\n",
       "studytime          395\n",
       "freetime           395\n",
       "failures           395\n",
       "famrel             395\n",
       "goout              395\n",
       "dtype: int64"
      ]
     },
     "execution_count": 49,
     "metadata": {},
     "output_type": "execute_result"
    }
   ],
   "execution_count": 49
  },
  {
   "metadata": {
    "ExecuteTime": {
     "end_time": "2024-07-31T09:45:33.087140Z",
     "start_time": "2024-07-31T09:45:33.066124Z"
    }
   },
   "cell_type": "code",
   "source": [
    "# 替换成有意义的数据\n",
    "setvalues={\n",
    "    \"famrel\":{\n",
    "        1:\"1:very bad\", 2:\"2:bad\", 3:\"3:neutral\", 4:\"4:good\", 5:\"5:excellent\"\n",
    "    },\n",
    "    \"freetime\":{\n",
    "        1:\"1:very low\", 2:\"2:low\", 3:\"3:neutral\", 4:\"4:high\", 5:\"5:very high\"\n",
    "    },\n",
    "    \"goout\": {\n",
    "        1:\"1:very low\", 2:\"2:low\", 3:\"3:neutral\", 4:\"4:high\", 5:\"5:very high\"\n",
    "    },\n",
    "    \"mothereducation\":{\n",
    "        0:np.nan, 1:\"1:k-4\", 2:\"2:5-9\", 3:\"3:secondary ed\", 4:\"4:higher ed\"\n",
    "    },\n",
    "    \"fathereducation\":{\n",
    "        0:np.nan, 1:\"1:k-4\", 2:\"2:5-9\", 3:\"3:secondary ed\", 4:\"4:higher ed\"\n",
    "    }\n",
    "}\n",
    "studentmath.replace(setvalues, inplace=True)\n",
    "setvalueskeys = [k for k in setvalues] # 字典中的键作为一个列表"
   ],
   "id": "8097b186233577df",
   "outputs": [],
   "execution_count": 50
  },
  {
   "metadata": {
    "ExecuteTime": {
     "end_time": "2024-07-31T09:45:35.977050Z",
     "start_time": "2024-07-31T09:45:35.950172Z"
    }
   },
   "cell_type": "code",
   "source": [
    "# 查看内存使用情况\n",
    "studentmath[setvalueskeys].memory_usage(index=False)"
   ],
   "id": "ed56cded272859e7",
   "outputs": [
    {
     "data": {
      "text/plain": [
       "famrel             3160\n",
       "freetime           3160\n",
       "goout              3160\n",
       "mothereducation    3160\n",
       "fathereducation    3160\n",
       "dtype: int64"
      ]
     },
     "execution_count": 51,
     "metadata": {},
     "output_type": "execute_result"
    }
   ],
   "execution_count": 51
  },
  {
   "metadata": {
    "ExecuteTime": {
     "end_time": "2024-07-31T09:45:39.619289Z",
     "start_time": "2024-07-31T09:45:39.599616Z"
    }
   },
   "cell_type": "code",
   "source": [
    "for col in studentmath[setvalueskeys].columns:\n",
    "    studentmath[col] = studentmath[col].astype('category')         # 上一单元中已修改的列，其类型改为category\n",
    "# 再查看内存使用\n",
    "studentmath[setvalueskeys].memory_usage(index=False)"
   ],
   "id": "cf4ad67e8f128c58",
   "outputs": [
    {
     "data": {
      "text/plain": [
       "famrel             595\n",
       "freetime           595\n",
       "goout              595\n",
       "mothereducation    587\n",
       "fathereducation    587\n",
       "dtype: int64"
      ]
     },
     "execution_count": 52,
     "metadata": {},
     "output_type": "execute_result"
    }
   ],
   "execution_count": 52
  },
  {
   "metadata": {},
   "cell_type": "markdown",
   "source": "改变数据类型后，内存使用量大大减少",
   "id": "ee1c6442b00b0154"
  },
  {
   "metadata": {
    "ExecuteTime": {
     "end_time": "2024-07-31T09:45:44.411074Z",
     "start_time": "2024-07-31T09:45:44.392193Z"
    }
   },
   "cell_type": "code",
   "source": [
    "# 所占百分比\n",
    "studentmath['famrel'].value_counts(sort=False, normalize=True)"
   ],
   "id": "fa35310389c45aec",
   "outputs": [
    {
     "data": {
      "text/plain": [
       "1:very bad     0.020253\n",
       "2:bad          0.045570\n",
       "3:neutral      0.172152\n",
       "4:good         0.493671\n",
       "5:excellent    0.268354\n",
       "Name: famrel, dtype: float64"
      ]
     },
     "execution_count": 53,
     "metadata": {},
     "output_type": "execute_result"
    }
   ],
   "execution_count": 53
  },
  {
   "metadata": {
    "ExecuteTime": {
     "end_time": "2024-07-31T09:46:20.421152Z",
     "start_time": "2024-07-31T09:46:20.407999Z"
    }
   },
   "cell_type": "code",
   "source": [
    "# 所占百分比\n",
    "studentmath['famrel'].value_counts()"
   ],
   "id": "d139b0995817dcc2",
   "outputs": [
    {
     "data": {
      "text/plain": [
       "4:good         195\n",
       "5:excellent    106\n",
       "3:neutral       68\n",
       "2:bad           18\n",
       "1:very bad       8\n",
       "Name: famrel, dtype: int64"
      ]
     },
     "execution_count": 56,
     "metadata": {},
     "output_type": "execute_result"
    }
   ],
   "execution_count": 56
  },
  {
   "metadata": {
    "ExecuteTime": {
     "end_time": "2024-07-31T09:46:34.447067Z",
     "start_time": "2024-07-31T09:46:34.431241Z"
    }
   },
   "cell_type": "code",
   "source": [
    "# 所占百分比\n",
    "studentmath['famrel'].value_counts(normalize=True)"
   ],
   "id": "3402275b82a6160b",
   "outputs": [
    {
     "data": {
      "text/plain": [
       "4:good         0.493671\n",
       "5:excellent    0.268354\n",
       "3:neutral      0.172152\n",
       "2:bad          0.045570\n",
       "1:very bad     0.020253\n",
       "Name: famrel, dtype: float64"
      ]
     },
     "execution_count": 57,
     "metadata": {},
     "output_type": "execute_result"
    }
   ],
   "execution_count": 57
  },
  {
   "metadata": {
    "ExecuteTime": {
     "end_time": "2024-07-31T09:45:47.327750Z",
     "start_time": "2024-07-31T09:45:47.311343Z"
    }
   },
   "cell_type": "code",
   "source": [
    "# 多个列所占百分比\n",
    "studentmath[['freetime', 'goout']].apply(pd.Series.value_counts, sort=False, normalize=True)"
   ],
   "id": "b66c5772096cb29a",
   "outputs": [
    {
     "data": {
      "text/plain": [
       "             freetime     goout\n",
       "1:very low   0.048101  0.058228\n",
       "2:low        0.162025  0.260759\n",
       "3:neutral    0.397468  0.329114\n",
       "4:high       0.291139  0.217722\n",
       "5:very high  0.101266  0.134177"
      ],
      "text/html": [
       "<div>\n",
       "<style scoped>\n",
       "    .dataframe tbody tr th:only-of-type {\n",
       "        vertical-align: middle;\n",
       "    }\n",
       "\n",
       "    .dataframe tbody tr th {\n",
       "        vertical-align: top;\n",
       "    }\n",
       "\n",
       "    .dataframe thead th {\n",
       "        text-align: right;\n",
       "    }\n",
       "</style>\n",
       "<table border=\"1\" class=\"dataframe\">\n",
       "  <thead>\n",
       "    <tr style=\"text-align: right;\">\n",
       "      <th></th>\n",
       "      <th>freetime</th>\n",
       "      <th>goout</th>\n",
       "    </tr>\n",
       "  </thead>\n",
       "  <tbody>\n",
       "    <tr>\n",
       "      <th>1:very low</th>\n",
       "      <td>0.048101</td>\n",
       "      <td>0.058228</td>\n",
       "    </tr>\n",
       "    <tr>\n",
       "      <th>2:low</th>\n",
       "      <td>0.162025</td>\n",
       "      <td>0.260759</td>\n",
       "    </tr>\n",
       "    <tr>\n",
       "      <th>3:neutral</th>\n",
       "      <td>0.397468</td>\n",
       "      <td>0.329114</td>\n",
       "    </tr>\n",
       "    <tr>\n",
       "      <th>4:high</th>\n",
       "      <td>0.291139</td>\n",
       "      <td>0.217722</td>\n",
       "    </tr>\n",
       "    <tr>\n",
       "      <th>5:very high</th>\n",
       "      <td>0.101266</td>\n",
       "      <td>0.134177</td>\n",
       "    </tr>\n",
       "  </tbody>\n",
       "</table>\n",
       "</div>"
      ]
     },
     "execution_count": 54,
     "metadata": {},
     "output_type": "execute_result"
    }
   ],
   "execution_count": 54
  },
  {
   "metadata": {},
   "cell_type": "code",
   "outputs": [],
   "execution_count": null,
   "source": "",
   "id": "97a0050795c110c1"
  }
 ],
 "metadata": {
  "kernelspec": {
   "display_name": "Python 3",
   "language": "python",
   "name": "python3"
  },
  "language_info": {
   "codemirror_mode": {
    "name": "ipython",
    "version": 2
   },
   "file_extension": ".py",
   "mimetype": "text/x-python",
   "name": "python",
   "nbconvert_exporter": "python",
   "pygments_lexer": "ipython2",
   "version": "2.7.6"
  }
 },
 "nbformat": 4,
 "nbformat_minor": 5
}
