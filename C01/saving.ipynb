{
 "cells": [
  {
   "cell_type": "code",
   "id": "initial_id",
   "metadata": {
    "collapsed": true,
    "ExecuteTime": {
     "end_time": "2024-08-01T01:54:57.356588Z",
     "start_time": "2024-08-01T01:54:56.733384Z"
    }
   },
   "source": [
    "# 将DataFrame保存为Feather, Pickle, CSV, Excel文件\n",
    "import pandas as pd\n",
    "import pyarrow"
   ],
   "outputs": [],
   "execution_count": 1
  },
  {
   "metadata": {
    "ExecuteTime": {
     "end_time": "2024-08-01T01:58:22.139102Z",
     "start_time": "2024-08-01T01:58:18.885968Z"
    }
   },
   "cell_type": "code",
   "source": [
    "landtemps = pd.read_csv('C:\\dataClean\\Python-Data-Cleaning-Cookbook\\Chapter01\\data\\landtempssample.csv',\n",
    "                        names=['stationid','year','month','avgtemp','latitude','longitude','elevation','station','countryid','country'],\n",
    "                        skiprows=1,\n",
    "                        parse_dates=[['month', 'year']],\n",
    "                        low_memory=False)\n",
    "landtemps.rename(columns={'month_year':'measuredate'}, inplace=True)\n",
    "landtemps.dropna(subset=['avgtemp'], inplace=True)"
   ],
   "id": "ec9081c650ca1913",
   "outputs": [],
   "execution_count": 2
  },
  {
   "metadata": {
    "ExecuteTime": {
     "end_time": "2024-08-01T02:01:32.538950Z",
     "start_time": "2024-08-01T02:01:32.528024Z"
    }
   },
   "cell_type": "code",
   "source": "landtemps.dtypes",
   "id": "f99cfe8ee73af7c8",
   "outputs": [
    {
     "data": {
      "text/plain": [
       "avgtemp      float64\n",
       "latitude     float64\n",
       "longitude    float64\n",
       "elevation    float64\n",
       "station       object\n",
       "countryid     object\n",
       "country       object\n",
       "dtype: object"
      ]
     },
     "execution_count": 7,
     "metadata": {},
     "output_type": "execute_result"
    }
   ],
   "execution_count": 7
  },
  {
   "metadata": {
    "ExecuteTime": {
     "end_time": "2024-08-01T02:01:40.256445Z",
     "start_time": "2024-08-01T02:01:40.248141Z"
    }
   },
   "cell_type": "code",
   "source": "landtemps.shape",
   "id": "dc6eb68489aac4a3",
   "outputs": [
    {
     "data": {
      "text/plain": [
       "(85554, 7)"
      ]
     },
     "execution_count": 8,
     "metadata": {},
     "output_type": "execute_result"
    }
   ],
   "execution_count": 8
  },
  {
   "metadata": {
    "ExecuteTime": {
     "end_time": "2024-08-01T01:58:55.300394Z",
     "start_time": "2024-08-01T01:58:55.250139Z"
    }
   },
   "cell_type": "code",
   "source": "landtemps.set_index(['measuredate', 'stationid'], inplace=True)",
   "id": "12a84d53a44eaa97",
   "outputs": [],
   "execution_count": 4
  },
  {
   "metadata": {
    "ExecuteTime": {
     "end_time": "2024-08-01T02:00:59.206901Z",
     "start_time": "2024-08-01T02:00:59.193244Z"
    }
   },
   "cell_type": "code",
   "source": [
    "extremevals = landtemps[(landtemps.avgtemp < landtemps.avgtemp.quantile(.001)) | (landtemps.avgtemp > landtemps.avgtemp.quantile(.999))]\n",
    "extremevals.shape"
   ],
   "id": "bbbcf6edbb321b62",
   "outputs": [
    {
     "data": {
      "text/plain": [
       "(171, 7)"
      ]
     },
     "execution_count": 5,
     "metadata": {},
     "output_type": "execute_result"
    }
   ],
   "execution_count": 5
  },
  {
   "metadata": {
    "ExecuteTime": {
     "end_time": "2024-08-01T02:02:08.009875Z",
     "start_time": "2024-08-01T02:02:07.986899Z"
    }
   },
   "cell_type": "code",
   "source": "extremevals.sample(7)",
   "id": "bea73b575387c8e9",
   "outputs": [
    {
     "data": {
      "text/plain": [
       "                         avgtemp  latitude  longitude  elevation     station  \\\n",
       "measuredate stationid                                                          \n",
       "1998-01-01  RSM00024606   -39.12   63.5800   103.9700      209.0    KISLOKAN   \n",
       "1943-12-01  RSM00024266   -48.18   67.5667   133.4000      136.0  VERHOJANSK   \n",
       "2003-04-01  CD000004700    34.86   12.1300    15.0300      295.0    NDJAMENA   \n",
       "2018-09-01  AYM00089606   -63.35  -78.4500   106.8670     3488.0      VOSTOK   \n",
       "1994-07-01  QAM00041170    35.58   25.2610    51.5650       10.7   DOHA_INTL   \n",
       "1960-12-01  RSM00024641   -37.42   63.7831   121.6167      110.0    VILJUJSK   \n",
       "1963-08-01  SUM00062660    34.98   18.5500    31.8500      249.0      KARIMA   \n",
       "\n",
       "                        countryid     country  \n",
       "measuredate stationid                          \n",
       "1998-01-01  RSM00024606        RS      Russia  \n",
       "1943-12-01  RSM00024266        RS      Russia  \n",
       "2003-04-01  CD000004700        CD        Chad  \n",
       "2018-09-01  AYM00089606        AY  Antarctica  \n",
       "1994-07-01  QAM00041170        QA       Qatar  \n",
       "1960-12-01  RSM00024641        RS      Russia  \n",
       "1963-08-01  SUM00062660        SU       Sudan  "
      ],
      "text/html": [
       "<div>\n",
       "<style scoped>\n",
       "    .dataframe tbody tr th:only-of-type {\n",
       "        vertical-align: middle;\n",
       "    }\n",
       "\n",
       "    .dataframe tbody tr th {\n",
       "        vertical-align: top;\n",
       "    }\n",
       "\n",
       "    .dataframe thead th {\n",
       "        text-align: right;\n",
       "    }\n",
       "</style>\n",
       "<table border=\"1\" class=\"dataframe\">\n",
       "  <thead>\n",
       "    <tr style=\"text-align: right;\">\n",
       "      <th></th>\n",
       "      <th></th>\n",
       "      <th>avgtemp</th>\n",
       "      <th>latitude</th>\n",
       "      <th>longitude</th>\n",
       "      <th>elevation</th>\n",
       "      <th>station</th>\n",
       "      <th>countryid</th>\n",
       "      <th>country</th>\n",
       "    </tr>\n",
       "    <tr>\n",
       "      <th>measuredate</th>\n",
       "      <th>stationid</th>\n",
       "      <th></th>\n",
       "      <th></th>\n",
       "      <th></th>\n",
       "      <th></th>\n",
       "      <th></th>\n",
       "      <th></th>\n",
       "      <th></th>\n",
       "    </tr>\n",
       "  </thead>\n",
       "  <tbody>\n",
       "    <tr>\n",
       "      <th>1998-01-01</th>\n",
       "      <th>RSM00024606</th>\n",
       "      <td>-39.12</td>\n",
       "      <td>63.5800</td>\n",
       "      <td>103.9700</td>\n",
       "      <td>209.0</td>\n",
       "      <td>KISLOKAN</td>\n",
       "      <td>RS</td>\n",
       "      <td>Russia</td>\n",
       "    </tr>\n",
       "    <tr>\n",
       "      <th>1943-12-01</th>\n",
       "      <th>RSM00024266</th>\n",
       "      <td>-48.18</td>\n",
       "      <td>67.5667</td>\n",
       "      <td>133.4000</td>\n",
       "      <td>136.0</td>\n",
       "      <td>VERHOJANSK</td>\n",
       "      <td>RS</td>\n",
       "      <td>Russia</td>\n",
       "    </tr>\n",
       "    <tr>\n",
       "      <th>2003-04-01</th>\n",
       "      <th>CD000004700</th>\n",
       "      <td>34.86</td>\n",
       "      <td>12.1300</td>\n",
       "      <td>15.0300</td>\n",
       "      <td>295.0</td>\n",
       "      <td>NDJAMENA</td>\n",
       "      <td>CD</td>\n",
       "      <td>Chad</td>\n",
       "    </tr>\n",
       "    <tr>\n",
       "      <th>2018-09-01</th>\n",
       "      <th>AYM00089606</th>\n",
       "      <td>-63.35</td>\n",
       "      <td>-78.4500</td>\n",
       "      <td>106.8670</td>\n",
       "      <td>3488.0</td>\n",
       "      <td>VOSTOK</td>\n",
       "      <td>AY</td>\n",
       "      <td>Antarctica</td>\n",
       "    </tr>\n",
       "    <tr>\n",
       "      <th>1994-07-01</th>\n",
       "      <th>QAM00041170</th>\n",
       "      <td>35.58</td>\n",
       "      <td>25.2610</td>\n",
       "      <td>51.5650</td>\n",
       "      <td>10.7</td>\n",
       "      <td>DOHA_INTL</td>\n",
       "      <td>QA</td>\n",
       "      <td>Qatar</td>\n",
       "    </tr>\n",
       "    <tr>\n",
       "      <th>1960-12-01</th>\n",
       "      <th>RSM00024641</th>\n",
       "      <td>-37.42</td>\n",
       "      <td>63.7831</td>\n",
       "      <td>121.6167</td>\n",
       "      <td>110.0</td>\n",
       "      <td>VILJUJSK</td>\n",
       "      <td>RS</td>\n",
       "      <td>Russia</td>\n",
       "    </tr>\n",
       "    <tr>\n",
       "      <th>1963-08-01</th>\n",
       "      <th>SUM00062660</th>\n",
       "      <td>34.98</td>\n",
       "      <td>18.5500</td>\n",
       "      <td>31.8500</td>\n",
       "      <td>249.0</td>\n",
       "      <td>KARIMA</td>\n",
       "      <td>SU</td>\n",
       "      <td>Sudan</td>\n",
       "    </tr>\n",
       "  </tbody>\n",
       "</table>\n",
       "</div>"
      ]
     },
     "execution_count": 9,
     "metadata": {},
     "output_type": "execute_result"
    }
   ],
   "execution_count": 9
  },
  {
   "metadata": {
    "ExecuteTime": {
     "end_time": "2024-08-01T02:08:16.996531Z",
     "start_time": "2024-08-01T02:08:16.891725Z"
    }
   },
   "cell_type": "code",
   "source": [
    "# saving\n",
    "extremevals.to_excel('views/extremevals.xlsx')\n",
    "extremevals.to_csv('views/extremevals.csv')\n",
    "landtemps.to_pickle('views/landtemps.pkl')"
   ],
   "id": "da706c2e174d5322",
   "outputs": [],
   "execution_count": 15
  },
  {
   "metadata": {
    "ExecuteTime": {
     "end_time": "2024-08-01T02:09:12.905012Z",
     "start_time": "2024-08-01T02:09:12.840351Z"
    }
   },
   "cell_type": "code",
   "source": [
    "# 保存为feather文件时候需要重置索引\n",
    "landtemps.reset_index(inplace=True)\n",
    "landtemps.to_feather('views/landtemps.feather')"
   ],
   "id": "f166e90a3cfc3f3a",
   "outputs": [],
   "execution_count": 16
  },
  {
   "metadata": {
    "ExecuteTime": {
     "end_time": "2024-08-01T02:11:09.681145Z",
     "start_time": "2024-08-01T02:11:09.642552Z"
    }
   },
   "cell_type": "code",
   "source": [
    "# reloading\n",
    "landp = pd.read_pickle('views/landtemps.pkl')\n",
    "landp.head(2)                                    # 保留了之前的索引"
   ],
   "id": "eee69236c492ef9e",
   "outputs": [
    {
     "data": {
      "text/plain": [
       "                         avgtemp  latitude  longitude  elevation  \\\n",
       "measuredate stationid                                              \n",
       "2000-04-01  USS0010K01S     5.27     39.90   -110.750     2773.7   \n",
       "1940-05-01  CI000085406    18.04    -18.35    -70.333       58.0   \n",
       "\n",
       "                               station countryid        country  \n",
       "measuredate stationid                                            \n",
       "2000-04-01  USS0010K01S  INDIAN_CANYON        US  United States  \n",
       "1940-05-01  CI000085406          ARICA        CI          Chile  "
      ],
      "text/html": [
       "<div>\n",
       "<style scoped>\n",
       "    .dataframe tbody tr th:only-of-type {\n",
       "        vertical-align: middle;\n",
       "    }\n",
       "\n",
       "    .dataframe tbody tr th {\n",
       "        vertical-align: top;\n",
       "    }\n",
       "\n",
       "    .dataframe thead th {\n",
       "        text-align: right;\n",
       "    }\n",
       "</style>\n",
       "<table border=\"1\" class=\"dataframe\">\n",
       "  <thead>\n",
       "    <tr style=\"text-align: right;\">\n",
       "      <th></th>\n",
       "      <th></th>\n",
       "      <th>avgtemp</th>\n",
       "      <th>latitude</th>\n",
       "      <th>longitude</th>\n",
       "      <th>elevation</th>\n",
       "      <th>station</th>\n",
       "      <th>countryid</th>\n",
       "      <th>country</th>\n",
       "    </tr>\n",
       "    <tr>\n",
       "      <th>measuredate</th>\n",
       "      <th>stationid</th>\n",
       "      <th></th>\n",
       "      <th></th>\n",
       "      <th></th>\n",
       "      <th></th>\n",
       "      <th></th>\n",
       "      <th></th>\n",
       "      <th></th>\n",
       "    </tr>\n",
       "  </thead>\n",
       "  <tbody>\n",
       "    <tr>\n",
       "      <th>2000-04-01</th>\n",
       "      <th>USS0010K01S</th>\n",
       "      <td>5.27</td>\n",
       "      <td>39.90</td>\n",
       "      <td>-110.750</td>\n",
       "      <td>2773.7</td>\n",
       "      <td>INDIAN_CANYON</td>\n",
       "      <td>US</td>\n",
       "      <td>United States</td>\n",
       "    </tr>\n",
       "    <tr>\n",
       "      <th>1940-05-01</th>\n",
       "      <th>CI000085406</th>\n",
       "      <td>18.04</td>\n",
       "      <td>-18.35</td>\n",
       "      <td>-70.333</td>\n",
       "      <td>58.0</td>\n",
       "      <td>ARICA</td>\n",
       "      <td>CI</td>\n",
       "      <td>Chile</td>\n",
       "    </tr>\n",
       "  </tbody>\n",
       "</table>\n",
       "</div>"
      ]
     },
     "execution_count": 18,
     "metadata": {},
     "output_type": "execute_result"
    }
   ],
   "execution_count": 18
  },
  {
   "metadata": {
    "ExecuteTime": {
     "end_time": "2024-08-01T02:11:14.366268Z",
     "start_time": "2024-08-01T02:11:14.334808Z"
    }
   },
   "cell_type": "code",
   "source": "landp.head(2).T",
   "id": "aa5241dfb796f8e9",
   "outputs": [
    {
     "data": {
      "text/plain": [
       "measuredate     2000-04-01  1940-05-01\n",
       "stationid      USS0010K01S CI000085406\n",
       "avgtemp               5.27      18.040\n",
       "latitude             39.90     -18.350\n",
       "longitude          -110.75     -70.333\n",
       "elevation          2773.70      58.000\n",
       "station      INDIAN_CANYON       ARICA\n",
       "countryid               US          CI\n",
       "country      United States       Chile"
      ],
      "text/html": [
       "<div>\n",
       "<style scoped>\n",
       "    .dataframe tbody tr th:only-of-type {\n",
       "        vertical-align: middle;\n",
       "    }\n",
       "\n",
       "    .dataframe tbody tr th {\n",
       "        vertical-align: top;\n",
       "    }\n",
       "\n",
       "    .dataframe thead tr th {\n",
       "        text-align: left;\n",
       "    }\n",
       "</style>\n",
       "<table border=\"1\" class=\"dataframe\">\n",
       "  <thead>\n",
       "    <tr>\n",
       "      <th>measuredate</th>\n",
       "      <th>2000-04-01</th>\n",
       "      <th>1940-05-01</th>\n",
       "    </tr>\n",
       "    <tr>\n",
       "      <th>stationid</th>\n",
       "      <th>USS0010K01S</th>\n",
       "      <th>CI000085406</th>\n",
       "    </tr>\n",
       "  </thead>\n",
       "  <tbody>\n",
       "    <tr>\n",
       "      <th>avgtemp</th>\n",
       "      <td>5.27</td>\n",
       "      <td>18.040</td>\n",
       "    </tr>\n",
       "    <tr>\n",
       "      <th>latitude</th>\n",
       "      <td>39.90</td>\n",
       "      <td>-18.350</td>\n",
       "    </tr>\n",
       "    <tr>\n",
       "      <th>longitude</th>\n",
       "      <td>-110.75</td>\n",
       "      <td>-70.333</td>\n",
       "    </tr>\n",
       "    <tr>\n",
       "      <th>elevation</th>\n",
       "      <td>2773.70</td>\n",
       "      <td>58.000</td>\n",
       "    </tr>\n",
       "    <tr>\n",
       "      <th>station</th>\n",
       "      <td>INDIAN_CANYON</td>\n",
       "      <td>ARICA</td>\n",
       "    </tr>\n",
       "    <tr>\n",
       "      <th>countryid</th>\n",
       "      <td>US</td>\n",
       "      <td>CI</td>\n",
       "    </tr>\n",
       "    <tr>\n",
       "      <th>country</th>\n",
       "      <td>United States</td>\n",
       "      <td>Chile</td>\n",
       "    </tr>\n",
       "  </tbody>\n",
       "</table>\n",
       "</div>"
      ]
     },
     "execution_count": 19,
     "metadata": {},
     "output_type": "execute_result"
    }
   ],
   "execution_count": 19
  },
  {
   "metadata": {
    "ExecuteTime": {
     "end_time": "2024-08-01T02:11:55.566647Z",
     "start_time": "2024-08-01T02:11:55.498496Z"
    }
   },
   "cell_type": "code",
   "source": [
    "landf = pd.read_feather('views/landtemps.feather')\n",
    "landf.head(2).T"
   ],
   "id": "6b5b8ac4334db19c",
   "outputs": [
    {
     "data": {
      "text/plain": [
       "                               0                    1\n",
       "measuredate  2000-04-01 00:00:00  1940-05-01 00:00:00\n",
       "stationid            USS0010K01S          CI000085406\n",
       "avgtemp                     5.27               18.040\n",
       "latitude                   39.90              -18.350\n",
       "longitude                -110.75              -70.333\n",
       "elevation                2773.70               58.000\n",
       "station            INDIAN_CANYON                ARICA\n",
       "countryid                     US                   CI\n",
       "country            United States                Chile"
      ],
      "text/html": [
       "<div>\n",
       "<style scoped>\n",
       "    .dataframe tbody tr th:only-of-type {\n",
       "        vertical-align: middle;\n",
       "    }\n",
       "\n",
       "    .dataframe tbody tr th {\n",
       "        vertical-align: top;\n",
       "    }\n",
       "\n",
       "    .dataframe thead th {\n",
       "        text-align: right;\n",
       "    }\n",
       "</style>\n",
       "<table border=\"1\" class=\"dataframe\">\n",
       "  <thead>\n",
       "    <tr style=\"text-align: right;\">\n",
       "      <th></th>\n",
       "      <th>0</th>\n",
       "      <th>1</th>\n",
       "    </tr>\n",
       "  </thead>\n",
       "  <tbody>\n",
       "    <tr>\n",
       "      <th>measuredate</th>\n",
       "      <td>2000-04-01 00:00:00</td>\n",
       "      <td>1940-05-01 00:00:00</td>\n",
       "    </tr>\n",
       "    <tr>\n",
       "      <th>stationid</th>\n",
       "      <td>USS0010K01S</td>\n",
       "      <td>CI000085406</td>\n",
       "    </tr>\n",
       "    <tr>\n",
       "      <th>avgtemp</th>\n",
       "      <td>5.27</td>\n",
       "      <td>18.040</td>\n",
       "    </tr>\n",
       "    <tr>\n",
       "      <th>latitude</th>\n",
       "      <td>39.90</td>\n",
       "      <td>-18.350</td>\n",
       "    </tr>\n",
       "    <tr>\n",
       "      <th>longitude</th>\n",
       "      <td>-110.75</td>\n",
       "      <td>-70.333</td>\n",
       "    </tr>\n",
       "    <tr>\n",
       "      <th>elevation</th>\n",
       "      <td>2773.70</td>\n",
       "      <td>58.000</td>\n",
       "    </tr>\n",
       "    <tr>\n",
       "      <th>station</th>\n",
       "      <td>INDIAN_CANYON</td>\n",
       "      <td>ARICA</td>\n",
       "    </tr>\n",
       "    <tr>\n",
       "      <th>countryid</th>\n",
       "      <td>US</td>\n",
       "      <td>CI</td>\n",
       "    </tr>\n",
       "    <tr>\n",
       "      <th>country</th>\n",
       "      <td>United States</td>\n",
       "      <td>Chile</td>\n",
       "    </tr>\n",
       "  </tbody>\n",
       "</table>\n",
       "</div>"
      ]
     },
     "execution_count": 20,
     "metadata": {},
     "output_type": "execute_result"
    }
   ],
   "execution_count": 20
  },
  {
   "metadata": {},
   "cell_type": "markdown",
   "source": "保存为什么类型的文件进行共享：因实际而异",
   "id": "9944e34c2ddfd136"
  }
 ],
 "metadata": {
  "kernelspec": {
   "display_name": "Python 3",
   "language": "python",
   "name": "python3"
  },
  "language_info": {
   "codemirror_mode": {
    "name": "ipython",
    "version": 2
   },
   "file_extension": ".py",
   "mimetype": "text/x-python",
   "name": "python",
   "nbconvert_exporter": "python",
   "pygments_lexer": "ipython2",
   "version": "2.7.6"
  }
 },
 "nbformat": 4,
 "nbformat_minor": 5
}
