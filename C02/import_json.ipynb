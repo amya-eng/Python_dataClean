{
 "cells": [
  {
   "cell_type": "code",
   "id": "initial_id",
   "metadata": {
    "collapsed": true,
    "ExecuteTime": {
     "end_time": "2024-08-01T05:22:15.717892Z",
     "start_time": "2024-08-01T05:22:13.652350Z"
    }
   },
   "source": [
    "import pandas as pd\n",
    "import numpy as np\n",
    "import json\n",
    "import pprint\n",
    "from collections import Counter"
   ],
   "outputs": [],
   "execution_count": 4
  },
  {
   "metadata": {
    "ExecuteTime": {
     "end_time": "2024-08-01T02:40:19.156821Z",
     "start_time": "2024-08-01T02:40:18.950567Z"
    }
   },
   "cell_type": "code",
   "source": [
    "with open('C:\\dataClean\\Python-Data-Cleaning-Cookbook\\Chapter02\\data\\\\allcandidatenewssample.json') as f:\n",
    "    candidatenews = json.load(f)"
   ],
   "id": "a7f319f35e2a4993",
   "outputs": [],
   "execution_count": 29
  },
  {
   "metadata": {
    "ExecuteTime": {
     "end_time": "2024-08-01T02:40:19.768292Z",
     "start_time": "2024-08-01T02:40:19.746980Z"
    }
   },
   "cell_type": "code",
   "source": "len(candidatenews)",
   "id": "97d900e9fdc45ea3",
   "outputs": [
    {
     "data": {
      "text/plain": [
       "60000"
      ]
     },
     "execution_count": 30,
     "metadata": {},
     "output_type": "execute_result"
    }
   ],
   "execution_count": 30
  },
  {
   "metadata": {
    "ExecuteTime": {
     "end_time": "2024-08-01T02:40:20.467449Z",
     "start_time": "2024-08-01T02:40:20.452717Z"
    }
   },
   "cell_type": "code",
   "source": "pprint.pprint(candidatenews[0:2])",
   "id": "9ac79a013ef0d198",
   "outputs": [
    {
     "name": "stdout",
     "output_type": "stream",
     "text": [
      "[{'date': '2019-12-25 10:00:00',\n",
      "  'domain': 'www.nbcnews.com',\n",
      "  'panel_position': 1,\n",
      "  'query': 'Michael Bloomberg',\n",
      "  'source': 'NBC News',\n",
      "  'story_position': 6,\n",
      "  'time': '18 hours ago',\n",
      "  'title': 'Bloomberg cuts ties with company using prison inmates to make '\n",
      "           'campaign calls',\n",
      "  'url': 'https://www.nbcnews.com/politics/2020-election/bloomberg-cuts-ties-company-using-prison-inmates-make-campaign-calls-n1106971'},\n",
      " {'date': '2019-11-09 08:00:00',\n",
      "  'domain': 'www.townandcountrymag.com',\n",
      "  'panel_position': 1,\n",
      "  'query': 'Amy Klobuchar',\n",
      "  'source': 'Town & Country Magazine',\n",
      "  'story_position': 3,\n",
      "  'time': '18 hours ago',\n",
      "  'title': \"Democratic Candidates React to Michael Bloomberg's Potential Run\",\n",
      "  'url': 'https://www.townandcountrymag.com/society/politics/a29739854/michael-bloomberg-democratic-candidates-campaign-reactions/'}]\n"
     ]
    }
   ],
   "execution_count": 31
  },
  {
   "metadata": {
    "ExecuteTime": {
     "end_time": "2024-08-01T02:40:21.235433Z",
     "start_time": "2024-08-01T02:40:21.218339Z"
    }
   },
   "cell_type": "code",
   "source": "pprint.pprint(candidatenews[0]['source'])",
   "id": "9e8a164ff7ed8dc2",
   "outputs": [
    {
     "name": "stdout",
     "output_type": "stream",
     "text": [
      "'NBC News'\n"
     ]
    }
   ],
   "execution_count": 32
  },
  {
   "metadata": {
    "ExecuteTime": {
     "end_time": "2024-08-01T02:40:21.969677Z",
     "start_time": "2024-08-01T02:40:21.952687Z"
    }
   },
   "cell_type": "code",
   "source": "Counter([len(item) for item in candidatenews])",
   "id": "d6602d90c519465d",
   "outputs": [
    {
     "data": {
      "text/plain": [
       "Counter({9: 57202, 2: 2382, 10: 416})"
      ]
     },
     "execution_count": 33,
     "metadata": {},
     "output_type": "execute_result"
    }
   ],
   "execution_count": 33
  },
  {
   "metadata": {
    "ExecuteTime": {
     "end_time": "2024-08-01T02:40:22.619751Z",
     "start_time": "2024-08-01T02:40:22.608227Z"
    }
   },
   "cell_type": "code",
   "source": "pprint.pprint(next(item for item in candidatenews if len(item) < 9))",
   "id": "f371367274df29be",
   "outputs": [
    {
     "name": "stdout",
     "output_type": "stream",
     "text": [
      "{'date': '2019-09-11 18:00:00', 'reason': 'Not collected'}\n"
     ]
    }
   ],
   "execution_count": 34
  },
  {
   "metadata": {
    "ExecuteTime": {
     "end_time": "2024-08-01T02:40:23.260247Z",
     "start_time": "2024-08-01T02:40:23.247727Z"
    }
   },
   "cell_type": "code",
   "source": "pprint.pprint(next(item for item in candidatenews if len(item) > 9))",
   "id": "954981c90097ce49",
   "outputs": [
    {
     "name": "stdout",
     "output_type": "stream",
     "text": [
      "{'category': 'Satire',\n",
      " 'date': '2019-08-21 04:00:00',\n",
      " 'domain': 'politics.theonion.com',\n",
      " 'panel_position': 1,\n",
      " 'query': 'John Hickenlooper',\n",
      " 'source': 'Politics | The Onion',\n",
      " 'story_position': 8,\n",
      " 'time': '4 days ago',\n",
      " 'title': '‘And Then There Were 23,’ Says Wayne Messam Crossing Out '\n",
      "          'Hickenlooper Photo \\n'\n",
      "          'In Elaborate Grid Of Rivals',\n",
      " 'url': 'https://politics.theonion.com/and-then-there-were-23-says-wayne-messam-crossing-ou-1837311060'}\n"
     ]
    }
   ],
   "execution_count": 35
  },
  {
   "metadata": {
    "ExecuteTime": {
     "end_time": "2024-08-01T02:40:23.930449Z",
     "start_time": "2024-08-01T02:40:23.904781Z"
    }
   },
   "cell_type": "code",
   "source": "pprint.pprint([item for item in candidatenews if len(item) == 2][0:10])",
   "id": "ddcd167288f3346c",
   "outputs": [
    {
     "name": "stdout",
     "output_type": "stream",
     "text": [
      "[{'date': '2019-09-11 18:00:00', 'reason': 'Not collected'},\n",
      " {'date': '2019-07-24 00:00:00', 'reason': 'No Top stories'},\n",
      " {'date': '2019-08-19 20:00:00', 'reason': 'Not collected'},\n",
      " {'date': '2019-09-13 16:00:00', 'reason': 'Not collected'},\n",
      " {'date': '2019-10-16 20:00:00', 'reason': 'No Top stories'},\n",
      " {'date': '2019-10-17 18:00:00', 'reason': 'Not collected'},\n",
      " {'date': '2019-08-02 14:00:00', 'reason': 'Not collected'},\n",
      " {'date': '2019-05-27 12:00:00', 'reason': 'Not collected'},\n",
      " {'date': '2019-12-03 12:00:00', 'reason': 'No Top stories'},\n",
      " {'date': '2019-01-03 00:00:00', 'reason': 'No Top stories'}]\n"
     ]
    }
   ],
   "execution_count": 36
  },
  {
   "metadata": {
    "ExecuteTime": {
     "end_time": "2024-08-01T02:40:24.664377Z",
     "start_time": "2024-08-01T02:40:24.645424Z"
    }
   },
   "cell_type": "code",
   "source": "candidatenews = [item for item in candidatenews if len(item) > 2]",
   "id": "6cb207642fd1d211",
   "outputs": [],
   "execution_count": 37
  },
  {
   "metadata": {
    "ExecuteTime": {
     "end_time": "2024-08-01T02:40:25.403371Z",
     "start_time": "2024-08-01T02:40:25.392353Z"
    }
   },
   "cell_type": "code",
   "source": "len(candidatenews)",
   "id": "3d2488ca3a09d86c",
   "outputs": [
    {
     "data": {
      "text/plain": [
       "57618"
      ]
     },
     "execution_count": 38,
     "metadata": {},
     "output_type": "execute_result"
    }
   ],
   "execution_count": 38
  },
  {
   "metadata": {
    "ExecuteTime": {
     "end_time": "2024-08-01T02:40:26.088833Z",
     "start_time": "2024-08-01T02:40:26.060138Z"
    }
   },
   "cell_type": "code",
   "source": [
    "# 生成计数\n",
    "politico = [item for item in candidatenews if item['source'] == 'Politico']\n",
    "len(politico)"
   ],
   "id": "af7ce517ec17ff84",
   "outputs": [
    {
     "data": {
      "text/plain": [
       "2732"
      ]
     },
     "execution_count": 39,
     "metadata": {},
     "output_type": "execute_result"
    }
   ],
   "execution_count": 39
  },
  {
   "metadata": {
    "ExecuteTime": {
     "end_time": "2024-08-01T02:40:26.802418Z",
     "start_time": "2024-08-01T02:40:26.786833Z"
    }
   },
   "cell_type": "code",
   "source": "pprint.pprint(politico[0:2])",
   "id": "6bc3a9351ae1fe15",
   "outputs": [
    {
     "name": "stdout",
     "output_type": "stream",
     "text": [
      "[{'date': '2019-05-18 18:00:00',\n",
      "  'domain': 'www.politico.com',\n",
      "  'panel_position': 1,\n",
      "  'query': 'Marianne Williamson',\n",
      "  'source': 'Politico',\n",
      "  'story_position': 7,\n",
      "  'time': '1 week ago',\n",
      "  'title': 'Marianne Williamson reaches donor threshold for Dem debates',\n",
      "  'url': 'https://www.politico.com/story/2019/05/09/marianne-williamson-2020-election-1315133'},\n",
      " {'date': '2018-12-27 06:00:00',\n",
      "  'domain': 'www.politico.com',\n",
      "  'panel_position': 1,\n",
      "  'query': 'Julian Castro',\n",
      "  'source': 'Politico',\n",
      "  'story_position': 1,\n",
      "  'time': '1 hour ago',\n",
      "  'title': \"O'Rourke and Castro on collision course in Texas\",\n",
      "  'url': 'https://www.politico.com/story/2018/12/27/orourke-julian-castro-collision-texas-election-1073720'}]\n"
     ]
    }
   ],
   "execution_count": 40
  },
  {
   "metadata": {
    "ExecuteTime": {
     "end_time": "2024-08-01T02:40:27.498398Z",
     "start_time": "2024-08-01T02:40:27.466263Z"
    }
   },
   "cell_type": "code",
   "source": [
    "# 获取source数据\n",
    "sources = [item['source'] for item in candidatenews]\n",
    "len(sources)"
   ],
   "id": "e158210b51c050ae",
   "outputs": [
    {
     "data": {
      "text/plain": [
       "57618"
      ]
     },
     "execution_count": 41,
     "metadata": {},
     "output_type": "execute_result"
    }
   ],
   "execution_count": 41
  },
  {
   "metadata": {
    "ExecuteTime": {
     "end_time": "2024-08-01T02:40:28.136789Z",
     "start_time": "2024-08-01T02:40:28.121446Z"
    }
   },
   "cell_type": "code",
   "source": "type(sources)",
   "id": "691deb37eb908f70",
   "outputs": [
    {
     "data": {
      "text/plain": [
       "list"
      ]
     },
     "execution_count": 42,
     "metadata": {},
     "output_type": "execute_result"
    }
   ],
   "execution_count": 42
  },
  {
   "metadata": {
    "ExecuteTime": {
     "end_time": "2024-08-01T02:40:28.698161Z",
     "start_time": "2024-08-01T02:40:28.682774Z"
    }
   },
   "cell_type": "code",
   "source": "sources[0:5]",
   "id": "9a4c43907b905907",
   "outputs": [
    {
     "data": {
      "text/plain": [
       "['NBC News', 'Town & Country Magazine', 'TheHill', 'CNBC.com', 'Fox News']"
      ]
     },
     "execution_count": 43,
     "metadata": {},
     "output_type": "execute_result"
    }
   ],
   "execution_count": 43
  },
  {
   "metadata": {
    "ExecuteTime": {
     "end_time": "2024-08-01T02:40:29.444112Z",
     "start_time": "2024-08-01T02:40:29.416148Z"
    }
   },
   "cell_type": "code",
   "source": "pprint.pprint(Counter(sources).most_common(10))",
   "id": "6b431da18f803a5",
   "outputs": [
    {
     "name": "stdout",
     "output_type": "stream",
     "text": [
      "[('Fox News', 3530),\n",
      " ('CNN.com', 2750),\n",
      " ('Politico', 2732),\n",
      " ('TheHill', 2383),\n",
      " ('The New York Times', 1804),\n",
      " ('Washington Post', 1770),\n",
      " ('Washington Examiner', 1655),\n",
      " ('The Hill', 1342),\n",
      " ('New York Post', 1275),\n",
      " ('Vox', 941)]\n"
     ]
    }
   ],
   "execution_count": 44
  },
  {
   "metadata": {},
   "cell_type": "markdown",
   "source": "修复如上错误：'TheHill' 和 'The Hill' 本来是同一个网站",
   "id": "5800b4e84018f0f5"
  },
  {
   "metadata": {
    "ExecuteTime": {
     "end_time": "2024-08-01T02:40:31.406181Z",
     "start_time": "2024-08-01T02:40:31.316778Z"
    }
   },
   "cell_type": "code",
   "source": [
    "for newsdict in candidatenews:\n",
    "    newsdict.update((k, \"The Hill\") for k, v in newsdict.items()\n",
    "                    if k == 'source' and v == 'TheHill')\n",
    "# sources = [item['source'] for item in candidatenews]\n",
    "sources = [item.get('source') for item in candidatenews] # 当包含缺失值时更加方便，可以指定替换\n",
    "pprint.pprint(Counter(sources).most_common(10))"
   ],
   "id": "56714cebdc82c6be",
   "outputs": [
    {
     "name": "stdout",
     "output_type": "stream",
     "text": [
      "[('The Hill', 3725),\n",
      " ('Fox News', 3530),\n",
      " ('CNN.com', 2750),\n",
      " ('Politico', 2732),\n",
      " ('The New York Times', 1804),\n",
      " ('Washington Post', 1770),\n",
      " ('Washington Examiner', 1655),\n",
      " ('New York Post', 1275),\n",
      " ('Vox', 941),\n",
      " ('Breitbart', 799)]\n"
     ]
    }
   ],
   "execution_count": 45
  },
  {
   "metadata": {
    "ExecuteTime": {
     "end_time": "2024-08-01T02:41:10.724027Z",
     "start_time": "2024-08-01T02:41:10.604556Z"
    }
   },
   "cell_type": "code",
   "source": [
    "# 保存为DataFrame结构\n",
    "df = pd.DataFrame(candidatenews)\n",
    "df.dtypes"
   ],
   "id": "c251f750bd953eba",
   "outputs": [
    {
     "data": {
      "text/plain": [
       "title             object\n",
       "url               object\n",
       "source            object\n",
       "time              object\n",
       "date              object\n",
       "query             object\n",
       "story_position     int64\n",
       "panel_position    object\n",
       "domain            object\n",
       "category          object\n",
       "dtype: object"
      ]
     },
     "execution_count": 46,
     "metadata": {},
     "output_type": "execute_result"
    }
   ],
   "execution_count": 46
  },
  {
   "metadata": {},
   "cell_type": "markdown",
   "source": "其中date列数据类型不对，需要修复。在json中，日期只是字符串",
   "id": "501f47c2aa81f523"
  },
  {
   "metadata": {
    "ExecuteTime": {
     "end_time": "2024-08-01T02:42:19.205199Z",
     "start_time": "2024-08-01T02:42:19.200086Z"
    }
   },
   "cell_type": "code",
   "source": "df.rename(columns={'date':'storydate'}, inplace=True)",
   "id": "efae4f9e4e6cfb60",
   "outputs": [],
   "execution_count": 47
  },
  {
   "metadata": {
    "ExecuteTime": {
     "end_time": "2024-08-01T02:42:37.733873Z",
     "start_time": "2024-08-01T02:42:37.681195Z"
    }
   },
   "cell_type": "code",
   "source": "df.storydate = df.storydate.astype('datetime64[ns]')",
   "id": "8177661ec1890b8c",
   "outputs": [],
   "execution_count": 48
  },
  {
   "metadata": {
    "ExecuteTime": {
     "end_time": "2024-08-01T02:42:43.746960Z",
     "start_time": "2024-08-01T02:42:43.734436Z"
    }
   },
   "cell_type": "code",
   "source": "df.shape",
   "id": "dbe7f8bba2299bd0",
   "outputs": [
    {
     "data": {
      "text/plain": [
       "(57618, 10)"
      ]
     },
     "execution_count": 49,
     "metadata": {},
     "output_type": "execute_result"
    }
   ],
   "execution_count": 49
  },
  {
   "metadata": {
    "ExecuteTime": {
     "end_time": "2024-08-01T02:43:07.697209Z",
     "start_time": "2024-08-01T02:43:07.665344Z"
    }
   },
   "cell_type": "code",
   "source": "df.source.value_counts(sort=True).head(10)",
   "id": "c99d76d2c2b0be17",
   "outputs": [
    {
     "data": {
      "text/plain": [
       "The Hill               3725\n",
       "Fox News               3530\n",
       "CNN.com                2750\n",
       "Politico               2732\n",
       "The New York Times     1804\n",
       "Washington Post        1770\n",
       "Washington Examiner    1655\n",
       "New York Post          1275\n",
       "Vox                     941\n",
       "Breitbart               799\n",
       "Name: source, dtype: int64"
      ]
     },
     "execution_count": 50,
     "metadata": {},
     "output_type": "execute_result"
    }
   ],
   "execution_count": 50
  },
  {
   "metadata": {
    "ExecuteTime": {
     "end_time": "2024-08-01T02:43:29.830510Z",
     "start_time": "2024-08-01T02:43:29.815596Z"
    }
   },
   "cell_type": "code",
   "source": "df.dtypes",
   "id": "b777294d3c3b92ef",
   "outputs": [
    {
     "data": {
      "text/plain": [
       "title                     object\n",
       "url                       object\n",
       "source                    object\n",
       "time                      object\n",
       "storydate         datetime64[ns]\n",
       "query                     object\n",
       "story_position             int64\n",
       "panel_position            object\n",
       "domain                    object\n",
       "category                  object\n",
       "dtype: object"
      ]
     },
     "execution_count": 51,
     "metadata": {},
     "output_type": "execute_result"
    }
   ],
   "execution_count": 51
  },
  {
   "metadata": {},
   "cell_type": "markdown",
   "source": "通过API导入更复杂的json数据",
   "id": "3b67d469b4f2a551"
  },
  {
   "metadata": {
    "ExecuteTime": {
     "end_time": "2024-08-01T03:43:43.542150Z",
     "start_time": "2024-08-01T03:43:43.430059Z"
    }
   },
   "cell_type": "code",
   "source": "import requests",
   "id": "5ea0d49f80135a7",
   "outputs": [],
   "execution_count": 1
  },
  {
   "metadata": {
    "ExecuteTime": {
     "end_time": "2024-08-01T05:22:46.104273Z",
     "start_time": "2024-08-01T05:22:44.099835Z"
    }
   },
   "cell_type": "code",
   "source": [
    "response = requests.get(\"https://openaccess-api.clevelandart.org/api/artworks/?african_american_artists\")\n",
    "camcollections = json.loads(response.text)\n",
    "print(len(camcollections['data']))"
   ],
   "id": "b1ed9063890f1672",
   "outputs": [
    {
     "name": "stdout",
     "output_type": "stream",
     "text": [
      "1000\n"
     ]
    }
   ],
   "execution_count": 6
  },
  {
   "metadata": {
    "ExecuteTime": {
     "end_time": "2024-08-01T05:23:39.095642Z",
     "start_time": "2024-08-01T05:23:39.080634Z"
    }
   },
   "cell_type": "code",
   "source": "pprint.pprint(camcollections['data'][0])",
   "id": "fb951ac9f5ec88a8",
   "outputs": [
    {
     "name": "stdout",
     "output_type": "stream",
     "text": [
      "{'accession_date': '2007-06-04T00:00:00',\n",
      " 'accession_number': '2007.158',\n",
      " 'alternate_images': [],\n",
      " 'alternate_titles': [],\n",
      " 'artists_tags': ['male', 'Black American Artists'],\n",
      " 'athena_id': 165157,\n",
      " 'citations': [{'citation': 'Frascina, Francis. \"Institutions, Culture, and '\n",
      "                            \"America's 'Cold War Years': The Making of \"\n",
      "                            'Greenberg\\'s \\'Modernist Painting\\',\" <em>Oxford '\n",
      "                            'Art Journal</em> 26 (2003).',\n",
      "                'page_number': 'Mentioned p. 84.',\n",
      "                'url': ''},\n",
      "               {'citation': 'Annual Exhibition: Sculpture, Paintings, '\n",
      "                            'Watercolors, Drawings (New York: Whitney Museum '\n",
      "                            'of American Art, 1958).',\n",
      "                'page_number': 'Unpaginated, [8],[12]',\n",
      "                'url': None},\n",
      "               {'citation': '\"Moscow to See Modern U.S. Art,\"<em> New York '\n",
      "                            'Times</em> (May 31, 1959).',\n",
      "                'page_number': 'P. 60',\n",
      "                'url': None},\n",
      "               {'citation': 'Baur, John I. H. <em>Between the Fairs: 25 Years '\n",
      "                            'of America Art, 1939-1964.</em> New York. Whitney '\n",
      "                            'Museum. Catalogues. 1962-64. New York: Published '\n",
      "                            'for the Whitney Museum of American Art by F.A. '\n",
      "                            'Praeger, 1964.',\n",
      "                'page_number': 'P. 88',\n",
      "                'url': None},\n",
      "               {'citation': 'Kramer,Hilton. \"In the Museums,\" <em>Art in '\n",
      "                            'America</em> 52 (April 1964).',\n",
      "                'page_number': 'P. 42',\n",
      "                'url': None},\n",
      "               {'citation': 'Illustration for Victor S. Navasky, \"With Malice '\n",
      "                            'Toward All,\" <em>New York Times Book Review '\n",
      "                            '</em>(February 27, 1966).',\n",
      "                'page_number': 'P. 4',\n",
      "                'url': None},\n",
      "               {'citation': 'Chwast, Seymour, and Steven Heller. <em>The Art '\n",
      "                            'of New York</em>. New York: H.N. Abrams, 1983.',\n",
      "                'page_number': 'P. 18, 76',\n",
      "                'url': None},\n",
      "               {'citation': 'Berman,Avis. \"Jacob Lawrence and the Making of '\n",
      "                            'Americans,\" <em>ARTnews</em> 83 (February 1984).',\n",
      "                'page_number': 'P. 82',\n",
      "                'url': None},\n",
      "               {'citation': 'Wheat, Ellen Harkins, Jacob Lawrence, and '\n",
      "                            'Patricia Hills. <em>Jacob Lawrence, American '\n",
      "                            'Painter.</em> Seattle: University of Washington '\n",
      "                            'Press in association with the Seattle Art Museum, '\n",
      "                            '1986.',\n",
      "                'page_number': 'P. 107,129',\n",
      "                'url': None},\n",
      "               {'citation': \"Sotheby's (Firm). <em>American Impressionist \"\n",
      "                            '&amp; 20th Century Paintings, Drawings, '\n",
      "                            'Watercolors &amp; Sculpture</em>. May 29, 1981. '\n",
      "                            'Lot 182.',\n",
      "                'page_number': None,\n",
      "                'url': None},\n",
      "               {'citation': 'Glueck, Grace. <em>New York: The Painted '\n",
      "                            'City</em>. Salt Lake City: Peregrine Smith Books, '\n",
      "                            '1992.',\n",
      "                'page_number': 'P. 54',\n",
      "                'url': None},\n",
      "               {'citation': 'Stern, Robert A.M. et al., <em>New York 1960 '\n",
      "                            '</em>(New York: Monacelli Press, 1995).',\n",
      "                'page_number': 'P. 1164',\n",
      "                'url': None},\n",
      "               {'citation': 'Richard J. Powell, \"Harmonizer of Chaos,\" in '\n",
      "                            'Peter T. Nesbett and Michelle DuBois, eds., Over '\n",
      "                            'the Line: The Art and Life of Jacob Lawrence '\n",
      "                            '(Seattle: University of Washington, 2000).',\n",
      "                'page_number': 'P. 148-49',\n",
      "                'url': None},\n",
      "               {'citation': 'Nesbett, Peter T. and Michelle DuBois, <em>Jacob '\n",
      "                            'Lawrence: Paintings, Drawings, and Murals '\n",
      "                            '(1935-1999)</em>: <em>A Catalogue Raisonné.</em> '\n",
      "                            'Seattle: University of Washington, 2000.',\n",
      "                'page_number': 'P. 141',\n",
      "                'url': None},\n",
      "               {'citation': 'Wright, Gwendolyn. \"Permable Boundaries,\" in '\n",
      "                            'Peter Madsen and Richard Plunz, eds., <em>The '\n",
      "                            'Urban Lifeworld</em> (London: Routledge, 2002).',\n",
      "                'page_number': 'Reproduced p. 210',\n",
      "                'url': None},\n",
      "               {'citation': 'Kushner, Marilyn S.\"Exhibiting Art at the '\n",
      "                            'American National Exhibition in Moscow, 1959: '\n",
      "                            'Domestic Politics and Cultural Diplomacy,\" '\n",
      "                            '<em>Journal of Cold War Studies</em> 4 (Winter '\n",
      "                            '2002), 24.',\n",
      "                'page_number': 'P. 24',\n",
      "                'url': None},\n",
      "               {'citation': 'Hills, Patricia, and Melissa Renn. Syncopated '\n",
      "                            'Rhythms: 20th-Century African American Art from '\n",
      "                            'the George and Joyce Wein Collection. Boston: '\n",
      "                            'Boston University Art Gallery, 2005.',\n",
      "                'page_number': 'P. 64-65',\n",
      "                'url': None},\n",
      "               {'citation': '\"Harlem\\'s Knights: Extraordinary $2 Million '\n",
      "                            'Bequest for Lawrence Scholars Program,\"<em> '\n",
      "                            'Parsons re:D</em> 22 (May 2005).',\n",
      "                'page_number': 'P. 22',\n",
      "                'url': None},\n",
      "               {'citation': '<em>The Cleveland Museum of Art Annual Report '\n",
      "                            '</em>(July 1,2006- June 30, 2007).',\n",
      "                'page_number': 'P. 26-7, 32',\n",
      "                'url': None},\n",
      "               {'citation': \"Adams, Henry.<em> What's American About American \"\n",
      "                            'Art?: A Gallery Tour in the Cleveland Museum of '\n",
      "                            'Art.</em> Cleveland: Cleveland Museum of Art, '\n",
      "                            '2008.',\n",
      "                'page_number': 'P. 8,13, 144-145',\n",
      "                'url': None},\n",
      "               {'citation': 'Cole, Mark. \"Jacob Lawrence\\'s Fulton and '\n",
      "                            'Nostrand,\" <em>Cleveland Art</em> 48 (February '\n",
      "                            '2008).',\n",
      "                'page_number': 'P. 6-7; Reproduced p. 6.',\n",
      "                'url': None},\n",
      "               {'citation': 'Gordon, Margery. \"Eyes on the Prizes,\" <em>Art + '\n",
      "                            'Auction</em> 31 (February 2008).',\n",
      "                'page_number': 'Reproduced p. 117',\n",
      "                'url': None},\n",
      "               {'citation': 'Cole, Mark, \"Jacob Lawrence\\'s Fulton and '\n",
      "                            'Nostrand\", Cleveland Museum of Art. <em>Cleveland '\n",
      "                            'Art: The Cleveland Museum of Art Members '\n",
      "                            'Magazine</em>. Vol. 48 no. 2, February 2008',\n",
      "                'page_number': 'Mentioned & reproduced: p. 6',\n",
      "                'url': 'https://archive.org/details/CMAMM2008-02/page/6/mode'},\n",
      "               {'citation': 'Cleveland Museum of Art, David Franklin, and C. '\n",
      "                            'Griffith Mann. <em>Treasures from the Cleveland '\n",
      "                            'Museum of Art</em>. Cleveland, OH: Cleveland '\n",
      "                            'Museum of Art, 2012.',\n",
      "                'page_number': 'P. 322-23',\n",
      "                'url': None},\n",
      "               {'citation': 'Cole, Mark, Amy Sparks, and Rebecca Michaels.<em> '\n",
      "                            'African American Art: The Cleveland Museum of '\n",
      "                            'Art.</em> [Cleveland, Ohio]: Cleveland Museum of '\n",
      "                            'Art, 2013.',\n",
      "                'page_number': 'P. 3,18; Reproduced p. 22',\n",
      "                'url': None},\n",
      "               {'citation': 'Cole, Mark. \"American Art of the 1930s to 1950s,\" '\n",
      "                            '<em>Cleveland Art</em> 54 (January/February '\n",
      "                            '2014).',\n",
      "                'page_number': 'P. 21',\n",
      "                'url': None},\n",
      "               {'citation': 'Cleveland Museum of Art. <em>The CMA Companion: A '\n",
      "                            'Guide to the Cleveland Museum of Art</em>. '\n",
      "                            'Cleveland: Cleveland Museum of Art, 2014.',\n",
      "                'page_number': 'Mentioned and reproduced: P. 62',\n",
      "                'url': ''},\n",
      "               {'citation': 'Cleveland Museum of Art. <em>Museum Masters: '\n",
      "                            '2016-17 Companion Guide.</em> [Cleveland, Ohio]: '\n",
      "                            'Cleveland Museum of Art, 2016.',\n",
      "                'page_number': 'Mentioned and reproduced: P. 23',\n",
      "                'url': ''},\n",
      "               {'citation': '\"Recommendations from Our Curators.” '\n",
      "                            '<em>Cleveland Art: Cleveland Museum of Art '\n",
      "                            'Members Magazine </em>61, no. 2 (Spring 2021): '\n",
      "                            '31.',\n",
      "                'page_number': 'Reproduced and Mentioned: P. 31.',\n",
      "                'url': ''},\n",
      "               {'citation': 'Kushner, Marilyn S., \"Exhibiting Art at the '\n",
      "                            'American National Exhibition in Moscow,\" '\n",
      "                            '<em>Journal of Cold War Studies </em>4 (Winter '\n",
      "                            '2002).',\n",
      "                'page_number': 'P. 24',\n",
      "                'url': ''}],\n",
      " 'collapse_artists': False,\n",
      " 'collection': 'American - Painting',\n",
      " 'conservation_statement': None,\n",
      " 'copyright': '© The Jacob and Gwendolyn Knight Lawrence Foundation, Seattle / '\n",
      "              'Artists Rights Society (ARS), New York.',\n",
      " 'creation_date': '1958',\n",
      " 'creation_date_earliest': 1958,\n",
      " 'creation_date_latest': 1958,\n",
      " 'creators': [{'biography': 'Jacob Lawrence (born 1917) has been a prominent '\n",
      "                            'artist since 1941 when, at age 24, he became the '\n",
      "                            'first African American to have a work in the '\n",
      "                            'permanent collection of the Museum of Modern Art '\n",
      "                            'in New York. His career, now spanning seven '\n",
      "                            'decades, has been devoted to documenting '\n",
      "                            'African-American life and history, from everyday '\n",
      "                            'scenes to the universal struggle for freedom, '\n",
      "                            'social justice, and human dignity. Moving to '\n",
      "                            'Harlem as a teenager in 1930, Lawrence was '\n",
      "                            'influenced by the artists, writers, and '\n",
      "                            'philosophers of the Harlem Renaissance-among them '\n",
      "                            'Romare Bearden, Langston Hughes, and W.E.B. '\n",
      "                            'DuBois-who fostered pride in African-American '\n",
      "                            \"culture. Lawrence's subjects include the \"\n",
      "                            'legendary abolitionist heroes Frederick Douglass, '\n",
      "                            'Harriet Tubman, and John Brown, and the story of '\n",
      "                            'the massive migration of African Americans from '\n",
      "                            'the rural South to the industrialized, urban '\n",
      "                            'North during the early decades of the 20th '\n",
      "                            'century. After thorough research, Lawrence '\n",
      "                            'chronicles the crucial events of each saga by '\n",
      "                            'creating a series of small paintings on paper in '\n",
      "                            'a modernist style of flat, brightly-colored '\n",
      "                            'forms.',\n",
      "               'birth_year': '1917',\n",
      "               'death_year': '2000',\n",
      "               'description': 'Jacob Lawrence (American, 1917–2000)',\n",
      "               'extent': None,\n",
      "               'id': 4050,\n",
      "               'name_in_original_language': None,\n",
      "               'qualifier': None,\n",
      "               'role': 'artist'}],\n",
      " 'creditline': 'Mr. and Mrs. William H. Marlatt Fund',\n",
      " 'culture': ['America, 20th century'],\n",
      " 'current_location': '226B American Modern',\n",
      " 'date_text': '1958',\n",
      " 'department': 'American Painting and Sculpture',\n",
      " 'description': 'Having moved to Harlem as a teenager, Lawrence would become '\n",
      "                'the first major artist trained entirely within the '\n",
      "                'neighborhood’s African American community. Throughout his '\n",
      "                'long career he believed art should be a quest for both self '\n",
      "                'and social identity, a notion reflected in this work, one of '\n",
      "                'his liveliest and largest paintings. Teeming with more than '\n",
      "                'forty figures, it depicts the vibrant streetscape at the '\n",
      "                'intersection of Fulton Street and Nostrand Avenue in '\n",
      "                'Brooklyn, near where the artist lived at the time.',\n",
      " 'did_you_know': 'Lawrence was teaching art at the Pratt Institute in Brooklyn '\n",
      "                 'when he created this painting.',\n",
      " 'dimensions': {'unframed': {'height': 0.609, 'width': 0.762}},\n",
      " 'edition_of_the_work': None,\n",
      " 'exhibitions': {'current': [],\n",
      "                 'legacy': [{'description': 'Annual Exhibition: Sculpture, '\n",
      "                                            'Paintings, Watercolors, Drawings, '\n",
      "                                            'Whitney Museum of American Art, '\n",
      "                                            'New York, November 19. '\n",
      "                                            '1958-January 4, 1959.',\n",
      "                             'opening_date': '1959-01-04T00:00:00'},\n",
      "                            {'description': 'American Sculpture and Painting: '\n",
      "                                            'American National Exhibition in '\n",
      "                                            'Moscow, The Pushkin Museum of '\n",
      "                                            'Fine Arts, Moscow, July '\n",
      "                                            '25-September 5, 1959; Whitney '\n",
      "                                            'Museum of American Art, New York, '\n",
      "                                            'October 28-November 15, 1959.',\n",
      "                             'opening_date': '1959-07-25T00:00:00'},\n",
      "                            {'description': 'Between the Fairs: Twenty-Five '\n",
      "                                            'Years of American Art, 1939-1964, '\n",
      "                                            'Whitney Museum of American Art, '\n",
      "                                            'New York, June 24-September 23, '\n",
      "                                            '1964.',\n",
      "                             'opening_date': '1964-06-24T00:00:00'},\n",
      "                            {'description': 'Contemporary Urban Visions, '\n",
      "                                            'Wollman Hall, New School Art '\n",
      "                                            'Center, New School for Social '\n",
      "                                            'Research, New York, January '\n",
      "                                            '25-February 24, 1966.',\n",
      "                             'opening_date': '1966-01-25T00:00:00'},\n",
      "                            {'description': 'Crossing State Lines: '\n",
      "                                            'Twentieth-Century Art from '\n",
      "                                            'Private Collections in '\n",
      "                                            'Westchester and Fairfield '\n",
      "                                            'Counties, Neuberger Museum of '\n",
      "                                            'Art, Purchase College, State '\n",
      "                                            'University of New York, March '\n",
      "                                            '26-June 18, 1995.',\n",
      "                             'opening_date': '1995-03-26T00:00:00'},\n",
      "                            {'description': 'Jacob Lawrence Memorial '\n",
      "                                            'Exhibition: Paintings, 1937-1999, '\n",
      "                                            'DC Moore Gallery, New York, '\n",
      "                                            'February 6-March 3, 2001.',\n",
      "                             'opening_date': '2001-02-06T00:00:00'},\n",
      "                            {'description': 'Syncopated Rhythms: 20th-Century '\n",
      "                                            'African American Art from the '\n",
      "                                            'George and Joyce Wein Collection, '\n",
      "                                            'Boston University Art Gallery, '\n",
      "                                            'November 18, 2005-January 22, '\n",
      "                                            '2006.',\n",
      "                             'opening_date': '2005-11-18T00:00:00'}]},\n",
      " 'external_resources': {'internet_archive': [], 'wikidata': []},\n",
      " 'find_spot': None,\n",
      " 'former_accession_numbers': [],\n",
      " 'gallery_donor_text': 'Hammond Hemmelgarn Family Gallery',\n",
      " 'id': 165157,\n",
      " 'images': {},\n",
      " 'impression': None,\n",
      " 'inscriptions': [{'inscription': 'signed lower right \"Jacob Lawrence 58\"',\n",
      "                   'inscription_remark': None,\n",
      "                   'inscription_translation': None}],\n",
      " 'is_highlight': True,\n",
      " 'is_nazi_era_provenance': False,\n",
      " 'legal_status': 'accessioned',\n",
      " 'measurements': 'Unframed: 60.9 x 76.2 cm (24 x 30 in.)',\n",
      " 'on_loan': False,\n",
      " 'provenance': [{'citations': [],\n",
      "                 'date': '1958',\n",
      "                 'description': '(The Alan Stone Gallery, New York, NY,  sold '\n",
      "                                'to Alexander and Sylvian Rittmaster)',\n",
      "                 'footnotes': ['<div><!--block-->Jacob Lawrence sold the '\n",
      "                               'painting directly to the Alan Gallery in '\n",
      "                               '1958.&nbsp;</div>']},\n",
      "                {'citations': [],\n",
      "                 'date': '1958-1981',\n",
      "                 'description': 'Alexander [1916-1969] and Sylvian Rittmaster '\n",
      "                                '[1917-1978], Woodmere, NY',\n",
      "                 'footnotes': ['<div><!--block-->Although Slyvian Rittmaster '\n",
      "                               'died in 1978, the 1981 Sotheby Parke Bernet '\n",
      "                               'catalogue lists the painting as coming from '\n",
      "                               \"their collection, hence listing the painting's \"\n",
      "                               'dates with the Rittmasters as ending with 1981 '\n",
      "                               'rather than 1978.&nbsp;</div>']},\n",
      "                {'citations': [],\n",
      "                 'date': '1981-1983?',\n",
      "                 'description': '(Sotheby Park Bernet, New York, NY, May '\n",
      "                                '29,1981, lot 182, sold to the Terry '\n",
      "                                'Dintenfass Gallery)',\n",
      "                 'footnotes': None},\n",
      "                {'citations': [],\n",
      "                 'date': '1983',\n",
      "                 'description': '(Terry Dintenfass Gallery, New York, NY, sold '\n",
      "                                'to George and Joyce Wein)',\n",
      "                 'footnotes': []},\n",
      "                {'citations': [],\n",
      "                 'date': '1983-2007',\n",
      "                 'description': 'George [b. 1925] and Joyce [1928-2005] Wein, '\n",
      "                                'New York, NY, consigned to the Michael '\n",
      "                                'Rosenfeld Gallery',\n",
      "                 'footnotes': []},\n",
      "                {'citations': [],\n",
      "                 'date': '2007',\n",
      "                 'description': '(Michael Rosenfeld Gallery, New York, NY, '\n",
      "                                'sold to the Cleveland Museum of Art)',\n",
      "                 'footnotes': None},\n",
      "                {'citations': [],\n",
      "                 'date': '2007-',\n",
      "                 'description': 'The Cleveland Museum of Art, Cleveland, OH',\n",
      "                 'footnotes': []}],\n",
      " 'recently_acquired': False,\n",
      " 'record_type': 'object',\n",
      " 'related_works': [],\n",
      " 'share_license_status': 'Copyrighted',\n",
      " 'sketchfab_id': None,\n",
      " 'sketchfab_url': None,\n",
      " 'sortable_date': 1958,\n",
      " 'state_of_the_work': None,\n",
      " 'support_materials': [],\n",
      " 'technique': 'tempera on Masonite',\n",
      " 'title': 'Fulton and Nostrand',\n",
      " 'tombstone': 'Fulton and Nostrand, 1958. Jacob Lawrence (American, '\n",
      "              '1917–2000). Tempera on Masonite; unframed: 60.9 x 76.2 cm (24 x '\n",
      "              '30 in.). The Cleveland Museum of Art, Mr. and Mrs. William H. '\n",
      "              'Marlatt Fund 2007.158 © The Jacob and Gwendolyn Knight Lawrence '\n",
      "              'Foundation, Seattle / Artists Rights Society (ARS), New York.',\n",
      " 'type': 'Painting',\n",
      " 'updated_at': '2024-03-26 02:01:03.089000',\n",
      " 'url': 'https://clevelandart.org/art/2007.158'}\n"
     ]
    }
   ],
   "execution_count": 7
  },
  {
   "metadata": {
    "ExecuteTime": {
     "end_time": "2024-08-01T05:28:51.832992Z",
     "start_time": "2024-08-01T05:28:51.795057Z"
    }
   },
   "cell_type": "code",
   "source": [
    "# 创建DataFrame并展平\n",
    "camcollectionsdf=pd.json_normalize(camcollections['data'], 'citations', ['accession_number', 'title', 'creation_date', 'collection', 'creators', 'type'])\n",
    "camcollectionsdf.head(2).T"
   ],
   "id": "3469cca32e937d74",
   "outputs": [
    {
     "data": {
      "text/plain": [
       "                                                                  0  \\\n",
       "citation          Frascina, Francis. \"Institutions, Culture, and...   \n",
       "page_number                                        Mentioned p. 84.   \n",
       "url                                                                   \n",
       "accession_number                                           2007.158   \n",
       "title                                           Fulton and Nostrand   \n",
       "creation_date                                                  1958   \n",
       "collection                                      American - Painting   \n",
       "creators          [{'id': 4050, 'description': 'Jacob Lawrence (...   \n",
       "type                                                       Painting   \n",
       "\n",
       "                                                                  1  \n",
       "citation          Annual Exhibition: Sculpture, Paintings, Water...  \n",
       "page_number                                   Unpaginated, [8],[12]  \n",
       "url                                                            None  \n",
       "accession_number                                           2007.158  \n",
       "title                                           Fulton and Nostrand  \n",
       "creation_date                                                  1958  \n",
       "collection                                      American - Painting  \n",
       "creators          [{'id': 4050, 'description': 'Jacob Lawrence (...  \n",
       "type                                                       Painting  "
      ],
      "text/html": [
       "<div>\n",
       "<style scoped>\n",
       "    .dataframe tbody tr th:only-of-type {\n",
       "        vertical-align: middle;\n",
       "    }\n",
       "\n",
       "    .dataframe tbody tr th {\n",
       "        vertical-align: top;\n",
       "    }\n",
       "\n",
       "    .dataframe thead th {\n",
       "        text-align: right;\n",
       "    }\n",
       "</style>\n",
       "<table border=\"1\" class=\"dataframe\">\n",
       "  <thead>\n",
       "    <tr style=\"text-align: right;\">\n",
       "      <th></th>\n",
       "      <th>0</th>\n",
       "      <th>1</th>\n",
       "    </tr>\n",
       "  </thead>\n",
       "  <tbody>\n",
       "    <tr>\n",
       "      <th>citation</th>\n",
       "      <td>Frascina, Francis. \"Institutions, Culture, and...</td>\n",
       "      <td>Annual Exhibition: Sculpture, Paintings, Water...</td>\n",
       "    </tr>\n",
       "    <tr>\n",
       "      <th>page_number</th>\n",
       "      <td>Mentioned p. 84.</td>\n",
       "      <td>Unpaginated, [8],[12]</td>\n",
       "    </tr>\n",
       "    <tr>\n",
       "      <th>url</th>\n",
       "      <td></td>\n",
       "      <td>None</td>\n",
       "    </tr>\n",
       "    <tr>\n",
       "      <th>accession_number</th>\n",
       "      <td>2007.158</td>\n",
       "      <td>2007.158</td>\n",
       "    </tr>\n",
       "    <tr>\n",
       "      <th>title</th>\n",
       "      <td>Fulton and Nostrand</td>\n",
       "      <td>Fulton and Nostrand</td>\n",
       "    </tr>\n",
       "    <tr>\n",
       "      <th>creation_date</th>\n",
       "      <td>1958</td>\n",
       "      <td>1958</td>\n",
       "    </tr>\n",
       "    <tr>\n",
       "      <th>collection</th>\n",
       "      <td>American - Painting</td>\n",
       "      <td>American - Painting</td>\n",
       "    </tr>\n",
       "    <tr>\n",
       "      <th>creators</th>\n",
       "      <td>[{'id': 4050, 'description': 'Jacob Lawrence (...</td>\n",
       "      <td>[{'id': 4050, 'description': 'Jacob Lawrence (...</td>\n",
       "    </tr>\n",
       "    <tr>\n",
       "      <th>type</th>\n",
       "      <td>Painting</td>\n",
       "      <td>Painting</td>\n",
       "    </tr>\n",
       "  </tbody>\n",
       "</table>\n",
       "</div>"
      ]
     },
     "execution_count": 8,
     "metadata": {},
     "output_type": "execute_result"
    }
   ],
   "execution_count": 8
  },
  {
   "metadata": {},
   "cell_type": "markdown",
   "source": [
    "para2: 依据citations展平，每个citations引用得占一行。由此，最后6行大部分都是重复\n",
    "para3: 被重复的附加的表头\n",
    "表头 = para2-flated + para3"
   ],
   "id": "4b7db23b86c3067e"
  },
  {
   "metadata": {
    "ExecuteTime": {
     "end_time": "2024-08-01T05:30:33.260734Z",
     "start_time": "2024-08-01T05:30:33.240088Z"
    }
   },
   "cell_type": "code",
   "source": [
    "creator = camcollectionsdf[:1].creators[0]\n",
    "type(creator[0])"
   ],
   "id": "9b387e11af563ba0",
   "outputs": [
    {
     "data": {
      "text/plain": [
       "dict"
      ]
     },
     "execution_count": 9,
     "metadata": {},
     "output_type": "execute_result"
    }
   ],
   "execution_count": 9
  },
  {
   "metadata": {
    "ExecuteTime": {
     "end_time": "2024-08-01T06:46:52.167597Z",
     "start_time": "2024-08-01T06:46:52.155119Z"
    }
   },
   "cell_type": "code",
   "source": "pprint.pprint(creator)",
   "id": "8bf450e6f88bcd34",
   "outputs": [
    {
     "name": "stdout",
     "output_type": "stream",
     "text": [
      "[{'biography': 'Jacob Lawrence (born 1917) has been a prominent artist since '\n",
      "               '1941 when, at age 24, he became the first African American to '\n",
      "               'have a work in the permanent collection of the Museum of '\n",
      "               'Modern Art in New York. His career, now spanning seven '\n",
      "               'decades, has been devoted to documenting African-American life '\n",
      "               'and history, from everyday scenes to the universal struggle '\n",
      "               'for freedom, social justice, and human dignity. Moving to '\n",
      "               'Harlem as a teenager in 1930, Lawrence was influenced by the '\n",
      "               'artists, writers, and philosophers of the Harlem '\n",
      "               'Renaissance-among them Romare Bearden, Langston Hughes, and '\n",
      "               'W.E.B. DuBois-who fostered pride in African-American culture. '\n",
      "               \"Lawrence's subjects include the legendary abolitionist heroes \"\n",
      "               'Frederick Douglass, Harriet Tubman, and John Brown, and the '\n",
      "               'story of the massive migration of African Americans from the '\n",
      "               'rural South to the industrialized, urban North during the '\n",
      "               'early decades of the 20th century. After thorough research, '\n",
      "               'Lawrence chronicles the crucial events of each saga by '\n",
      "               'creating a series of small paintings on paper in a modernist '\n",
      "               'style of flat, brightly-colored forms.',\n",
      "  'birth_year': '1917',\n",
      "  'death_year': '2000',\n",
      "  'description': 'Jacob Lawrence (American, 1917–2000)',\n",
      "  'extent': None,\n",
      "  'id': 4050,\n",
      "  'name_in_original_language': None,\n",
      "  'qualifier': None,\n",
      "  'role': 'artist'}]\n"
     ]
    }
   ],
   "execution_count": 14
  },
  {
   "metadata": {
    "ExecuteTime": {
     "end_time": "2024-08-01T05:33:41.528009Z",
     "start_time": "2024-08-01T05:33:41.514970Z"
    }
   },
   "cell_type": "code",
   "source": "camcollectionsdf['birthyear'] = camcollectionsdf.creators.apply(lambda x: x[0]['birth_year'])  # 创建新列birthyear, 将每一个项目的第一作者的出生年份列出",
   "id": "9fc92adea6675698",
   "outputs": [],
   "execution_count": 12
  },
  {
   "metadata": {
    "ExecuteTime": {
     "end_time": "2024-08-01T06:52:51.350607Z",
     "start_time": "2024-08-01T06:52:51.336793Z"
    }
   },
   "cell_type": "code",
   "source": "camcollectionsdf.head()",
   "id": "2878751dabec02b",
   "outputs": [
    {
     "data": {
      "text/plain": [
       "                                            citation            page_number  \\\n",
       "0  Frascina, Francis. \"Institutions, Culture, and...       Mentioned p. 84.   \n",
       "1  Annual Exhibition: Sculpture, Paintings, Water...  Unpaginated, [8],[12]   \n",
       "2  \"Moscow to See Modern U.S. Art,\"<em> New York ...                  P. 60   \n",
       "3  Baur, John I. H. <em>Between the Fairs: 25 Yea...                  P. 88   \n",
       "4  Kramer,Hilton. \"In the Museums,\" <em>Art in Am...                  P. 42   \n",
       "\n",
       "    url accession_number                title creation_date  \\\n",
       "0               2007.158  Fulton and Nostrand          1958   \n",
       "1  None         2007.158  Fulton and Nostrand          1958   \n",
       "2  None         2007.158  Fulton and Nostrand          1958   \n",
       "3  None         2007.158  Fulton and Nostrand          1958   \n",
       "4  None         2007.158  Fulton and Nostrand          1958   \n",
       "\n",
       "            collection                                           creators  \\\n",
       "0  American - Painting  [{'id': 4050, 'description': 'Jacob Lawrence (...   \n",
       "1  American - Painting  [{'id': 4050, 'description': 'Jacob Lawrence (...   \n",
       "2  American - Painting  [{'id': 4050, 'description': 'Jacob Lawrence (...   \n",
       "3  American - Painting  [{'id': 4050, 'description': 'Jacob Lawrence (...   \n",
       "4  American - Painting  [{'id': 4050, 'description': 'Jacob Lawrence (...   \n",
       "\n",
       "       type birthyear  \n",
       "0  Painting      1917  \n",
       "1  Painting      1917  \n",
       "2  Painting      1917  \n",
       "3  Painting      1917  \n",
       "4  Painting      1917  "
      ],
      "text/html": [
       "<div>\n",
       "<style scoped>\n",
       "    .dataframe tbody tr th:only-of-type {\n",
       "        vertical-align: middle;\n",
       "    }\n",
       "\n",
       "    .dataframe tbody tr th {\n",
       "        vertical-align: top;\n",
       "    }\n",
       "\n",
       "    .dataframe thead th {\n",
       "        text-align: right;\n",
       "    }\n",
       "</style>\n",
       "<table border=\"1\" class=\"dataframe\">\n",
       "  <thead>\n",
       "    <tr style=\"text-align: right;\">\n",
       "      <th></th>\n",
       "      <th>citation</th>\n",
       "      <th>page_number</th>\n",
       "      <th>url</th>\n",
       "      <th>accession_number</th>\n",
       "      <th>title</th>\n",
       "      <th>creation_date</th>\n",
       "      <th>collection</th>\n",
       "      <th>creators</th>\n",
       "      <th>type</th>\n",
       "      <th>birthyear</th>\n",
       "    </tr>\n",
       "  </thead>\n",
       "  <tbody>\n",
       "    <tr>\n",
       "      <th>0</th>\n",
       "      <td>Frascina, Francis. \"Institutions, Culture, and...</td>\n",
       "      <td>Mentioned p. 84.</td>\n",
       "      <td></td>\n",
       "      <td>2007.158</td>\n",
       "      <td>Fulton and Nostrand</td>\n",
       "      <td>1958</td>\n",
       "      <td>American - Painting</td>\n",
       "      <td>[{'id': 4050, 'description': 'Jacob Lawrence (...</td>\n",
       "      <td>Painting</td>\n",
       "      <td>1917</td>\n",
       "    </tr>\n",
       "    <tr>\n",
       "      <th>1</th>\n",
       "      <td>Annual Exhibition: Sculpture, Paintings, Water...</td>\n",
       "      <td>Unpaginated, [8],[12]</td>\n",
       "      <td>None</td>\n",
       "      <td>2007.158</td>\n",
       "      <td>Fulton and Nostrand</td>\n",
       "      <td>1958</td>\n",
       "      <td>American - Painting</td>\n",
       "      <td>[{'id': 4050, 'description': 'Jacob Lawrence (...</td>\n",
       "      <td>Painting</td>\n",
       "      <td>1917</td>\n",
       "    </tr>\n",
       "    <tr>\n",
       "      <th>2</th>\n",
       "      <td>\"Moscow to See Modern U.S. Art,\"&lt;em&gt; New York ...</td>\n",
       "      <td>P. 60</td>\n",
       "      <td>None</td>\n",
       "      <td>2007.158</td>\n",
       "      <td>Fulton and Nostrand</td>\n",
       "      <td>1958</td>\n",
       "      <td>American - Painting</td>\n",
       "      <td>[{'id': 4050, 'description': 'Jacob Lawrence (...</td>\n",
       "      <td>Painting</td>\n",
       "      <td>1917</td>\n",
       "    </tr>\n",
       "    <tr>\n",
       "      <th>3</th>\n",
       "      <td>Baur, John I. H. &lt;em&gt;Between the Fairs: 25 Yea...</td>\n",
       "      <td>P. 88</td>\n",
       "      <td>None</td>\n",
       "      <td>2007.158</td>\n",
       "      <td>Fulton and Nostrand</td>\n",
       "      <td>1958</td>\n",
       "      <td>American - Painting</td>\n",
       "      <td>[{'id': 4050, 'description': 'Jacob Lawrence (...</td>\n",
       "      <td>Painting</td>\n",
       "      <td>1917</td>\n",
       "    </tr>\n",
       "    <tr>\n",
       "      <th>4</th>\n",
       "      <td>Kramer,Hilton. \"In the Museums,\" &lt;em&gt;Art in Am...</td>\n",
       "      <td>P. 42</td>\n",
       "      <td>None</td>\n",
       "      <td>2007.158</td>\n",
       "      <td>Fulton and Nostrand</td>\n",
       "      <td>1958</td>\n",
       "      <td>American - Painting</td>\n",
       "      <td>[{'id': 4050, 'description': 'Jacob Lawrence (...</td>\n",
       "      <td>Painting</td>\n",
       "      <td>1917</td>\n",
       "    </tr>\n",
       "  </tbody>\n",
       "</table>\n",
       "</div>"
      ]
     },
     "execution_count": 15,
     "metadata": {},
     "output_type": "execute_result"
    }
   ],
   "execution_count": 15
  },
  {
   "metadata": {
    "ExecuteTime": {
     "end_time": "2024-08-01T05:34:08.866632Z",
     "start_time": "2024-08-01T05:34:08.846641Z"
    }
   },
   "cell_type": "code",
   "source": "camcollectionsdf.birthyear.value_counts().sort_index().head(10)",
   "id": "8a7ea29e433f30ea",
   "outputs": [
    {
     "data": {
      "text/plain": [
       "1821    22\n",
       "1886     5\n",
       "1888     1\n",
       "1892    22\n",
       "1899    18\n",
       "1901     5\n",
       "1909    32\n",
       "1911     8\n",
       "1912     9\n",
       "1913    11\n",
       "Name: birthyear, dtype: int64"
      ]
     },
     "execution_count": 13,
     "metadata": {},
     "output_type": "execute_result"
    }
   ],
   "execution_count": 13
  },
  {
   "metadata": {
    "ExecuteTime": {
     "end_time": "2024-08-01T07:24:06.591888Z",
     "start_time": "2024-08-01T07:24:06.576495Z"
    }
   },
   "cell_type": "code",
   "source": [
    "# 3. 从网页中导入数据\n",
    "from bs4 import BeautifulSoup"
   ],
   "id": "3d4d575074104527",
   "outputs": [],
   "execution_count": 36
  },
  {
   "metadata": {
    "ExecuteTime": {
     "end_time": "2024-08-01T07:24:51.281511Z",
     "start_time": "2024-08-01T07:24:50.545638Z"
    }
   },
   "cell_type": "code",
   "source": [
    "webpage = requests.get('http://www.alrb.org/datacleaning/covidcaseoutliers.html')\n",
    "bs = BeautifulSoup(webpage.text, 'html.parser')"
   ],
   "id": "aa545f1d2f7f5d91",
   "outputs": [],
   "execution_count": 49
  },
  {
   "metadata": {
    "ExecuteTime": {
     "end_time": "2024-08-01T07:24:51.297448Z",
     "start_time": "2024-08-01T07:24:51.281511Z"
    }
   },
   "cell_type": "code",
   "source": [
    "theadrows = bs.find('table', {'id':'tblDeaths'}).thead.find_all('th')\n",
    "type(theadrows)"
   ],
   "id": "1ce88cad6eff20fc",
   "outputs": [
    {
     "data": {
      "text/plain": [
       "bs4.element.ResultSet"
      ]
     },
     "execution_count": 50,
     "metadata": {},
     "output_type": "execute_result"
    }
   ],
   "execution_count": 50
  },
  {
   "metadata": {
    "ExecuteTime": {
     "end_time": "2024-08-01T07:24:51.922760Z",
     "start_time": "2024-08-01T07:24:51.909155Z"
    }
   },
   "cell_type": "code",
   "source": [
    "labelcols = [j.get_text() for j in theadrows]\n",
    "labelcols"
   ],
   "id": "fea187b708879d81",
   "outputs": [
    {
     "data": {
      "text/plain": [
       "['Country',\n",
       " 'Cases',\n",
       " 'Deaths',\n",
       " 'Cases per Million',\n",
       " 'Deaths per Million',\n",
       " 'population',\n",
       " 'population_density',\n",
       " 'median_age',\n",
       " 'gdp_per_capita',\n",
       " 'hospital_beds_per_100k']"
      ]
     },
     "execution_count": 51,
     "metadata": {},
     "output_type": "execute_result"
    }
   ],
   "execution_count": 51
  },
  {
   "metadata": {
    "ExecuteTime": {
     "end_time": "2024-08-01T07:24:52.331398Z",
     "start_time": "2024-08-01T07:24:52.316916Z"
    }
   },
   "cell_type": "code",
   "source": [
    "labelcols[0] = \"rowheadings\"\n",
    "labelcols"
   ],
   "id": "95a4443385750d27",
   "outputs": [
    {
     "data": {
      "text/plain": [
       "['rowheadings',\n",
       " 'Cases',\n",
       " 'Deaths',\n",
       " 'Cases per Million',\n",
       " 'Deaths per Million',\n",
       " 'population',\n",
       " 'population_density',\n",
       " 'median_age',\n",
       " 'gdp_per_capita',\n",
       " 'hospital_beds_per_100k']"
      ]
     },
     "execution_count": 52,
     "metadata": {},
     "output_type": "execute_result"
    }
   ],
   "execution_count": 52
  },
  {
   "metadata": {
    "ExecuteTime": {
     "end_time": "2024-08-01T07:24:52.742285Z",
     "start_time": "2024-08-01T07:24:52.708767Z"
    }
   },
   "cell_type": "code",
   "source": [
    "rows = bs.find('table', {'id': 'tblDeaths'}).tbody.find_all('tr')\n",
    "datarows = []\n",
    "labelrows = []\n",
    "for row in rows:\n",
    "    rowlabels = row.find('th').get_text()\n",
    "    cells = row.find_all('td', {'class':'data'})\n",
    "    if (len(rowlabels) > 3):\n",
    "        labelrows.append(rowlabels)\n",
    "    if (len(rowlabels) > 0):\n",
    "        cellvalues = [j.get_text() for j in cells]\n",
    "        datarows.append(cellvalues)\n",
    "datarows"
   ],
   "id": "932d710d39e6c260",
   "outputs": [
    {
     "data": {
      "text/plain": [
       "[['9,394', '653', '214', '15', '43,851,043', '17', '29', '13,914', '1.9'],\n",
       " ['16,642', '668', '1848', '74', '9,006,400', '107', '44', '45,437', '7.4'],\n",
       " ['47,153', '650', '286', '4', '164,689,383', '1265', '28', '3,524', '0.8'],\n",
       " ['58,381', '9467', '5037', '817', '11,589,616', '376', '42', '42,659', '5.6'],\n",
       " ['514,849',\n",
       "  '29314',\n",
       "  '2422',\n",
       "  '138',\n",
       "  '212,559,409',\n",
       "  '25',\n",
       "  '34',\n",
       "  '14,103',\n",
       "  '2.2'],\n",
       " ['90,936', '7295', '2409', '193', '37,742,157', '4', '41', '44,018', '2.5'],\n",
       " ['99,688', '1054', '5215', '55', '19,116,209', '24', '35', '22,767', '2.1'],\n",
       " ['84,147', '4638', '58', '3', '1439,323,774', '148', '39', '15309', '4.3'],\n",
       " ['29,383', '939', '577', '18', '50,882,884', '44', '32', '13,255', '1.7'],\n",
       " ['39,098', '3358', '2216', '190', '17,643,060', '67', '28', '10,582', '1.5'],\n",
       " ['24,985', '959', '244', '9', '102,334,403', '98', '25', '10,550', '1.6'],\n",
       " ['151,753',\n",
       "  '28802',\n",
       "  '2325',\n",
       "  '441',\n",
       "  '65,273,512',\n",
       "  '123',\n",
       "  '42',\n",
       "  '38,606',\n",
       "  '6.0'],\n",
       " ['181,815',\n",
       "  '8511',\n",
       "  '2170',\n",
       "  '102',\n",
       "  '83,783,945',\n",
       "  '237',\n",
       "  '47',\n",
       "  '45,229',\n",
       "  '8.0'],\n",
       " ['190,535', '5394', '138', '4', '1,380,004,385', '450', '28', '6,427', '0.5'],\n",
       " ['26,473', '1613', '97', '6', '273,523,621', '146', '29', '11,189', '1.0'],\n",
       " ['151,466', '7797', '1803', '93', '83,992,953', '50', '32', '19,083', '1.5'],\n",
       " ['24,990', '1652', '5061', '335', '4,937,796', '70', '39', '67,335', '3.0'],\n",
       " ['233,019',\n",
       "  '33415',\n",
       "  '3854',\n",
       "  '553',\n",
       "  '60,461,828',\n",
       "  '206',\n",
       "  '48',\n",
       "  '35,220',\n",
       "  '3.2'],\n",
       " ['16,884', '892', '133', '7', '126,476,458', '348', '48', '39,002', '13.1'],\n",
       " ['90,664', '9930', '703', '77', '128,932,753', '66', '29', '17,336', '1.4'],\n",
       " ['46,442', '5956', '2710', '348', '17,134,873', '509', '43', '48,473', '3.3'],\n",
       " ['72,460', '1543', '328', '7', '220,892,331', '256', '24', '5,035', '0.6'],\n",
       " ['164,476', '4506', '4988', '137', '32,971,846', '25', '29', '12,237', '1.6'],\n",
       " ['18,086', '957', '165', '9', '109,581,085', '352', '25', '7,599', '1.0'],\n",
       " ['23,786', '1064', '628', '28', '37,846,605', '124', '42', '27,216', '6.6'],\n",
       " ['32,500', '1410', '3187', '138', '10,196,707', '112', '46', '27,937', '3.4'],\n",
       " ['19,257', '1262', '1001', '66', '19,237,682', '85', '43', '23,313', '6.9'],\n",
       " ['405,843', '4693', '2781', '32', '145,934,460', '9', '40', '24,766', '8.1'],\n",
       " ['32,683', '683', '551', '12', '59,308,690', '47', '27', '12,295', '2.3'],\n",
       " ['239,429',\n",
       "  '27127',\n",
       "  '5121',\n",
       "  '580',\n",
       "  '46,754,783',\n",
       "  '93',\n",
       "  '46',\n",
       "  '34,272',\n",
       "  '3.0'],\n",
       " ['37,542', '4395', '3717', '435', '10,099,270', '25', '41', '46,949', '2.2'],\n",
       " ['30,779', '1656', '3556', '191', '8,654,618', '214', '43', '57,410', '4.5'],\n",
       " ['163,942', '4540', '1944', '54', '84,339,067', '105', '32', '25,129', '2.8'],\n",
       " ['23,672', '708', '541', '16', '43,733,759', '77', '41', '7,894', '8.8'],\n",
       " ['274,762',\n",
       "  '38489',\n",
       "  '4047',\n",
       "  '567',\n",
       "  '67,886,004',\n",
       "  '273',\n",
       "  '41',\n",
       "  '39,753',\n",
       "  '2.5'],\n",
       " ['1,790,191',\n",
       "  '104383',\n",
       "  '5408',\n",
       "  '315',\n",
       "  '331,002,647',\n",
       "  '36',\n",
       "  '38',\n",
       "  '54,225',\n",
       "  '2.8']]"
      ]
     },
     "execution_count": 53,
     "metadata": {},
     "output_type": "execute_result"
    }
   ],
   "execution_count": 53
  },
  {
   "metadata": {
    "ExecuteTime": {
     "end_time": "2024-08-01T07:24:53.372287Z",
     "start_time": "2024-08-01T07:24:53.363391Z"
    }
   },
   "cell_type": "code",
   "source": "labelrows",
   "id": "4dbc0f200ee98d55",
   "outputs": [
    {
     "data": {
      "text/plain": [
       "['Algeria',\n",
       " 'Austria',\n",
       " 'Bangladesh',\n",
       " 'Belgium',\n",
       " 'Brazil',\n",
       " 'Canada',\n",
       " 'Chile',\n",
       " 'China',\n",
       " 'Colombia',\n",
       " 'Ecuador',\n",
       " 'Egypt',\n",
       " 'France',\n",
       " 'Germany',\n",
       " 'India',\n",
       " 'Indonesia',\n",
       " 'Iran',\n",
       " 'Ireland',\n",
       " 'Italy',\n",
       " 'Japan',\n",
       " 'Mexico',\n",
       " 'Netherlands',\n",
       " 'Pakistan',\n",
       " 'Peru',\n",
       " 'Philippines',\n",
       " 'Poland',\n",
       " 'Portugal',\n",
       " 'Romania',\n",
       " 'Russia',\n",
       " 'South Africa',\n",
       " 'Spain',\n",
       " 'Sweden',\n",
       " 'Switzerland',\n",
       " 'Turkey',\n",
       " 'Ukraine',\n",
       " 'United Kingdom',\n",
       " 'United States']"
      ]
     },
     "execution_count": 54,
     "metadata": {},
     "output_type": "execute_result"
    }
   ],
   "execution_count": 54
  },
  {
   "metadata": {
    "ExecuteTime": {
     "end_time": "2024-08-01T07:24:53.919471Z",
     "start_time": "2024-08-01T07:24:53.912471Z"
    }
   },
   "cell_type": "code",
   "source": [
    "for i in range(len(labelrows)):\n",
    "    datarows[i].insert(0, labelrows[i])"
   ],
   "id": "1bac2788defad5b9",
   "outputs": [],
   "execution_count": 55
  },
  {
   "metadata": {
    "ExecuteTime": {
     "end_time": "2024-08-01T07:24:54.650590Z",
     "start_time": "2024-08-01T07:24:54.642285Z"
    }
   },
   "cell_type": "code",
   "source": "datarows[:2]",
   "id": "f430d99d09540fc7",
   "outputs": [
    {
     "data": {
      "text/plain": [
       "[['Algeria',\n",
       "  '9,394',\n",
       "  '653',\n",
       "  '214',\n",
       "  '15',\n",
       "  '43,851,043',\n",
       "  '17',\n",
       "  '29',\n",
       "  '13,914',\n",
       "  '1.9'],\n",
       " ['Austria',\n",
       "  '16,642',\n",
       "  '668',\n",
       "  '1848',\n",
       "  '74',\n",
       "  '9,006,400',\n",
       "  '107',\n",
       "  '44',\n",
       "  '45,437',\n",
       "  '7.4']]"
      ]
     },
     "execution_count": 56,
     "metadata": {},
     "output_type": "execute_result"
    }
   ],
   "execution_count": 56
  },
  {
   "metadata": {
    "ExecuteTime": {
     "end_time": "2024-08-01T07:24:56.074812Z",
     "start_time": "2024-08-01T07:24:56.044499Z"
    }
   },
   "cell_type": "code",
   "source": [
    "totaldeaths = pd.DataFrame(datarows, columns=labelcols)\n",
    "totaldeaths.head()"
   ],
   "id": "b36bf5d25acbada6",
   "outputs": [
    {
     "data": {
      "text/plain": [
       "  rowheadings    Cases Deaths Cases per Million Deaths per Million  \\\n",
       "0     Algeria    9,394    653               214                 15   \n",
       "1     Austria   16,642    668              1848                 74   \n",
       "2  Bangladesh   47,153    650               286                  4   \n",
       "3     Belgium   58,381   9467              5037                817   \n",
       "4      Brazil  514,849  29314              2422                138   \n",
       "\n",
       "    population population_density median_age gdp_per_capita  \\\n",
       "0   43,851,043                 17         29         13,914   \n",
       "1    9,006,400                107         44         45,437   \n",
       "2  164,689,383               1265         28          3,524   \n",
       "3   11,589,616                376         42         42,659   \n",
       "4  212,559,409                 25         34         14,103   \n",
       "\n",
       "  hospital_beds_per_100k  \n",
       "0                    1.9  \n",
       "1                    7.4  \n",
       "2                    0.8  \n",
       "3                    5.6  \n",
       "4                    2.2  "
      ],
      "text/html": [
       "<div>\n",
       "<style scoped>\n",
       "    .dataframe tbody tr th:only-of-type {\n",
       "        vertical-align: middle;\n",
       "    }\n",
       "\n",
       "    .dataframe tbody tr th {\n",
       "        vertical-align: top;\n",
       "    }\n",
       "\n",
       "    .dataframe thead th {\n",
       "        text-align: right;\n",
       "    }\n",
       "</style>\n",
       "<table border=\"1\" class=\"dataframe\">\n",
       "  <thead>\n",
       "    <tr style=\"text-align: right;\">\n",
       "      <th></th>\n",
       "      <th>rowheadings</th>\n",
       "      <th>Cases</th>\n",
       "      <th>Deaths</th>\n",
       "      <th>Cases per Million</th>\n",
       "      <th>Deaths per Million</th>\n",
       "      <th>population</th>\n",
       "      <th>population_density</th>\n",
       "      <th>median_age</th>\n",
       "      <th>gdp_per_capita</th>\n",
       "      <th>hospital_beds_per_100k</th>\n",
       "    </tr>\n",
       "  </thead>\n",
       "  <tbody>\n",
       "    <tr>\n",
       "      <th>0</th>\n",
       "      <td>Algeria</td>\n",
       "      <td>9,394</td>\n",
       "      <td>653</td>\n",
       "      <td>214</td>\n",
       "      <td>15</td>\n",
       "      <td>43,851,043</td>\n",
       "      <td>17</td>\n",
       "      <td>29</td>\n",
       "      <td>13,914</td>\n",
       "      <td>1.9</td>\n",
       "    </tr>\n",
       "    <tr>\n",
       "      <th>1</th>\n",
       "      <td>Austria</td>\n",
       "      <td>16,642</td>\n",
       "      <td>668</td>\n",
       "      <td>1848</td>\n",
       "      <td>74</td>\n",
       "      <td>9,006,400</td>\n",
       "      <td>107</td>\n",
       "      <td>44</td>\n",
       "      <td>45,437</td>\n",
       "      <td>7.4</td>\n",
       "    </tr>\n",
       "    <tr>\n",
       "      <th>2</th>\n",
       "      <td>Bangladesh</td>\n",
       "      <td>47,153</td>\n",
       "      <td>650</td>\n",
       "      <td>286</td>\n",
       "      <td>4</td>\n",
       "      <td>164,689,383</td>\n",
       "      <td>1265</td>\n",
       "      <td>28</td>\n",
       "      <td>3,524</td>\n",
       "      <td>0.8</td>\n",
       "    </tr>\n",
       "    <tr>\n",
       "      <th>3</th>\n",
       "      <td>Belgium</td>\n",
       "      <td>58,381</td>\n",
       "      <td>9467</td>\n",
       "      <td>5037</td>\n",
       "      <td>817</td>\n",
       "      <td>11,589,616</td>\n",
       "      <td>376</td>\n",
       "      <td>42</td>\n",
       "      <td>42,659</td>\n",
       "      <td>5.6</td>\n",
       "    </tr>\n",
       "    <tr>\n",
       "      <th>4</th>\n",
       "      <td>Brazil</td>\n",
       "      <td>514,849</td>\n",
       "      <td>29314</td>\n",
       "      <td>2422</td>\n",
       "      <td>138</td>\n",
       "      <td>212,559,409</td>\n",
       "      <td>25</td>\n",
       "      <td>34</td>\n",
       "      <td>14,103</td>\n",
       "      <td>2.2</td>\n",
       "    </tr>\n",
       "  </tbody>\n",
       "</table>\n",
       "</div>"
      ]
     },
     "execution_count": 57,
     "metadata": {},
     "output_type": "execute_result"
    }
   ],
   "execution_count": 57
  },
  {
   "metadata": {
    "ExecuteTime": {
     "end_time": "2024-08-01T07:24:57.272656Z",
     "start_time": "2024-08-01T07:24:57.260142Z"
    }
   },
   "cell_type": "code",
   "source": "totaldeaths.dtypes",
   "id": "968bf642b6eeaf6c",
   "outputs": [
    {
     "data": {
      "text/plain": [
       "rowheadings               object\n",
       "Cases                     object\n",
       "Deaths                    object\n",
       "Cases per Million         object\n",
       "Deaths per Million        object\n",
       "population                object\n",
       "population_density        object\n",
       "median_age                object\n",
       "gdp_per_capita            object\n",
       "hospital_beds_per_100k    object\n",
       "dtype: object"
      ]
     },
     "execution_count": 58,
     "metadata": {},
     "output_type": "execute_result"
    }
   ],
   "execution_count": 58
  },
  {
   "metadata": {
    "ExecuteTime": {
     "end_time": "2024-08-01T07:24:58.179134Z",
     "start_time": "2024-08-01T07:24:58.155236Z"
    }
   },
   "cell_type": "code",
   "source": [
    "# 删除空格，转换类型\n",
    "totaldeaths.columns = totaldeaths.columns.str.replace(' ', '_').str.lower()\n",
    "for col in totaldeaths.columns[1:-1]:\n",
    "    totaldeaths[col] = totaldeaths[col].\\\n",
    "        str.replace('[^0-9]', '', regex=True).astype('int64')      # 删除逗号，并改类型\n",
    "totaldeaths['hospital_beds_per_100k'] = totaldeaths['hospital_beds_per_100k'].astype('float')\n",
    "totaldeaths.head()"
   ],
   "id": "f7a1b0b4daad52ce",
   "outputs": [
    {
     "data": {
      "text/plain": [
       "  rowheadings   cases  deaths  cases_per_million  deaths_per_million  \\\n",
       "0     Algeria    9394     653                214                  15   \n",
       "1     Austria   16642     668               1848                  74   \n",
       "2  Bangladesh   47153     650                286                   4   \n",
       "3     Belgium   58381    9467               5037                 817   \n",
       "4      Brazil  514849   29314               2422                 138   \n",
       "\n",
       "   population  population_density  median_age  gdp_per_capita  \\\n",
       "0    43851043                  17          29           13914   \n",
       "1     9006400                 107          44           45437   \n",
       "2   164689383                1265          28            3524   \n",
       "3    11589616                 376          42           42659   \n",
       "4   212559409                  25          34           14103   \n",
       "\n",
       "   hospital_beds_per_100k  \n",
       "0                     1.9  \n",
       "1                     7.4  \n",
       "2                     0.8  \n",
       "3                     5.6  \n",
       "4                     2.2  "
      ],
      "text/html": [
       "<div>\n",
       "<style scoped>\n",
       "    .dataframe tbody tr th:only-of-type {\n",
       "        vertical-align: middle;\n",
       "    }\n",
       "\n",
       "    .dataframe tbody tr th {\n",
       "        vertical-align: top;\n",
       "    }\n",
       "\n",
       "    .dataframe thead th {\n",
       "        text-align: right;\n",
       "    }\n",
       "</style>\n",
       "<table border=\"1\" class=\"dataframe\">\n",
       "  <thead>\n",
       "    <tr style=\"text-align: right;\">\n",
       "      <th></th>\n",
       "      <th>rowheadings</th>\n",
       "      <th>cases</th>\n",
       "      <th>deaths</th>\n",
       "      <th>cases_per_million</th>\n",
       "      <th>deaths_per_million</th>\n",
       "      <th>population</th>\n",
       "      <th>population_density</th>\n",
       "      <th>median_age</th>\n",
       "      <th>gdp_per_capita</th>\n",
       "      <th>hospital_beds_per_100k</th>\n",
       "    </tr>\n",
       "  </thead>\n",
       "  <tbody>\n",
       "    <tr>\n",
       "      <th>0</th>\n",
       "      <td>Algeria</td>\n",
       "      <td>9394</td>\n",
       "      <td>653</td>\n",
       "      <td>214</td>\n",
       "      <td>15</td>\n",
       "      <td>43851043</td>\n",
       "      <td>17</td>\n",
       "      <td>29</td>\n",
       "      <td>13914</td>\n",
       "      <td>1.9</td>\n",
       "    </tr>\n",
       "    <tr>\n",
       "      <th>1</th>\n",
       "      <td>Austria</td>\n",
       "      <td>16642</td>\n",
       "      <td>668</td>\n",
       "      <td>1848</td>\n",
       "      <td>74</td>\n",
       "      <td>9006400</td>\n",
       "      <td>107</td>\n",
       "      <td>44</td>\n",
       "      <td>45437</td>\n",
       "      <td>7.4</td>\n",
       "    </tr>\n",
       "    <tr>\n",
       "      <th>2</th>\n",
       "      <td>Bangladesh</td>\n",
       "      <td>47153</td>\n",
       "      <td>650</td>\n",
       "      <td>286</td>\n",
       "      <td>4</td>\n",
       "      <td>164689383</td>\n",
       "      <td>1265</td>\n",
       "      <td>28</td>\n",
       "      <td>3524</td>\n",
       "      <td>0.8</td>\n",
       "    </tr>\n",
       "    <tr>\n",
       "      <th>3</th>\n",
       "      <td>Belgium</td>\n",
       "      <td>58381</td>\n",
       "      <td>9467</td>\n",
       "      <td>5037</td>\n",
       "      <td>817</td>\n",
       "      <td>11589616</td>\n",
       "      <td>376</td>\n",
       "      <td>42</td>\n",
       "      <td>42659</td>\n",
       "      <td>5.6</td>\n",
       "    </tr>\n",
       "    <tr>\n",
       "      <th>4</th>\n",
       "      <td>Brazil</td>\n",
       "      <td>514849</td>\n",
       "      <td>29314</td>\n",
       "      <td>2422</td>\n",
       "      <td>138</td>\n",
       "      <td>212559409</td>\n",
       "      <td>25</td>\n",
       "      <td>34</td>\n",
       "      <td>14103</td>\n",
       "      <td>2.2</td>\n",
       "    </tr>\n",
       "  </tbody>\n",
       "</table>\n",
       "</div>"
      ]
     },
     "execution_count": 59,
     "metadata": {},
     "output_type": "execute_result"
    }
   ],
   "execution_count": 59
  },
  {
   "metadata": {
    "ExecuteTime": {
     "end_time": "2024-08-01T07:25:13.641026Z",
     "start_time": "2024-08-01T07:25:13.610764Z"
    }
   },
   "cell_type": "code",
   "source": "totaldeaths.dtypes",
   "id": "fd91c21b297a1e5c",
   "outputs": [
    {
     "data": {
      "text/plain": [
       "rowheadings                object\n",
       "cases                       int64\n",
       "deaths                      int64\n",
       "cases_per_million           int64\n",
       "deaths_per_million          int64\n",
       "population                  int64\n",
       "population_density          int64\n",
       "median_age                  int64\n",
       "gdp_per_capita              int64\n",
       "hospital_beds_per_100k    float64\n",
       "dtype: object"
      ]
     },
     "execution_count": 60,
     "metadata": {},
     "output_type": "execute_result"
    }
   ],
   "execution_count": 60
  },
  {
   "metadata": {
    "ExecuteTime": {
     "end_time": "2024-08-01T07:29:21.670290Z",
     "start_time": "2024-08-01T07:29:21.638929Z"
    }
   },
   "cell_type": "code",
   "source": [
    "# json的持久化保留\n",
    "import msgpack"
   ],
   "id": "fdc6c64de9846b1f",
   "outputs": [],
   "execution_count": 61
  },
  {
   "metadata": {
    "ExecuteTime": {
     "end_time": "2024-08-01T07:45:27.716682Z",
     "start_time": "2024-08-01T07:45:25.633580Z"
    }
   },
   "cell_type": "code",
   "source": [
    "response = requests.get('https://openaccess-api.clevelandart.org/api/artworks/?african_american_artists')\n",
    "camcollections = json.loads(response.text)\n",
    "print(len(camcollections['data']))"
   ],
   "id": "9b2ad9a9c772a225",
   "outputs": [
    {
     "name": "stdout",
     "output_type": "stream",
     "text": [
      "1000\n"
     ]
    }
   ],
   "execution_count": 82
  },
  {
   "metadata": {
    "ExecuteTime": {
     "end_time": "2024-08-01T07:31:38.694597Z",
     "start_time": "2024-08-01T07:31:38.663252Z"
    }
   },
   "cell_type": "code",
   "source": "pprint.pprint(camcollections['data'][0])",
   "id": "8c9b7657c9bd1d20",
   "outputs": [
    {
     "name": "stdout",
     "output_type": "stream",
     "text": [
      "{'accession_date': '2007-06-04T00:00:00',\n",
      " 'accession_number': '2007.158',\n",
      " 'alternate_images': [],\n",
      " 'alternate_titles': [],\n",
      " 'artists_tags': ['male', 'Black American Artists'],\n",
      " 'athena_id': 165157,\n",
      " 'citations': [{'citation': 'Frascina, Francis. \"Institutions, Culture, and '\n",
      "                            \"America's 'Cold War Years': The Making of \"\n",
      "                            'Greenberg\\'s \\'Modernist Painting\\',\" <em>Oxford '\n",
      "                            'Art Journal</em> 26 (2003).',\n",
      "                'page_number': 'Mentioned p. 84.',\n",
      "                'url': ''},\n",
      "               {'citation': 'Annual Exhibition: Sculpture, Paintings, '\n",
      "                            'Watercolors, Drawings (New York: Whitney Museum '\n",
      "                            'of American Art, 1958).',\n",
      "                'page_number': 'Unpaginated, [8],[12]',\n",
      "                'url': None},\n",
      "               {'citation': '\"Moscow to See Modern U.S. Art,\"<em> New York '\n",
      "                            'Times</em> (May 31, 1959).',\n",
      "                'page_number': 'P. 60',\n",
      "                'url': None},\n",
      "               {'citation': 'Baur, John I. H. <em>Between the Fairs: 25 Years '\n",
      "                            'of America Art, 1939-1964.</em> New York. Whitney '\n",
      "                            'Museum. Catalogues. 1962-64. New York: Published '\n",
      "                            'for the Whitney Museum of American Art by F.A. '\n",
      "                            'Praeger, 1964.',\n",
      "                'page_number': 'P. 88',\n",
      "                'url': None},\n",
      "               {'citation': 'Kramer,Hilton. \"In the Museums,\" <em>Art in '\n",
      "                            'America</em> 52 (April 1964).',\n",
      "                'page_number': 'P. 42',\n",
      "                'url': None},\n",
      "               {'citation': 'Illustration for Victor S. Navasky, \"With Malice '\n",
      "                            'Toward All,\" <em>New York Times Book Review '\n",
      "                            '</em>(February 27, 1966).',\n",
      "                'page_number': 'P. 4',\n",
      "                'url': None},\n",
      "               {'citation': 'Chwast, Seymour, and Steven Heller. <em>The Art '\n",
      "                            'of New York</em>. New York: H.N. Abrams, 1983.',\n",
      "                'page_number': 'P. 18, 76',\n",
      "                'url': None},\n",
      "               {'citation': 'Berman,Avis. \"Jacob Lawrence and the Making of '\n",
      "                            'Americans,\" <em>ARTnews</em> 83 (February 1984).',\n",
      "                'page_number': 'P. 82',\n",
      "                'url': None},\n",
      "               {'citation': 'Wheat, Ellen Harkins, Jacob Lawrence, and '\n",
      "                            'Patricia Hills. <em>Jacob Lawrence, American '\n",
      "                            'Painter.</em> Seattle: University of Washington '\n",
      "                            'Press in association with the Seattle Art Museum, '\n",
      "                            '1986.',\n",
      "                'page_number': 'P. 107,129',\n",
      "                'url': None},\n",
      "               {'citation': \"Sotheby's (Firm). <em>American Impressionist \"\n",
      "                            '&amp; 20th Century Paintings, Drawings, '\n",
      "                            'Watercolors &amp; Sculpture</em>. May 29, 1981. '\n",
      "                            'Lot 182.',\n",
      "                'page_number': None,\n",
      "                'url': None},\n",
      "               {'citation': 'Glueck, Grace. <em>New York: The Painted '\n",
      "                            'City</em>. Salt Lake City: Peregrine Smith Books, '\n",
      "                            '1992.',\n",
      "                'page_number': 'P. 54',\n",
      "                'url': None},\n",
      "               {'citation': 'Stern, Robert A.M. et al., <em>New York 1960 '\n",
      "                            '</em>(New York: Monacelli Press, 1995).',\n",
      "                'page_number': 'P. 1164',\n",
      "                'url': None},\n",
      "               {'citation': 'Richard J. Powell, \"Harmonizer of Chaos,\" in '\n",
      "                            'Peter T. Nesbett and Michelle DuBois, eds., Over '\n",
      "                            'the Line: The Art and Life of Jacob Lawrence '\n",
      "                            '(Seattle: University of Washington, 2000).',\n",
      "                'page_number': 'P. 148-49',\n",
      "                'url': None},\n",
      "               {'citation': 'Nesbett, Peter T. and Michelle DuBois, <em>Jacob '\n",
      "                            'Lawrence: Paintings, Drawings, and Murals '\n",
      "                            '(1935-1999)</em>: <em>A Catalogue Raisonné.</em> '\n",
      "                            'Seattle: University of Washington, 2000.',\n",
      "                'page_number': 'P. 141',\n",
      "                'url': None},\n",
      "               {'citation': 'Wright, Gwendolyn. \"Permable Boundaries,\" in '\n",
      "                            'Peter Madsen and Richard Plunz, eds., <em>The '\n",
      "                            'Urban Lifeworld</em> (London: Routledge, 2002).',\n",
      "                'page_number': 'Reproduced p. 210',\n",
      "                'url': None},\n",
      "               {'citation': 'Kushner, Marilyn S.\"Exhibiting Art at the '\n",
      "                            'American National Exhibition in Moscow, 1959: '\n",
      "                            'Domestic Politics and Cultural Diplomacy,\" '\n",
      "                            '<em>Journal of Cold War Studies</em> 4 (Winter '\n",
      "                            '2002), 24.',\n",
      "                'page_number': 'P. 24',\n",
      "                'url': None},\n",
      "               {'citation': 'Hills, Patricia, and Melissa Renn. Syncopated '\n",
      "                            'Rhythms: 20th-Century African American Art from '\n",
      "                            'the George and Joyce Wein Collection. Boston: '\n",
      "                            'Boston University Art Gallery, 2005.',\n",
      "                'page_number': 'P. 64-65',\n",
      "                'url': None},\n",
      "               {'citation': '\"Harlem\\'s Knights: Extraordinary $2 Million '\n",
      "                            'Bequest for Lawrence Scholars Program,\"<em> '\n",
      "                            'Parsons re:D</em> 22 (May 2005).',\n",
      "                'page_number': 'P. 22',\n",
      "                'url': None},\n",
      "               {'citation': '<em>The Cleveland Museum of Art Annual Report '\n",
      "                            '</em>(July 1,2006- June 30, 2007).',\n",
      "                'page_number': 'P. 26-7, 32',\n",
      "                'url': None},\n",
      "               {'citation': \"Adams, Henry.<em> What's American About American \"\n",
      "                            'Art?: A Gallery Tour in the Cleveland Museum of '\n",
      "                            'Art.</em> Cleveland: Cleveland Museum of Art, '\n",
      "                            '2008.',\n",
      "                'page_number': 'P. 8,13, 144-145',\n",
      "                'url': None},\n",
      "               {'citation': 'Cole, Mark. \"Jacob Lawrence\\'s Fulton and '\n",
      "                            'Nostrand,\" <em>Cleveland Art</em> 48 (February '\n",
      "                            '2008).',\n",
      "                'page_number': 'P. 6-7; Reproduced p. 6.',\n",
      "                'url': None},\n",
      "               {'citation': 'Gordon, Margery. \"Eyes on the Prizes,\" <em>Art + '\n",
      "                            'Auction</em> 31 (February 2008).',\n",
      "                'page_number': 'Reproduced p. 117',\n",
      "                'url': None},\n",
      "               {'citation': 'Cole, Mark, \"Jacob Lawrence\\'s Fulton and '\n",
      "                            'Nostrand\", Cleveland Museum of Art. <em>Cleveland '\n",
      "                            'Art: The Cleveland Museum of Art Members '\n",
      "                            'Magazine</em>. Vol. 48 no. 2, February 2008',\n",
      "                'page_number': 'Mentioned & reproduced: p. 6',\n",
      "                'url': 'https://archive.org/details/CMAMM2008-02/page/6/mode'},\n",
      "               {'citation': 'Cleveland Museum of Art, David Franklin, and C. '\n",
      "                            'Griffith Mann. <em>Treasures from the Cleveland '\n",
      "                            'Museum of Art</em>. Cleveland, OH: Cleveland '\n",
      "                            'Museum of Art, 2012.',\n",
      "                'page_number': 'P. 322-23',\n",
      "                'url': None},\n",
      "               {'citation': 'Cole, Mark, Amy Sparks, and Rebecca Michaels.<em> '\n",
      "                            'African American Art: The Cleveland Museum of '\n",
      "                            'Art.</em> [Cleveland, Ohio]: Cleveland Museum of '\n",
      "                            'Art, 2013.',\n",
      "                'page_number': 'P. 3,18; Reproduced p. 22',\n",
      "                'url': None},\n",
      "               {'citation': 'Cole, Mark. \"American Art of the 1930s to 1950s,\" '\n",
      "                            '<em>Cleveland Art</em> 54 (January/February '\n",
      "                            '2014).',\n",
      "                'page_number': 'P. 21',\n",
      "                'url': None},\n",
      "               {'citation': 'Cleveland Museum of Art. <em>The CMA Companion: A '\n",
      "                            'Guide to the Cleveland Museum of Art</em>. '\n",
      "                            'Cleveland: Cleveland Museum of Art, 2014.',\n",
      "                'page_number': 'Mentioned and reproduced: P. 62',\n",
      "                'url': ''},\n",
      "               {'citation': 'Cleveland Museum of Art. <em>Museum Masters: '\n",
      "                            '2016-17 Companion Guide.</em> [Cleveland, Ohio]: '\n",
      "                            'Cleveland Museum of Art, 2016.',\n",
      "                'page_number': 'Mentioned and reproduced: P. 23',\n",
      "                'url': ''},\n",
      "               {'citation': '\"Recommendations from Our Curators.” '\n",
      "                            '<em>Cleveland Art: Cleveland Museum of Art '\n",
      "                            'Members Magazine </em>61, no. 2 (Spring 2021): '\n",
      "                            '31.',\n",
      "                'page_number': 'Reproduced and Mentioned: P. 31.',\n",
      "                'url': ''},\n",
      "               {'citation': 'Kushner, Marilyn S., \"Exhibiting Art at the '\n",
      "                            'American National Exhibition in Moscow,\" '\n",
      "                            '<em>Journal of Cold War Studies </em>4 (Winter '\n",
      "                            '2002).',\n",
      "                'page_number': 'P. 24',\n",
      "                'url': ''}],\n",
      " 'collapse_artists': False,\n",
      " 'collection': 'American - Painting',\n",
      " 'conservation_statement': None,\n",
      " 'copyright': '© The Jacob and Gwendolyn Knight Lawrence Foundation, Seattle / '\n",
      "              'Artists Rights Society (ARS), New York.',\n",
      " 'creation_date': '1958',\n",
      " 'creation_date_earliest': 1958,\n",
      " 'creation_date_latest': 1958,\n",
      " 'creators': [{'biography': 'Jacob Lawrence (born 1917) has been a prominent '\n",
      "                            'artist since 1941 when, at age 24, he became the '\n",
      "                            'first African American to have a work in the '\n",
      "                            'permanent collection of the Museum of Modern Art '\n",
      "                            'in New York. His career, now spanning seven '\n",
      "                            'decades, has been devoted to documenting '\n",
      "                            'African-American life and history, from everyday '\n",
      "                            'scenes to the universal struggle for freedom, '\n",
      "                            'social justice, and human dignity. Moving to '\n",
      "                            'Harlem as a teenager in 1930, Lawrence was '\n",
      "                            'influenced by the artists, writers, and '\n",
      "                            'philosophers of the Harlem Renaissance-among them '\n",
      "                            'Romare Bearden, Langston Hughes, and W.E.B. '\n",
      "                            'DuBois-who fostered pride in African-American '\n",
      "                            \"culture. Lawrence's subjects include the \"\n",
      "                            'legendary abolitionist heroes Frederick Douglass, '\n",
      "                            'Harriet Tubman, and John Brown, and the story of '\n",
      "                            'the massive migration of African Americans from '\n",
      "                            'the rural South to the industrialized, urban '\n",
      "                            'North during the early decades of the 20th '\n",
      "                            'century. After thorough research, Lawrence '\n",
      "                            'chronicles the crucial events of each saga by '\n",
      "                            'creating a series of small paintings on paper in '\n",
      "                            'a modernist style of flat, brightly-colored '\n",
      "                            'forms.',\n",
      "               'birth_year': '1917',\n",
      "               'death_year': '2000',\n",
      "               'description': 'Jacob Lawrence (American, 1917–2000)',\n",
      "               'extent': None,\n",
      "               'id': 4050,\n",
      "               'name_in_original_language': None,\n",
      "               'qualifier': None,\n",
      "               'role': 'artist'}],\n",
      " 'creditline': 'Mr. and Mrs. William H. Marlatt Fund',\n",
      " 'culture': ['America, 20th century'],\n",
      " 'current_location': '226B American Modern',\n",
      " 'date_text': '1958',\n",
      " 'department': 'American Painting and Sculpture',\n",
      " 'description': 'Having moved to Harlem as a teenager, Lawrence would become '\n",
      "                'the first major artist trained entirely within the '\n",
      "                'neighborhood’s African American community. Throughout his '\n",
      "                'long career he believed art should be a quest for both self '\n",
      "                'and social identity, a notion reflected in this work, one of '\n",
      "                'his liveliest and largest paintings. Teeming with more than '\n",
      "                'forty figures, it depicts the vibrant streetscape at the '\n",
      "                'intersection of Fulton Street and Nostrand Avenue in '\n",
      "                'Brooklyn, near where the artist lived at the time.',\n",
      " 'did_you_know': 'Lawrence was teaching art at the Pratt Institute in Brooklyn '\n",
      "                 'when he created this painting.',\n",
      " 'dimensions': {'unframed': {'height': 0.609, 'width': 0.762}},\n",
      " 'edition_of_the_work': None,\n",
      " 'exhibitions': {'current': [],\n",
      "                 'legacy': [{'description': 'Annual Exhibition: Sculpture, '\n",
      "                                            'Paintings, Watercolors, Drawings, '\n",
      "                                            'Whitney Museum of American Art, '\n",
      "                                            'New York, November 19. '\n",
      "                                            '1958-January 4, 1959.',\n",
      "                             'opening_date': '1959-01-04T00:00:00'},\n",
      "                            {'description': 'American Sculpture and Painting: '\n",
      "                                            'American National Exhibition in '\n",
      "                                            'Moscow, The Pushkin Museum of '\n",
      "                                            'Fine Arts, Moscow, July '\n",
      "                                            '25-September 5, 1959; Whitney '\n",
      "                                            'Museum of American Art, New York, '\n",
      "                                            'October 28-November 15, 1959.',\n",
      "                             'opening_date': '1959-07-25T00:00:00'},\n",
      "                            {'description': 'Between the Fairs: Twenty-Five '\n",
      "                                            'Years of American Art, 1939-1964, '\n",
      "                                            'Whitney Museum of American Art, '\n",
      "                                            'New York, June 24-September 23, '\n",
      "                                            '1964.',\n",
      "                             'opening_date': '1964-06-24T00:00:00'},\n",
      "                            {'description': 'Contemporary Urban Visions, '\n",
      "                                            'Wollman Hall, New School Art '\n",
      "                                            'Center, New School for Social '\n",
      "                                            'Research, New York, January '\n",
      "                                            '25-February 24, 1966.',\n",
      "                             'opening_date': '1966-01-25T00:00:00'},\n",
      "                            {'description': 'Crossing State Lines: '\n",
      "                                            'Twentieth-Century Art from '\n",
      "                                            'Private Collections in '\n",
      "                                            'Westchester and Fairfield '\n",
      "                                            'Counties, Neuberger Museum of '\n",
      "                                            'Art, Purchase College, State '\n",
      "                                            'University of New York, March '\n",
      "                                            '26-June 18, 1995.',\n",
      "                             'opening_date': '1995-03-26T00:00:00'},\n",
      "                            {'description': 'Jacob Lawrence Memorial '\n",
      "                                            'Exhibition: Paintings, 1937-1999, '\n",
      "                                            'DC Moore Gallery, New York, '\n",
      "                                            'February 6-March 3, 2001.',\n",
      "                             'opening_date': '2001-02-06T00:00:00'},\n",
      "                            {'description': 'Syncopated Rhythms: 20th-Century '\n",
      "                                            'African American Art from the '\n",
      "                                            'George and Joyce Wein Collection, '\n",
      "                                            'Boston University Art Gallery, '\n",
      "                                            'November 18, 2005-January 22, '\n",
      "                                            '2006.',\n",
      "                             'opening_date': '2005-11-18T00:00:00'}]},\n",
      " 'external_resources': {'internet_archive': [], 'wikidata': []},\n",
      " 'find_spot': None,\n",
      " 'former_accession_numbers': [],\n",
      " 'gallery_donor_text': 'Hammond Hemmelgarn Family Gallery',\n",
      " 'id': 165157,\n",
      " 'images': {},\n",
      " 'impression': None,\n",
      " 'inscriptions': [{'inscription': 'signed lower right \"Jacob Lawrence 58\"',\n",
      "                   'inscription_remark': None,\n",
      "                   'inscription_translation': None}],\n",
      " 'is_highlight': True,\n",
      " 'is_nazi_era_provenance': False,\n",
      " 'legal_status': 'accessioned',\n",
      " 'measurements': 'Unframed: 60.9 x 76.2 cm (24 x 30 in.)',\n",
      " 'on_loan': False,\n",
      " 'provenance': [{'citations': [],\n",
      "                 'date': '1958',\n",
      "                 'description': '(The Alan Stone Gallery, New York, NY,  sold '\n",
      "                                'to Alexander and Sylvian Rittmaster)',\n",
      "                 'footnotes': ['<div><!--block-->Jacob Lawrence sold the '\n",
      "                               'painting directly to the Alan Gallery in '\n",
      "                               '1958.&nbsp;</div>']},\n",
      "                {'citations': [],\n",
      "                 'date': '1958-1981',\n",
      "                 'description': 'Alexander [1916-1969] and Sylvian Rittmaster '\n",
      "                                '[1917-1978], Woodmere, NY',\n",
      "                 'footnotes': ['<div><!--block-->Although Slyvian Rittmaster '\n",
      "                               'died in 1978, the 1981 Sotheby Parke Bernet '\n",
      "                               'catalogue lists the painting as coming from '\n",
      "                               \"their collection, hence listing the painting's \"\n",
      "                               'dates with the Rittmasters as ending with 1981 '\n",
      "                               'rather than 1978.&nbsp;</div>']},\n",
      "                {'citations': [],\n",
      "                 'date': '1981-1983?',\n",
      "                 'description': '(Sotheby Park Bernet, New York, NY, May '\n",
      "                                '29,1981, lot 182, sold to the Terry '\n",
      "                                'Dintenfass Gallery)',\n",
      "                 'footnotes': None},\n",
      "                {'citations': [],\n",
      "                 'date': '1983',\n",
      "                 'description': '(Terry Dintenfass Gallery, New York, NY, sold '\n",
      "                                'to George and Joyce Wein)',\n",
      "                 'footnotes': []},\n",
      "                {'citations': [],\n",
      "                 'date': '1983-2007',\n",
      "                 'description': 'George [b. 1925] and Joyce [1928-2005] Wein, '\n",
      "                                'New York, NY, consigned to the Michael '\n",
      "                                'Rosenfeld Gallery',\n",
      "                 'footnotes': []},\n",
      "                {'citations': [],\n",
      "                 'date': '2007',\n",
      "                 'description': '(Michael Rosenfeld Gallery, New York, NY, '\n",
      "                                'sold to the Cleveland Museum of Art)',\n",
      "                 'footnotes': None},\n",
      "                {'citations': [],\n",
      "                 'date': '2007-',\n",
      "                 'description': 'The Cleveland Museum of Art, Cleveland, OH',\n",
      "                 'footnotes': []}],\n",
      " 'recently_acquired': False,\n",
      " 'record_type': 'object',\n",
      " 'related_works': [],\n",
      " 'share_license_status': 'Copyrighted',\n",
      " 'sketchfab_id': None,\n",
      " 'sketchfab_url': None,\n",
      " 'sortable_date': 1958,\n",
      " 'state_of_the_work': None,\n",
      " 'support_materials': [],\n",
      " 'technique': 'tempera on Masonite',\n",
      " 'title': 'Fulton and Nostrand',\n",
      " 'tombstone': 'Fulton and Nostrand, 1958. Jacob Lawrence (American, '\n",
      "              '1917–2000). Tempera on Masonite; unframed: 60.9 x 76.2 cm (24 x '\n",
      "              '30 in.). The Cleveland Museum of Art, Mr. and Mrs. William H. '\n",
      "              'Marlatt Fund 2007.158 © The Jacob and Gwendolyn Knight Lawrence '\n",
      "              'Foundation, Seattle / Artists Rights Society (ARS), New York.',\n",
      " 'type': 'Painting',\n",
      " 'updated_at': '2024-03-26 02:01:03.089000',\n",
      " 'url': 'https://clevelandart.org/art/2007.158'}\n"
     ]
    }
   ],
   "execution_count": 65
  },
  {
   "metadata": {
    "ExecuteTime": {
     "end_time": "2024-08-01T07:33:50.438420Z",
     "start_time": "2024-08-01T07:33:50.248035Z"
    }
   },
   "cell_type": "code",
   "source": [
    "with open('views/camcollections.json', 'w') as f:\n",
    "    json.dump(camcollections, f)"
   ],
   "id": "65f1a814fff09024",
   "outputs": [],
   "execution_count": 66
  },
  {
   "metadata": {
    "ExecuteTime": {
     "end_time": "2024-08-01T07:34:16.392869Z",
     "start_time": "2024-08-01T07:34:16.347605Z"
    }
   },
   "cell_type": "code",
   "source": [
    "with open('views/camcollections.json', 'r') as f:\n",
    "    camcollections = json.load(f)"
   ],
   "id": "dec6f13e7affdefd",
   "outputs": [],
   "execution_count": 67
  },
  {
   "metadata": {
    "ExecuteTime": {
     "end_time": "2024-08-01T07:34:47.877282Z",
     "start_time": "2024-08-01T07:34:47.871443Z"
    }
   },
   "cell_type": "code",
   "source": "pprint.pprint(camcollections['data'][0]['creators'])",
   "id": "143fcc6f31574b42",
   "outputs": [
    {
     "name": "stdout",
     "output_type": "stream",
     "text": [
      "[{'biography': 'Jacob Lawrence (born 1917) has been a prominent artist since '\n",
      "               '1941 when, at age 24, he became the first African American to '\n",
      "               'have a work in the permanent collection of the Museum of '\n",
      "               'Modern Art in New York. His career, now spanning seven '\n",
      "               'decades, has been devoted to documenting African-American life '\n",
      "               'and history, from everyday scenes to the universal struggle '\n",
      "               'for freedom, social justice, and human dignity. Moving to '\n",
      "               'Harlem as a teenager in 1930, Lawrence was influenced by the '\n",
      "               'artists, writers, and philosophers of the Harlem '\n",
      "               'Renaissance-among them Romare Bearden, Langston Hughes, and '\n",
      "               'W.E.B. DuBois-who fostered pride in African-American culture. '\n",
      "               \"Lawrence's subjects include the legendary abolitionist heroes \"\n",
      "               'Frederick Douglass, Harriet Tubman, and John Brown, and the '\n",
      "               'story of the massive migration of African Americans from the '\n",
      "               'rural South to the industrialized, urban North during the '\n",
      "               'early decades of the 20th century. After thorough research, '\n",
      "               'Lawrence chronicles the crucial events of each saga by '\n",
      "               'creating a series of small paintings on paper in a modernist '\n",
      "               'style of flat, brightly-colored forms.',\n",
      "  'birth_year': '1917',\n",
      "  'death_year': '2000',\n",
      "  'description': 'Jacob Lawrence (American, 1917–2000)',\n",
      "  'extent': None,\n",
      "  'id': 4050,\n",
      "  'name_in_original_language': None,\n",
      "  'qualifier': None,\n",
      "  'role': 'artist'}]\n"
     ]
    }
   ],
   "execution_count": 68
  },
  {
   "metadata": {
    "ExecuteTime": {
     "end_time": "2024-08-01T07:43:34.951850Z",
     "start_time": "2024-08-01T07:43:34.931821Z"
    }
   },
   "cell_type": "code",
   "source": [
    "# 另一种方法：使用msgpack方法\n",
    "with open('views/camcollections.msgpack', 'wb') as outfile:\n",
    "    packed = msgpack.packb(camcollections)\n",
    "    outfile.write(packed)"
   ],
   "id": "c5aa27db2cbf9b0",
   "outputs": [],
   "execution_count": 78
  },
  {
   "metadata": {
    "ExecuteTime": {
     "end_time": "2024-08-01T07:43:36.685741Z",
     "start_time": "2024-08-01T07:43:36.670638Z"
    }
   },
   "cell_type": "code",
   "source": [
    "with open(\"views/camcollections.msgpack\", 'rb') as data_file:\n",
    "    msgbytes = data_file.read()\n",
    "camcollections = msgpack.unpackb(msgbytes)"
   ],
   "id": "c4ca5623450c3e8c",
   "outputs": [],
   "execution_count": 79
  },
  {
   "metadata": {
    "ExecuteTime": {
     "end_time": "2024-08-01T07:45:47.194061Z",
     "start_time": "2024-08-01T07:45:47.180010Z"
    }
   },
   "cell_type": "code",
   "source": "pprint.pprint(camcollections['data'][0]['creators'])",
   "id": "411e77f8b58c585a",
   "outputs": [
    {
     "name": "stdout",
     "output_type": "stream",
     "text": [
      "[{'biography': 'Jacob Lawrence (born 1917) has been a prominent artist since '\n",
      "               '1941 when, at age 24, he became the first African American to '\n",
      "               'have a work in the permanent collection of the Museum of '\n",
      "               'Modern Art in New York. His career, now spanning seven '\n",
      "               'decades, has been devoted to documenting African-American life '\n",
      "               'and history, from everyday scenes to the universal struggle '\n",
      "               'for freedom, social justice, and human dignity. Moving to '\n",
      "               'Harlem as a teenager in 1930, Lawrence was influenced by the '\n",
      "               'artists, writers, and philosophers of the Harlem '\n",
      "               'Renaissance-among them Romare Bearden, Langston Hughes, and '\n",
      "               'W.E.B. DuBois-who fostered pride in African-American culture. '\n",
      "               \"Lawrence's subjects include the legendary abolitionist heroes \"\n",
      "               'Frederick Douglass, Harriet Tubman, and John Brown, and the '\n",
      "               'story of the massive migration of African Americans from the '\n",
      "               'rural South to the industrialized, urban North during the '\n",
      "               'early decades of the 20th century. After thorough research, '\n",
      "               'Lawrence chronicles the crucial events of each saga by '\n",
      "               'creating a series of small paintings on paper in a modernist '\n",
      "               'style of flat, brightly-colored forms.',\n",
      "  'birth_year': '1917',\n",
      "  'death_year': '2000',\n",
      "  'description': 'Jacob Lawrence (American, 1917–2000)',\n",
      "  'extent': None,\n",
      "  'id': 4050,\n",
      "  'name_in_original_language': None,\n",
      "  'qualifier': None,\n",
      "  'role': 'artist'}]\n"
     ]
    }
   ],
   "execution_count": 83
  },
  {
   "metadata": {},
   "cell_type": "code",
   "outputs": [],
   "execution_count": null,
   "source": "",
   "id": "6424159e7c15fac8"
  }
 ],
 "metadata": {
  "kernelspec": {
   "display_name": "Python 3",
   "language": "python",
   "name": "python3"
  },
  "language_info": {
   "codemirror_mode": {
    "name": "ipython",
    "version": 2
   },
   "file_extension": ".py",
   "mimetype": "text/x-python",
   "name": "python",
   "nbconvert_exporter": "python",
   "pygments_lexer": "ipython2",
   "version": "2.7.6"
  }
 },
 "nbformat": 4,
 "nbformat_minor": 5
}
