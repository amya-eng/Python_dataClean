{
 "cells": [
  {
   "cell_type": "code",
   "id": "initial_id",
   "metadata": {
    "collapsed": true,
    "ExecuteTime": {
     "end_time": "2024-08-01T11:45:28.117359Z",
     "start_time": "2024-08-01T11:45:26.871802Z"
    }
   },
   "source": [
    "# 单向频率分布分析\n",
    "import pandas as pd\n",
    "nls97 = pd.read_csv('C:\\dataClean\\Python-Data-Cleaning-Cookbook\\Chapter03\\data\\\\nls97.csv')\n",
    "nls97.set_index('personid', inplace=True)"
   ],
   "outputs": [],
   "execution_count": 1
  },
  {
   "metadata": {
    "ExecuteTime": {
     "end_time": "2024-08-01T11:46:28.352210Z",
     "start_time": "2024-08-01T11:46:28.149659Z"
    }
   },
   "cell_type": "code",
   "source": "nls97.loc[:, nls97.dtypes=='object'] = nls97.select_dtypes(include='object').apply(lambda x: x.astype('category'))",
   "id": "630ea45f1277c190",
   "outputs": [],
   "execution_count": 2
  },
  {
   "metadata": {
    "ExecuteTime": {
     "end_time": "2024-08-01T11:47:14.382745Z",
     "start_time": "2024-08-01T11:47:14.328317Z"
    }
   },
   "cell_type": "code",
   "source": [
    "catcols = nls97.select_dtypes(include='category').columns\n",
    "nls97[catcols].isnull().sum()"
   ],
   "id": "44847d3944d3bfa7",
   "outputs": [
    {
     "data": {
      "text/plain": [
       "gender                      0\n",
       "maritalstatus            2312\n",
       "weeklyhrscomputer        2274\n",
       "weeklyhrstv              2273\n",
       "highestdegree              31\n",
       "govprovidejobs           7151\n",
       "govpricecontrols         7125\n",
       "govhealthcare            7110\n",
       "govelderliving           7112\n",
       "govindhelp               7169\n",
       "govunemp                 7173\n",
       "govincomediff            7209\n",
       "govcollegefinance        7109\n",
       "govdecenthousing         7137\n",
       "govprotectenvironment    7124\n",
       "colenrfeb97              7734\n",
       "colenroct97               483\n",
       "colenrfeb98               483\n",
       "colenroct98                96\n",
       "colenrfeb99               119\n",
       "colenroct99               133\n",
       "colenrfeb00               164\n",
       "colenroct00               179\n",
       "colenrfeb01               198\n",
       "colenroct01               226\n",
       "colenrfeb02               252\n",
       "colenroct02               286\n",
       "colenrfeb03               326\n",
       "colenroct03               362\n",
       "colenrfeb04               406\n",
       "colenroct04               438\n",
       "colenrfeb05               476\n",
       "colenroct05               513\n",
       "colenrfeb06               558\n",
       "colenroct06               577\n",
       "colenrfeb07               632\n",
       "colenroct07               653\n",
       "colenrfeb08               695\n",
       "colenroct08               704\n",
       "colenrfeb09               748\n",
       "colenroct09               791\n",
       "colenrfeb10               868\n",
       "colenroct10               893\n",
       "colenrfeb11               947\n",
       "colenroct11              1012\n",
       "colenrfeb12              1190\n",
       "colenroct12              1230\n",
       "colenrfeb13              1230\n",
       "colenroct13              1230\n",
       "colenrfeb14              1360\n",
       "colenroct14              1515\n",
       "colenrfeb15              1515\n",
       "colenroct15              1515\n",
       "colenrfeb16              1948\n",
       "colenroct16              2251\n",
       "colenrfeb17              2251\n",
       "colenroct17              2250\n",
       "dtype: int64"
      ]
     },
     "execution_count": 3,
     "metadata": {},
     "output_type": "execute_result"
    }
   ],
   "execution_count": 3
  },
  {
   "metadata": {
    "ExecuteTime": {
     "end_time": "2024-08-01T11:47:52.793549Z",
     "start_time": "2024-08-01T11:47:52.771807Z"
    }
   },
   "cell_type": "code",
   "source": [
    "# 显示婚姻状况的频率\n",
    "nls97.maritalstatus.value_counts()"
   ],
   "id": "a1c0102111c68322",
   "outputs": [
    {
     "data": {
      "text/plain": [
       "Married          3066\n",
       "Never-married    2766\n",
       "Divorced          663\n",
       "Separated         154\n",
       "Widowed            23\n",
       "Name: maritalstatus, dtype: int64"
      ]
     },
     "execution_count": 4,
     "metadata": {},
     "output_type": "execute_result"
    }
   ],
   "execution_count": 4
  },
  {
   "metadata": {
    "ExecuteTime": {
     "end_time": "2024-08-01T11:48:19.633033Z",
     "start_time": "2024-08-01T11:48:19.617494Z"
    }
   },
   "cell_type": "code",
   "source": "nls97.maritalstatus.value_counts(sort=False)",
   "id": "7baae43b019e2f7b",
   "outputs": [
    {
     "data": {
      "text/plain": [
       "Divorced          663\n",
       "Married          3066\n",
       "Never-married    2766\n",
       "Separated         154\n",
       "Widowed            23\n",
       "Name: maritalstatus, dtype: int64"
      ]
     },
     "execution_count": 5,
     "metadata": {},
     "output_type": "execute_result"
    }
   ],
   "execution_count": 5
  },
  {
   "metadata": {
    "ExecuteTime": {
     "end_time": "2024-08-01T11:48:41.276435Z",
     "start_time": "2024-08-01T11:48:41.256435Z"
    }
   },
   "cell_type": "code",
   "source": "nls97.maritalstatus.value_counts(sort=False, normalize=True)",
   "id": "e6cd97a648f79e9c",
   "outputs": [
    {
     "data": {
      "text/plain": [
       "Divorced         0.099371\n",
       "Married          0.459532\n",
       "Never-married    0.414568\n",
       "Separated        0.023082\n",
       "Widowed          0.003447\n",
       "Name: maritalstatus, dtype: float64"
      ]
     },
     "execution_count": 6,
     "metadata": {},
     "output_type": "execute_result"
    }
   ],
   "execution_count": 6
  },
  {
   "metadata": {
    "ExecuteTime": {
     "end_time": "2024-08-01T11:49:21.374559Z",
     "start_time": "2024-08-01T11:49:21.331650Z"
    }
   },
   "cell_type": "code",
   "source": "nls97.filter(like='gov').apply(pd.value_counts, normalize=True)    # 第一列都是单元格内的内容",
   "id": "c01d326768c91272",
   "outputs": [
    {
     "data": {
      "text/plain": [
       "                   govprovidejobs  govpricecontrols  govhealthcare  \\\n",
       "1. Definitely            0.247681          0.541689       0.665422   \n",
       "2. Probably              0.336607          0.334051       0.271078   \n",
       "3. Probably not          0.252046          0.086606       0.045358   \n",
       "4. Definitely not        0.163666          0.037655       0.018143   \n",
       "\n",
       "                   govelderliving  govindhelp  govunemp  govincomediff  \\\n",
       "1. Definitely            0.700321    0.428650  0.218112       0.324507   \n",
       "2. Probably              0.247863    0.411019  0.403092       0.284507   \n",
       "3. Probably not          0.037927    0.119008  0.262838       0.228732   \n",
       "4. Definitely not        0.013889    0.041322  0.115958       0.162254   \n",
       "\n",
       "                   govcollegefinance  govdecenthousing  govprotectenvironment  \n",
       "1. Definitely               0.734400          0.442339               0.668817  \n",
       "2. Probably                 0.230400          0.433676               0.286559  \n",
       "3. Probably not             0.026667          0.100162               0.029570  \n",
       "4. Definitely not           0.008533          0.023822               0.015054  "
      ],
      "text/html": [
       "<div>\n",
       "<style scoped>\n",
       "    .dataframe tbody tr th:only-of-type {\n",
       "        vertical-align: middle;\n",
       "    }\n",
       "\n",
       "    .dataframe tbody tr th {\n",
       "        vertical-align: top;\n",
       "    }\n",
       "\n",
       "    .dataframe thead th {\n",
       "        text-align: right;\n",
       "    }\n",
       "</style>\n",
       "<table border=\"1\" class=\"dataframe\">\n",
       "  <thead>\n",
       "    <tr style=\"text-align: right;\">\n",
       "      <th></th>\n",
       "      <th>govprovidejobs</th>\n",
       "      <th>govpricecontrols</th>\n",
       "      <th>govhealthcare</th>\n",
       "      <th>govelderliving</th>\n",
       "      <th>govindhelp</th>\n",
       "      <th>govunemp</th>\n",
       "      <th>govincomediff</th>\n",
       "      <th>govcollegefinance</th>\n",
       "      <th>govdecenthousing</th>\n",
       "      <th>govprotectenvironment</th>\n",
       "    </tr>\n",
       "  </thead>\n",
       "  <tbody>\n",
       "    <tr>\n",
       "      <th>1. Definitely</th>\n",
       "      <td>0.247681</td>\n",
       "      <td>0.541689</td>\n",
       "      <td>0.665422</td>\n",
       "      <td>0.700321</td>\n",
       "      <td>0.428650</td>\n",
       "      <td>0.218112</td>\n",
       "      <td>0.324507</td>\n",
       "      <td>0.734400</td>\n",
       "      <td>0.442339</td>\n",
       "      <td>0.668817</td>\n",
       "    </tr>\n",
       "    <tr>\n",
       "      <th>2. Probably</th>\n",
       "      <td>0.336607</td>\n",
       "      <td>0.334051</td>\n",
       "      <td>0.271078</td>\n",
       "      <td>0.247863</td>\n",
       "      <td>0.411019</td>\n",
       "      <td>0.403092</td>\n",
       "      <td>0.284507</td>\n",
       "      <td>0.230400</td>\n",
       "      <td>0.433676</td>\n",
       "      <td>0.286559</td>\n",
       "    </tr>\n",
       "    <tr>\n",
       "      <th>3. Probably not</th>\n",
       "      <td>0.252046</td>\n",
       "      <td>0.086606</td>\n",
       "      <td>0.045358</td>\n",
       "      <td>0.037927</td>\n",
       "      <td>0.119008</td>\n",
       "      <td>0.262838</td>\n",
       "      <td>0.228732</td>\n",
       "      <td>0.026667</td>\n",
       "      <td>0.100162</td>\n",
       "      <td>0.029570</td>\n",
       "    </tr>\n",
       "    <tr>\n",
       "      <th>4. Definitely not</th>\n",
       "      <td>0.163666</td>\n",
       "      <td>0.037655</td>\n",
       "      <td>0.018143</td>\n",
       "      <td>0.013889</td>\n",
       "      <td>0.041322</td>\n",
       "      <td>0.115958</td>\n",
       "      <td>0.162254</td>\n",
       "      <td>0.008533</td>\n",
       "      <td>0.023822</td>\n",
       "      <td>0.015054</td>\n",
       "    </tr>\n",
       "  </tbody>\n",
       "</table>\n",
       "</div>"
      ]
     },
     "execution_count": 7,
     "metadata": {},
     "output_type": "execute_result"
    }
   ],
   "execution_count": 7
  },
  {
   "metadata": {
    "ExecuteTime": {
     "end_time": "2024-08-01T11:54:48.970393Z",
     "start_time": "2024-08-01T11:54:48.911525Z"
    }
   },
   "cell_type": "code",
   "source": "nls97[nls97.maritalstatus=='Married'].filter(like='gov').apply(pd.value_counts, normalize=True)",
   "id": "3e85732a69e2c512",
   "outputs": [
    {
     "data": {
      "text/plain": [
       "                   govprovidejobs  govpricecontrols  govhealthcare  \\\n",
       "1. Definitely            0.173315          0.459864       0.564450   \n",
       "2. Probably              0.328748          0.380952       0.359566   \n",
       "3. Probably not          0.314993          0.112925       0.051560   \n",
       "4. Definitely not        0.182944          0.046259       0.024423   \n",
       "\n",
       "                   govelderliving  govindhelp  govunemp  govincomediff  \\\n",
       "1. Definitely            0.632293    0.372549  0.147265       0.258890   \n",
       "2. Probably              0.310719    0.445378  0.395512       0.273115   \n",
       "3. Probably not          0.037992    0.142857  0.328191       0.284495   \n",
       "4. Definitely not        0.018996    0.039216  0.129032       0.183499   \n",
       "\n",
       "                   govcollegefinance  govdecenthousing  govprotectenvironment  \n",
       "1. Definitely               0.695418          0.356354               0.644505  \n",
       "2. Probably                 0.261456          0.493094               0.313433  \n",
       "3. Probably not             0.033693          0.120166               0.028494  \n",
       "4. Definitely not           0.009434          0.030387               0.013569  "
      ],
      "text/html": [
       "<div>\n",
       "<style scoped>\n",
       "    .dataframe tbody tr th:only-of-type {\n",
       "        vertical-align: middle;\n",
       "    }\n",
       "\n",
       "    .dataframe tbody tr th {\n",
       "        vertical-align: top;\n",
       "    }\n",
       "\n",
       "    .dataframe thead th {\n",
       "        text-align: right;\n",
       "    }\n",
       "</style>\n",
       "<table border=\"1\" class=\"dataframe\">\n",
       "  <thead>\n",
       "    <tr style=\"text-align: right;\">\n",
       "      <th></th>\n",
       "      <th>govprovidejobs</th>\n",
       "      <th>govpricecontrols</th>\n",
       "      <th>govhealthcare</th>\n",
       "      <th>govelderliving</th>\n",
       "      <th>govindhelp</th>\n",
       "      <th>govunemp</th>\n",
       "      <th>govincomediff</th>\n",
       "      <th>govcollegefinance</th>\n",
       "      <th>govdecenthousing</th>\n",
       "      <th>govprotectenvironment</th>\n",
       "    </tr>\n",
       "  </thead>\n",
       "  <tbody>\n",
       "    <tr>\n",
       "      <th>1. Definitely</th>\n",
       "      <td>0.173315</td>\n",
       "      <td>0.459864</td>\n",
       "      <td>0.564450</td>\n",
       "      <td>0.632293</td>\n",
       "      <td>0.372549</td>\n",
       "      <td>0.147265</td>\n",
       "      <td>0.258890</td>\n",
       "      <td>0.695418</td>\n",
       "      <td>0.356354</td>\n",
       "      <td>0.644505</td>\n",
       "    </tr>\n",
       "    <tr>\n",
       "      <th>2. Probably</th>\n",
       "      <td>0.328748</td>\n",
       "      <td>0.380952</td>\n",
       "      <td>0.359566</td>\n",
       "      <td>0.310719</td>\n",
       "      <td>0.445378</td>\n",
       "      <td>0.395512</td>\n",
       "      <td>0.273115</td>\n",
       "      <td>0.261456</td>\n",
       "      <td>0.493094</td>\n",
       "      <td>0.313433</td>\n",
       "    </tr>\n",
       "    <tr>\n",
       "      <th>3. Probably not</th>\n",
       "      <td>0.314993</td>\n",
       "      <td>0.112925</td>\n",
       "      <td>0.051560</td>\n",
       "      <td>0.037992</td>\n",
       "      <td>0.142857</td>\n",
       "      <td>0.328191</td>\n",
       "      <td>0.284495</td>\n",
       "      <td>0.033693</td>\n",
       "      <td>0.120166</td>\n",
       "      <td>0.028494</td>\n",
       "    </tr>\n",
       "    <tr>\n",
       "      <th>4. Definitely not</th>\n",
       "      <td>0.182944</td>\n",
       "      <td>0.046259</td>\n",
       "      <td>0.024423</td>\n",
       "      <td>0.018996</td>\n",
       "      <td>0.039216</td>\n",
       "      <td>0.129032</td>\n",
       "      <td>0.183499</td>\n",
       "      <td>0.009434</td>\n",
       "      <td>0.030387</td>\n",
       "      <td>0.013569</td>\n",
       "    </tr>\n",
       "  </tbody>\n",
       "</table>\n",
       "</div>"
      ]
     },
     "execution_count": 8,
     "metadata": {},
     "output_type": "execute_result"
    }
   ],
   "execution_count": 8
  },
  {
   "metadata": {
    "ExecuteTime": {
     "end_time": "2024-08-01T12:00:30.677231Z",
     "start_time": "2024-08-01T12:00:30.502999Z"
    }
   },
   "cell_type": "code",
   "source": [
    "# 为所有列生成频率\n",
    "freqout = open('views/freqout.txt', 'w')\n",
    "for col in nls97.select_dtypes(include=['category']):\n",
    "    print(col, '------------------------', 'frequencies',\n",
    "          nls97[col].value_counts(sort=False), 'percentages', \n",
    "          nls97[col].value_counts(sort=False, normalize=True), \n",
    "    sep=\"\\n\\n\", end=\"\\n\\n\\n\", file=freqout)\n",
    "freqout.close()"
   ],
   "id": "a7ff2ea3685aad61",
   "outputs": [],
   "execution_count": 9
  },
  {
   "metadata": {
    "ExecuteTime": {
     "end_time": "2024-08-01T12:02:34.011377Z",
     "start_time": "2024-08-01T12:02:33.980618Z"
    }
   },
   "cell_type": "code",
   "source": [
    "for col in nls97.select_dtypes(include=['category']):\n",
    "    print(type(col))"
   ],
   "id": "a80509a83fb94c83",
   "outputs": [
    {
     "name": "stdout",
     "output_type": "stream",
     "text": [
      "<class 'str'>\n",
      "<class 'str'>\n",
      "<class 'str'>\n",
      "<class 'str'>\n",
      "<class 'str'>\n",
      "<class 'str'>\n",
      "<class 'str'>\n",
      "<class 'str'>\n",
      "<class 'str'>\n",
      "<class 'str'>\n",
      "<class 'str'>\n",
      "<class 'str'>\n",
      "<class 'str'>\n",
      "<class 'str'>\n",
      "<class 'str'>\n",
      "<class 'str'>\n",
      "<class 'str'>\n",
      "<class 'str'>\n",
      "<class 'str'>\n",
      "<class 'str'>\n",
      "<class 'str'>\n",
      "<class 'str'>\n",
      "<class 'str'>\n",
      "<class 'str'>\n",
      "<class 'str'>\n",
      "<class 'str'>\n",
      "<class 'str'>\n",
      "<class 'str'>\n",
      "<class 'str'>\n",
      "<class 'str'>\n",
      "<class 'str'>\n",
      "<class 'str'>\n",
      "<class 'str'>\n",
      "<class 'str'>\n",
      "<class 'str'>\n",
      "<class 'str'>\n",
      "<class 'str'>\n",
      "<class 'str'>\n",
      "<class 'str'>\n",
      "<class 'str'>\n",
      "<class 'str'>\n",
      "<class 'str'>\n",
      "<class 'str'>\n",
      "<class 'str'>\n",
      "<class 'str'>\n",
      "<class 'str'>\n",
      "<class 'str'>\n",
      "<class 'str'>\n",
      "<class 'str'>\n",
      "<class 'str'>\n",
      "<class 'str'>\n",
      "<class 'str'>\n",
      "<class 'str'>\n",
      "<class 'str'>\n",
      "<class 'str'>\n",
      "<class 'str'>\n",
      "<class 'str'>\n"
     ]
    }
   ],
   "execution_count": 12
  },
  {
   "metadata": {},
   "cell_type": "code",
   "outputs": [],
   "execution_count": null,
   "source": "",
   "id": "6b297e565f9badad"
  }
 ],
 "metadata": {
  "kernelspec": {
   "display_name": "Python 3",
   "language": "python",
   "name": "python3"
  },
  "language_info": {
   "codemirror_mode": {
    "name": "ipython",
    "version": 2
   },
   "file_extension": ".py",
   "mimetype": "text/x-python",
   "name": "python",
   "nbconvert_exporter": "python",
   "pygments_lexer": "ipython2",
   "version": "2.7.6"
  }
 },
 "nbformat": 4,
 "nbformat_minor": 5
}
