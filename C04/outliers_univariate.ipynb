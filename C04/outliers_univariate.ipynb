{
 "cells": [
  {
   "cell_type": "code",
   "id": "initial_id",
   "metadata": {
    "collapsed": true,
    "ExecuteTime": {
     "end_time": "2024-08-02T02:01:15.873602Z",
     "start_time": "2024-08-02T02:01:15.862617Z"
    }
   },
   "source": [
    "import pandas as pd\n",
    "import numpy as np\n",
    "import matplotlib.pyplot as plt\n",
    "import statsmodels.api as sm\n",
    "import scipy.stats as scistat"
   ],
   "outputs": [],
   "execution_count": 34
  },
  {
   "cell_type": "code",
   "id": "bff38f9fdd50021c",
   "metadata": {
    "ExecuteTime": {
     "end_time": "2024-08-02T02:01:16.888742Z",
     "start_time": "2024-08-02T02:01:16.877852Z"
    }
   },
   "source": [
    "pd.set_option('display.max_rows', 10)"
   ],
   "outputs": [],
   "execution_count": 35
  },
  {
   "cell_type": "code",
   "id": "57624c1d5c963ed4",
   "metadata": {
    "ExecuteTime": {
     "end_time": "2024-08-02T02:01:17.986031Z",
     "start_time": "2024-08-02T02:01:17.973538Z"
    }
   },
   "source": [
    "covidtotals = pd.read_csv('C:\\dataClean\\Python-Data-Cleaning-Cookbook\\Chapter04\\data\\covidtotals.csv')\n",
    "covidtotals.set_index('iso_code', inplace=True)\n",
    "totvars = ['location', 'total_cases', 'total_deaths', 'total_cases_pm', 'total_deaths_pm']\n",
    "demovars = ['population', 'pop_density', 'median_age', 'gdp_per_capita', 'hosp_beds']"
   ],
   "outputs": [],
   "execution_count": 36
  },
  {
   "cell_type": "code",
   "id": "186fce9d2101c962",
   "metadata": {
    "ExecuteTime": {
     "end_time": "2024-08-02T02:01:18.844283Z",
     "start_time": "2024-08-02T02:01:18.812836Z"
    }
   },
   "source": [
    "covidtotalsonly = covidtotals.loc[:, totvars]\n",
    "covidtotalsonly.describe()"
   ],
   "outputs": [
    {
     "data": {
      "text/plain": [
       "        total_cases   total_deaths  total_cases_pm  total_deaths_pm\n",
       "count  2.100000e+02     210.000000      210.000000       210.000000\n",
       "mean   2.921614e+04    1770.714286     1355.357943        55.659129\n",
       "std    1.363978e+05    8705.565857     2625.277497       144.785816\n",
       "min    0.000000e+00       0.000000        0.000000         0.000000\n",
       "25%    1.757500e+02       4.000000       92.541500         0.884750\n",
       "50%    1.242500e+03      25.500000      280.928500         6.154000\n",
       "75%    1.011700e+04     241.250000     1801.394750        31.777250\n",
       "max    1.790191e+06  104383.000000    19771.348000      1237.551000"
      ],
      "text/html": [
       "<div>\n",
       "<style scoped>\n",
       "    .dataframe tbody tr th:only-of-type {\n",
       "        vertical-align: middle;\n",
       "    }\n",
       "\n",
       "    .dataframe tbody tr th {\n",
       "        vertical-align: top;\n",
       "    }\n",
       "\n",
       "    .dataframe thead th {\n",
       "        text-align: right;\n",
       "    }\n",
       "</style>\n",
       "<table border=\"1\" class=\"dataframe\">\n",
       "  <thead>\n",
       "    <tr style=\"text-align: right;\">\n",
       "      <th></th>\n",
       "      <th>total_cases</th>\n",
       "      <th>total_deaths</th>\n",
       "      <th>total_cases_pm</th>\n",
       "      <th>total_deaths_pm</th>\n",
       "    </tr>\n",
       "  </thead>\n",
       "  <tbody>\n",
       "    <tr>\n",
       "      <th>count</th>\n",
       "      <td>2.100000e+02</td>\n",
       "      <td>210.000000</td>\n",
       "      <td>210.000000</td>\n",
       "      <td>210.000000</td>\n",
       "    </tr>\n",
       "    <tr>\n",
       "      <th>mean</th>\n",
       "      <td>2.921614e+04</td>\n",
       "      <td>1770.714286</td>\n",
       "      <td>1355.357943</td>\n",
       "      <td>55.659129</td>\n",
       "    </tr>\n",
       "    <tr>\n",
       "      <th>std</th>\n",
       "      <td>1.363978e+05</td>\n",
       "      <td>8705.565857</td>\n",
       "      <td>2625.277497</td>\n",
       "      <td>144.785816</td>\n",
       "    </tr>\n",
       "    <tr>\n",
       "      <th>min</th>\n",
       "      <td>0.000000e+00</td>\n",
       "      <td>0.000000</td>\n",
       "      <td>0.000000</td>\n",
       "      <td>0.000000</td>\n",
       "    </tr>\n",
       "    <tr>\n",
       "      <th>25%</th>\n",
       "      <td>1.757500e+02</td>\n",
       "      <td>4.000000</td>\n",
       "      <td>92.541500</td>\n",
       "      <td>0.884750</td>\n",
       "    </tr>\n",
       "    <tr>\n",
       "      <th>50%</th>\n",
       "      <td>1.242500e+03</td>\n",
       "      <td>25.500000</td>\n",
       "      <td>280.928500</td>\n",
       "      <td>6.154000</td>\n",
       "    </tr>\n",
       "    <tr>\n",
       "      <th>75%</th>\n",
       "      <td>1.011700e+04</td>\n",
       "      <td>241.250000</td>\n",
       "      <td>1801.394750</td>\n",
       "      <td>31.777250</td>\n",
       "    </tr>\n",
       "    <tr>\n",
       "      <th>max</th>\n",
       "      <td>1.790191e+06</td>\n",
       "      <td>104383.000000</td>\n",
       "      <td>19771.348000</td>\n",
       "      <td>1237.551000</td>\n",
       "    </tr>\n",
       "  </tbody>\n",
       "</table>\n",
       "</div>"
      ]
     },
     "execution_count": 37,
     "metadata": {},
     "output_type": "execute_result"
    }
   ],
   "execution_count": 37
  },
  {
   "cell_type": "code",
   "id": "8610d3ea00281a46",
   "metadata": {
    "ExecuteTime": {
     "end_time": "2024-08-02T02:01:19.828535Z",
     "start_time": "2024-08-02T02:01:19.799685Z"
    }
   },
   "source": [
    "# skewness偏度 kurtosis峰度\n",
    "covidtotalsonly.quantile(np.arange(0.0, 1.1, 0.1))"
   ],
   "outputs": [
    {
     "data": {
      "text/plain": [
       "     total_cases  total_deaths  total_cases_pm  total_deaths_pm\n",
       "0.0          0.0           0.0          0.0000           0.0000\n",
       "0.1         22.9           0.0         17.9986           0.0000\n",
       "0.2        105.2           2.0         56.2910           0.3752\n",
       "0.3        302.0           6.7        115.4341           1.7183\n",
       "0.4        762.0          12.0        213.9734           3.9566\n",
       "..           ...           ...             ...              ...\n",
       "0.6       2514.6          54.6        543.9562          12.2452\n",
       "0.7       6959.8         137.2       1071.2442          25.9459\n",
       "0.8      16847.2         323.2       2206.2982          49.9658\n",
       "0.9      46513.1        1616.9       3765.1363         138.9045\n",
       "1.0    1790191.0      104383.0      19771.3480        1237.5510\n",
       "\n",
       "[11 rows x 4 columns]"
      ],
      "text/html": [
       "<div>\n",
       "<style scoped>\n",
       "    .dataframe tbody tr th:only-of-type {\n",
       "        vertical-align: middle;\n",
       "    }\n",
       "\n",
       "    .dataframe tbody tr th {\n",
       "        vertical-align: top;\n",
       "    }\n",
       "\n",
       "    .dataframe thead th {\n",
       "        text-align: right;\n",
       "    }\n",
       "</style>\n",
       "<table border=\"1\" class=\"dataframe\">\n",
       "  <thead>\n",
       "    <tr style=\"text-align: right;\">\n",
       "      <th></th>\n",
       "      <th>total_cases</th>\n",
       "      <th>total_deaths</th>\n",
       "      <th>total_cases_pm</th>\n",
       "      <th>total_deaths_pm</th>\n",
       "    </tr>\n",
       "  </thead>\n",
       "  <tbody>\n",
       "    <tr>\n",
       "      <th>0.0</th>\n",
       "      <td>0.0</td>\n",
       "      <td>0.0</td>\n",
       "      <td>0.0000</td>\n",
       "      <td>0.0000</td>\n",
       "    </tr>\n",
       "    <tr>\n",
       "      <th>0.1</th>\n",
       "      <td>22.9</td>\n",
       "      <td>0.0</td>\n",
       "      <td>17.9986</td>\n",
       "      <td>0.0000</td>\n",
       "    </tr>\n",
       "    <tr>\n",
       "      <th>0.2</th>\n",
       "      <td>105.2</td>\n",
       "      <td>2.0</td>\n",
       "      <td>56.2910</td>\n",
       "      <td>0.3752</td>\n",
       "    </tr>\n",
       "    <tr>\n",
       "      <th>0.3</th>\n",
       "      <td>302.0</td>\n",
       "      <td>6.7</td>\n",
       "      <td>115.4341</td>\n",
       "      <td>1.7183</td>\n",
       "    </tr>\n",
       "    <tr>\n",
       "      <th>0.4</th>\n",
       "      <td>762.0</td>\n",
       "      <td>12.0</td>\n",
       "      <td>213.9734</td>\n",
       "      <td>3.9566</td>\n",
       "    </tr>\n",
       "    <tr>\n",
       "      <th>...</th>\n",
       "      <td>...</td>\n",
       "      <td>...</td>\n",
       "      <td>...</td>\n",
       "      <td>...</td>\n",
       "    </tr>\n",
       "    <tr>\n",
       "      <th>0.6</th>\n",
       "      <td>2514.6</td>\n",
       "      <td>54.6</td>\n",
       "      <td>543.9562</td>\n",
       "      <td>12.2452</td>\n",
       "    </tr>\n",
       "    <tr>\n",
       "      <th>0.7</th>\n",
       "      <td>6959.8</td>\n",
       "      <td>137.2</td>\n",
       "      <td>1071.2442</td>\n",
       "      <td>25.9459</td>\n",
       "    </tr>\n",
       "    <tr>\n",
       "      <th>0.8</th>\n",
       "      <td>16847.2</td>\n",
       "      <td>323.2</td>\n",
       "      <td>2206.2982</td>\n",
       "      <td>49.9658</td>\n",
       "    </tr>\n",
       "    <tr>\n",
       "      <th>0.9</th>\n",
       "      <td>46513.1</td>\n",
       "      <td>1616.9</td>\n",
       "      <td>3765.1363</td>\n",
       "      <td>138.9045</td>\n",
       "    </tr>\n",
       "    <tr>\n",
       "      <th>1.0</th>\n",
       "      <td>1790191.0</td>\n",
       "      <td>104383.0</td>\n",
       "      <td>19771.3480</td>\n",
       "      <td>1237.5510</td>\n",
       "    </tr>\n",
       "  </tbody>\n",
       "</table>\n",
       "<p>11 rows × 4 columns</p>\n",
       "</div>"
      ]
     },
     "execution_count": 38,
     "metadata": {},
     "output_type": "execute_result"
    }
   ],
   "execution_count": 38
  },
  {
   "cell_type": "code",
   "id": "ca1bf9d051ec0606",
   "metadata": {
    "ExecuteTime": {
     "end_time": "2024-08-02T02:01:20.931155Z",
     "start_time": "2024-08-02T02:01:20.915103Z"
    }
   },
   "source": "covidtotalsonly.skew()             # 正值表示右偏，负值表示左偏",
   "outputs": [
    {
     "data": {
      "text/plain": [
       "total_cases        10.804275\n",
       "total_deaths        8.929816\n",
       "total_cases_pm      4.396091\n",
       "total_deaths_pm     4.674417\n",
       "dtype: float64"
      ]
     },
     "execution_count": 39,
     "metadata": {},
     "output_type": "execute_result"
    }
   ],
   "execution_count": 39
  },
  {
   "cell_type": "code",
   "id": "74136f7e128dfeac",
   "metadata": {
    "ExecuteTime": {
     "end_time": "2024-08-02T02:01:21.753009Z",
     "start_time": "2024-08-02T02:01:21.730885Z"
    }
   },
   "source": [
    "covidtotalsonly.kurtosis()"
   ],
   "outputs": [
    {
     "data": {
      "text/plain": [
       "total_cases        134.979577\n",
       "total_deaths        95.737841\n",
       "total_cases_pm      25.242790\n",
       "total_deaths_pm     27.238232\n",
       "dtype: float64"
      ]
     },
     "execution_count": 40,
     "metadata": {},
     "output_type": "execute_result"
    }
   ],
   "execution_count": 40
  },
  {
   "cell_type": "code",
   "id": "bb7e576192e294c5",
   "metadata": {
    "ExecuteTime": {
     "end_time": "2024-08-02T02:01:22.618069Z",
     "start_time": "2024-08-02T02:01:22.599875Z"
    }
   },
   "source": [
    "# scipy库中的Shapiro-Wilk测试\n",
    "def testnorm(var, df):\n",
    "    stat, p = scistat.shapiro(df[var])\n",
    "    return p\n",
    "testnorm('total_cases', covidtotalsonly)"
   ],
   "outputs": [
    {
     "data": {
      "text/plain": [
       "3.753789128593843e-29"
      ]
     },
     "execution_count": 41,
     "metadata": {},
     "output_type": "execute_result"
    }
   ],
   "execution_count": 41
  },
  {
   "cell_type": "code",
   "id": "453fcd34a7d9696b",
   "metadata": {
    "ExecuteTime": {
     "end_time": "2024-08-02T02:01:23.624800Z",
     "start_time": "2024-08-02T02:01:23.457373Z"
    }
   },
   "source": [
    "sm.qqplot(covidtotalsonly[['total_cases']].sort_values(['total_cases']), line='s')\n",
    "plt.title(\"QQ plot of total cases\")\n",
    "sm.qqplot(covidtotals[['total_cases_pm']].sort_values(['total_cases_pm']), line='s')\n",
    "plt.title(\"QQ plot of total cases pm\")\n",
    "plt.show()"
   ],
   "outputs": [
    {
     "data": {
      "text/plain": [
       "<Figure size 640x480 with 1 Axes>"
      ],
      "image/png": "[encoded data removed]"
     },
     "metadata": {},
     "output_type": "display_data"
    },
    {
     "data": {
      "text/plain": [
       "<Figure size 640x480 with 1 Axes>"
      ],
      "image/png": "[encoded data removed]"
     },
     "metadata": {},
     "output_type": "display_data"
    }
   ],
   "execution_count": 42
  },
  {
   "cell_type": "markdown",
   "id": "848b18196c8ad9d2",
   "metadata": {},
   "source": [
    "如上，直线显示的是正态分布"
   ]
  },
  {
   "cell_type": "code",
   "id": "53bbfa602c6e9118",
   "metadata": {
    "ExecuteTime": {
     "end_time": "2024-08-02T02:01:25.141435Z",
     "start_time": "2024-08-02T02:01:25.131461Z"
    }
   },
   "source": [
    "# 四分位数法界定离群值\n",
    "thirdq, firstq = covidtotalsonly.total_cases.quantile(0.75), covidtotalsonly.total_cases.quantile(0.25)\n",
    "interquartilerange = 1.5 * (thirdq-firstq)\n",
    "outlierhigh, outlierlow = interquartilerange + thirdq, firstq - interquartilerange\n",
    "print(outlierlow, outlierhigh, sep='<-->')"
   ],
   "outputs": [
    {
     "name": "stdout",
     "output_type": "stream",
     "text": [
      "-14736.125<-->25028.875\n"
     ]
    }
   ],
   "execution_count": 43
  },
  {
   "cell_type": "code",
   "id": "112c15c8e3317ea1",
   "metadata": {
    "ExecuteTime": {
     "end_time": "2024-08-02T02:01:34.199768Z",
     "start_time": "2024-08-02T02:01:34.187249Z"
    }
   },
   "source": [
    "def getoutliers():\n",
    "    dfout = pd.DataFrame(columns=covidtotals.columns, data=None)\n",
    "    for col in covidtotalsonly.columns[1:]:\n",
    "        thirdq, firstq = covidtotalsonly.total_cases.quantile(0.75), covidtotalsonly.total_cases.quantile(0.25)\n",
    "        interquartilerange = 1.5 * (thirdq-firstq)\n",
    "        outlierhigh, outlierlow = interquartilerange + thirdq, firstq - interquartilerange\n",
    "        df = covidtotals.loc[(covidtotals[col] > outlierhigh) | (covidtotalsonly[col] < outlierlow)]\n",
    "        df = df.assign(varname = col, threshlow = outlierlow, threshhigh = outlierhigh)     # 记录哪个列出现问题\n",
    "        dfout = pd.concat([dfout, df])\n",
    "    return dfout"
   ],
   "outputs": [],
   "execution_count": 44
  },
  {
   "cell_type": "code",
   "id": "21bbea3a6c2d864f",
   "metadata": {
    "ExecuteTime": {
     "end_time": "2024-08-02T02:01:35.183925Z",
     "start_time": "2024-08-02T02:01:35.155502Z"
    }
   },
   "source": "outliers = getoutliers()",
   "outputs": [],
   "execution_count": 45
  },
  {
   "metadata": {
    "ExecuteTime": {
     "end_time": "2024-08-02T02:01:59.971770Z",
     "start_time": "2024-08-02T02:01:59.952391Z"
    }
   },
   "cell_type": "code",
   "source": "outliers.varname.value_counts()",
   "id": "918926c4d39fb02c",
   "outputs": [
    {
     "data": {
      "text/plain": [
       "total_cases     33\n",
       "total_deaths     6\n",
       "Name: varname, dtype: int64"
      ]
     },
     "execution_count": 50,
     "metadata": {},
     "output_type": "execute_result"
    }
   ],
   "execution_count": 50
  },
  {
   "cell_type": "code",
   "id": "3b43733b2ec89e8e",
   "metadata": {
    "ExecuteTime": {
     "end_time": "2024-08-02T02:01:38.012615Z",
     "start_time": "2024-08-02T02:01:37.995428Z"
    }
   },
   "source": [
    "for col in covidtotalsonly.columns[1:]:            # 索引iso_code不算0列\n",
    "    print(col)"
   ],
   "outputs": [
    {
     "name": "stdout",
     "output_type": "stream",
     "text": [
      "total_cases\n",
      "total_deaths\n",
      "total_cases_pm\n",
      "total_deaths_pm\n"
     ]
    }
   ],
   "execution_count": 47
  },
  {
   "cell_type": "code",
   "id": "d6b185f46f1ea5f2",
   "metadata": {
    "ExecuteTime": {
     "end_time": "2024-08-02T02:01:39.711079Z",
     "start_time": "2024-08-02T02:01:39.695378Z"
    }
   },
   "source": [
    "covidtotalsonly.columns"
   ],
   "outputs": [
    {
     "data": {
      "text/plain": [
       "Index(['location', 'total_cases', 'total_deaths', 'total_cases_pm',\n",
       "       'total_deaths_pm'],\n",
       "      dtype='object')"
      ]
     },
     "execution_count": 48,
     "metadata": {},
     "output_type": "execute_result"
    }
   ],
   "execution_count": 48
  },
  {
   "cell_type": "code",
   "id": "7f6531e5a42ba561",
   "metadata": {
    "ExecuteTime": {
     "end_time": "2024-08-02T02:01:40.460198Z",
     "start_time": "2024-08-02T02:01:40.445512Z"
    }
   },
   "source": [
    "covidtotalsonly"
   ],
   "outputs": [
    {
     "data": {
      "text/plain": [
       "                location  total_cases  total_deaths  total_cases_pm  \\\n",
       "iso_code                                                              \n",
       "AFG          Afghanistan        15205           257         390.589   \n",
       "ALB              Albania         1137            33         395.093   \n",
       "DZA              Algeria         9394           653         214.225   \n",
       "AND              Andorra          764            51        9888.048   \n",
       "AGO               Angola           86             4           2.617   \n",
       "...                  ...          ...           ...             ...   \n",
       "VNM              Vietnam          328             0           3.370   \n",
       "ESH       Western Sahara           23             1          38.505   \n",
       "YEM                Yemen          323            80          10.829   \n",
       "ZMB               Zambia         1057             7          57.496   \n",
       "ZWE             Zimbabwe          178             4          11.976   \n",
       "\n",
       "          total_deaths_pm  \n",
       "iso_code                   \n",
       "AFG                 6.602  \n",
       "ALB                11.467  \n",
       "DZA                14.891  \n",
       "AND               660.066  \n",
       "AGO                 0.122  \n",
       "...                   ...  \n",
       "VNM                 0.000  \n",
       "ESH                 1.674  \n",
       "YEM                 2.682  \n",
       "ZMB                 0.381  \n",
       "ZWE                 0.269  \n",
       "\n",
       "[210 rows x 5 columns]"
      ],
      "text/html": [
       "<div>\n",
       "<style scoped>\n",
       "    .dataframe tbody tr th:only-of-type {\n",
       "        vertical-align: middle;\n",
       "    }\n",
       "\n",
       "    .dataframe tbody tr th {\n",
       "        vertical-align: top;\n",
       "    }\n",
       "\n",
       "    .dataframe thead th {\n",
       "        text-align: right;\n",
       "    }\n",
       "</style>\n",
       "<table border=\"1\" class=\"dataframe\">\n",
       "  <thead>\n",
       "    <tr style=\"text-align: right;\">\n",
       "      <th></th>\n",
       "      <th>location</th>\n",
       "      <th>total_cases</th>\n",
       "      <th>total_deaths</th>\n",
       "      <th>total_cases_pm</th>\n",
       "      <th>total_deaths_pm</th>\n",
       "    </tr>\n",
       "    <tr>\n",
       "      <th>iso_code</th>\n",
       "      <th></th>\n",
       "      <th></th>\n",
       "      <th></th>\n",
       "      <th></th>\n",
       "      <th></th>\n",
       "    </tr>\n",
       "  </thead>\n",
       "  <tbody>\n",
       "    <tr>\n",
       "      <th>AFG</th>\n",
       "      <td>Afghanistan</td>\n",
       "      <td>15205</td>\n",
       "      <td>257</td>\n",
       "      <td>390.589</td>\n",
       "      <td>6.602</td>\n",
       "    </tr>\n",
       "    <tr>\n",
       "      <th>ALB</th>\n",
       "      <td>Albania</td>\n",
       "      <td>1137</td>\n",
       "      <td>33</td>\n",
       "      <td>395.093</td>\n",
       "      <td>11.467</td>\n",
       "    </tr>\n",
       "    <tr>\n",
       "      <th>DZA</th>\n",
       "      <td>Algeria</td>\n",
       "      <td>9394</td>\n",
       "      <td>653</td>\n",
       "      <td>214.225</td>\n",
       "      <td>14.891</td>\n",
       "    </tr>\n",
       "    <tr>\n",
       "      <th>AND</th>\n",
       "      <td>Andorra</td>\n",
       "      <td>764</td>\n",
       "      <td>51</td>\n",
       "      <td>9888.048</td>\n",
       "      <td>660.066</td>\n",
       "    </tr>\n",
       "    <tr>\n",
       "      <th>AGO</th>\n",
       "      <td>Angola</td>\n",
       "      <td>86</td>\n",
       "      <td>4</td>\n",
       "      <td>2.617</td>\n",
       "      <td>0.122</td>\n",
       "    </tr>\n",
       "    <tr>\n",
       "      <th>...</th>\n",
       "      <td>...</td>\n",
       "      <td>...</td>\n",
       "      <td>...</td>\n",
       "      <td>...</td>\n",
       "      <td>...</td>\n",
       "    </tr>\n",
       "    <tr>\n",
       "      <th>VNM</th>\n",
       "      <td>Vietnam</td>\n",
       "      <td>328</td>\n",
       "      <td>0</td>\n",
       "      <td>3.370</td>\n",
       "      <td>0.000</td>\n",
       "    </tr>\n",
       "    <tr>\n",
       "      <th>ESH</th>\n",
       "      <td>Western Sahara</td>\n",
       "      <td>23</td>\n",
       "      <td>1</td>\n",
       "      <td>38.505</td>\n",
       "      <td>1.674</td>\n",
       "    </tr>\n",
       "    <tr>\n",
       "      <th>YEM</th>\n",
       "      <td>Yemen</td>\n",
       "      <td>323</td>\n",
       "      <td>80</td>\n",
       "      <td>10.829</td>\n",
       "      <td>2.682</td>\n",
       "    </tr>\n",
       "    <tr>\n",
       "      <th>ZMB</th>\n",
       "      <td>Zambia</td>\n",
       "      <td>1057</td>\n",
       "      <td>7</td>\n",
       "      <td>57.496</td>\n",
       "      <td>0.381</td>\n",
       "    </tr>\n",
       "    <tr>\n",
       "      <th>ZWE</th>\n",
       "      <td>Zimbabwe</td>\n",
       "      <td>178</td>\n",
       "      <td>4</td>\n",
       "      <td>11.976</td>\n",
       "      <td>0.269</td>\n",
       "    </tr>\n",
       "  </tbody>\n",
       "</table>\n",
       "<p>210 rows × 5 columns</p>\n",
       "</div>"
      ]
     },
     "execution_count": 49,
     "metadata": {},
     "output_type": "execute_result"
    }
   ],
   "execution_count": 49
  },
  {
   "cell_type": "code",
   "id": "4520da950708aa43",
   "metadata": {
    "ExecuteTime": {
     "end_time": "2024-08-02T01:48:04.042073Z",
     "start_time": "2024-08-02T01:48:03.780137Z"
    }
   },
   "source": "outliers.to_excel(\"views/outlierscases.xlsx\")",
   "outputs": [],
   "execution_count": 28
  },
  {
   "metadata": {
    "ExecuteTime": {
     "end_time": "2024-08-02T01:59:38.973519Z",
     "start_time": "2024-08-02T01:59:38.945126Z"
    }
   },
   "cell_type": "code",
   "source": "outliers.loc[outliers.varname==\"total_cases\", ['location', 'total_cases_pm', 'pop_density', 'gdp_per_capita']].sort_values(['total_cases_pm'], ascending=False)",
   "id": "afcb630af4ad7de5",
   "outputs": [
    {
     "data": {
      "text/plain": [
       "          location  total_cases_pm  pop_density  gdp_per_capita\n",
       "QAT          Qatar       19753.146      227.322      116935.600\n",
       "KWT         Kuwait        6332.420      232.128       65530.537\n",
       "SGP      Singapore        5962.727     7915.731       85535.383\n",
       "USA  United States        5408.389       35.608       54225.446\n",
       "CHL          Chile        5214.841       24.282       22767.037\n",
       "..             ...             ...          ...             ...\n",
       "PAK       Pakistan         328.033      255.573        5034.708\n",
       "BGD     Bangladesh         286.315     1265.036        3523.984\n",
       "IND          India         138.068      450.419        6426.674\n",
       "IDN      Indonesia          96.785      145.725       11188.744\n",
       "CHN          China          58.463      147.674       15308.712\n",
       "\n",
       "[33 rows x 4 columns]"
      ],
      "text/html": [
       "<div>\n",
       "<style scoped>\n",
       "    .dataframe tbody tr th:only-of-type {\n",
       "        vertical-align: middle;\n",
       "    }\n",
       "\n",
       "    .dataframe tbody tr th {\n",
       "        vertical-align: top;\n",
       "    }\n",
       "\n",
       "    .dataframe thead th {\n",
       "        text-align: right;\n",
       "    }\n",
       "</style>\n",
       "<table border=\"1\" class=\"dataframe\">\n",
       "  <thead>\n",
       "    <tr style=\"text-align: right;\">\n",
       "      <th></th>\n",
       "      <th>location</th>\n",
       "      <th>total_cases_pm</th>\n",
       "      <th>pop_density</th>\n",
       "      <th>gdp_per_capita</th>\n",
       "    </tr>\n",
       "  </thead>\n",
       "  <tbody>\n",
       "    <tr>\n",
       "      <th>QAT</th>\n",
       "      <td>Qatar</td>\n",
       "      <td>19753.146</td>\n",
       "      <td>227.322</td>\n",
       "      <td>116935.600</td>\n",
       "    </tr>\n",
       "    <tr>\n",
       "      <th>KWT</th>\n",
       "      <td>Kuwait</td>\n",
       "      <td>6332.420</td>\n",
       "      <td>232.128</td>\n",
       "      <td>65530.537</td>\n",
       "    </tr>\n",
       "    <tr>\n",
       "      <th>SGP</th>\n",
       "      <td>Singapore</td>\n",
       "      <td>5962.727</td>\n",
       "      <td>7915.731</td>\n",
       "      <td>85535.383</td>\n",
       "    </tr>\n",
       "    <tr>\n",
       "      <th>USA</th>\n",
       "      <td>United States</td>\n",
       "      <td>5408.389</td>\n",
       "      <td>35.608</td>\n",
       "      <td>54225.446</td>\n",
       "    </tr>\n",
       "    <tr>\n",
       "      <th>CHL</th>\n",
       "      <td>Chile</td>\n",
       "      <td>5214.841</td>\n",
       "      <td>24.282</td>\n",
       "      <td>22767.037</td>\n",
       "    </tr>\n",
       "    <tr>\n",
       "      <th>...</th>\n",
       "      <td>...</td>\n",
       "      <td>...</td>\n",
       "      <td>...</td>\n",
       "      <td>...</td>\n",
       "    </tr>\n",
       "    <tr>\n",
       "      <th>PAK</th>\n",
       "      <td>Pakistan</td>\n",
       "      <td>328.033</td>\n",
       "      <td>255.573</td>\n",
       "      <td>5034.708</td>\n",
       "    </tr>\n",
       "    <tr>\n",
       "      <th>BGD</th>\n",
       "      <td>Bangladesh</td>\n",
       "      <td>286.315</td>\n",
       "      <td>1265.036</td>\n",
       "      <td>3523.984</td>\n",
       "    </tr>\n",
       "    <tr>\n",
       "      <th>IND</th>\n",
       "      <td>India</td>\n",
       "      <td>138.068</td>\n",
       "      <td>450.419</td>\n",
       "      <td>6426.674</td>\n",
       "    </tr>\n",
       "    <tr>\n",
       "      <th>IDN</th>\n",
       "      <td>Indonesia</td>\n",
       "      <td>96.785</td>\n",
       "      <td>145.725</td>\n",
       "      <td>11188.744</td>\n",
       "    </tr>\n",
       "    <tr>\n",
       "      <th>CHN</th>\n",
       "      <td>China</td>\n",
       "      <td>58.463</td>\n",
       "      <td>147.674</td>\n",
       "      <td>15308.712</td>\n",
       "    </tr>\n",
       "  </tbody>\n",
       "</table>\n",
       "<p>33 rows × 4 columns</p>\n",
       "</div>"
      ]
     },
     "execution_count": 33,
     "metadata": {},
     "output_type": "execute_result"
    }
   ],
   "execution_count": 33
  },
  {
   "metadata": {
    "ExecuteTime": {
     "end_time": "2024-08-02T02:04:00.342135Z",
     "start_time": "2024-08-02T02:04:00.233880Z"
    }
   },
   "cell_type": "code",
   "source": [
    "plt.hist(covidtotalsonly['total_cases']/1000, bins=7)\n",
    "plt.title(\"total cases (thousand)\")\n",
    "plt.xlabel('Cases')\n",
    "plt.ylabel('Number of Countries')\n",
    "plt.show()"
   ],
   "id": "c1d77ec723fb3f81",
   "outputs": [
    {
     "data": {
      "text/plain": [
       "<Figure size 640x480 with 1 Axes>"
      ],
      "image/png": "[encoded data removed]"
     },
     "metadata": {},
     "output_type": "display_data"
    }
   ],
   "execution_count": 51
  },
  {
   "metadata": {
    "ExecuteTime": {
     "end_time": "2024-08-02T02:04:40.488474Z",
     "start_time": "2024-08-02T02:04:40.474735Z"
    }
   },
   "cell_type": "code",
   "source": "covidlogs = covidtotalsonly.copy()",
   "id": "6f79251af65cd635",
   "outputs": [],
   "execution_count": 52
  },
  {
   "metadata": {
    "ExecuteTime": {
     "end_time": "2024-08-02T02:07:02.379523Z",
     "start_time": "2024-08-02T02:07:02.266620Z"
    }
   },
   "cell_type": "code",
   "source": [
    "for col in covidtotalsonly.columns[1:]:\n",
    "    covidlogs[col] = np.log1p(covidlogs[col])\n",
    "plt.hist(covidlogs['total_cases'], bins=7)\n",
    "plt.title('total cases(log)')\n",
    "plt.xlabel('Cases')\n",
    "plt.ylabel('Number of countries')\n",
    "plt.show()"
   ],
   "id": "95d2314ffd172be7",
   "outputs": [
    {
     "data": {
      "text/plain": [
       "<Figure size 640x480 with 1 Axes>"
      ],
      "image/png": "[encoded data removed]"
     },
     "metadata": {},
     "output_type": "display_data"
    }
   ],
   "execution_count": 54
  },
  {
   "metadata": {},
   "cell_type": "code",
   "outputs": [],
   "execution_count": null,
   "source": "",
   "id": "573883daf6499874"
  }
 ],
 "metadata": {
  "kernelspec": {
   "display_name": "Python 3 (ipykernel)",
   "language": "python",
   "name": "python3"
  },
  "language_info": {
   "codemirror_mode": {
    "name": "ipython",
    "version": 3
   },
   "file_extension": ".py",
   "mimetype": "text/x-python",
   "name": "python",
   "nbconvert_exporter": "python",
   "pygments_lexer": "ipython3",
   "version": "3.7.1"
  }
 },
 "nbformat": 4,
 "nbformat_minor": 5
}
